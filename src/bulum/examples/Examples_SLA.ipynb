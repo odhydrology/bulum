{
 "cells": [
  {
   "cell_type": "code",
   "execution_count": 38,
   "metadata": {},
   "outputs": [],
   "source": [
    "import bulum.io as oio\n",
    "import bulum.stats as ost\n",
    "import bulum.plots as opl"
   ]
  },
  {
   "cell_type": "markdown",
   "metadata": {},
   "source": [
    "## <span style='color:midnightblue'> Storage Level Assessment</span>"
   ]
  },
  {
   "cell_type": "markdown",
   "metadata": {},
   "source": [
    "<div class=\"alert alert-block alert-success\">\n",
    "Sections below show indicative results available when using the StorageLevelAssessment program.\n",
    "</div>"
   ]
  },
  {
   "cell_type": "code",
   "execution_count": 39,
   "metadata": {},
   "outputs": [],
   "source": [
    "#GB_Hist_2050_01b_StormKingDam.in\n",
    "triggers=[400,655,1090,1530]\n",
    "\n",
    "df = oio.read_ts_csv(\"../stats/tests/test_storage_data.csv\")[\"Storage\\\\0013 Storm King Dam\\Storage Volume (ML)\"]\n",
    "\n",
    "sla = ost.StorageLevelAssessment(df,triggers,wy_month=7,allow_part_years=False)"
   ]
  },
  {
   "cell_type": "markdown",
   "metadata": {},
   "source": [
    "### <span style='color:midnightblue'> Assessment summary </span>"
   ]
  },
  {
   "cell_type": "markdown",
   "metadata": {},
   "source": [
    "<div class=\"alert alert-block alert-success\">\n",
    "Typical metrics are summarised by trigger in a table\n",
    "</div>"
   ]
  },
  {
   "cell_type": "code",
   "execution_count": 40,
   "metadata": {},
   "outputs": [
    {
     "data": {
      "text/html": [
       "<div>\n",
       "<style scoped>\n",
       "    .dataframe tbody tr th:only-of-type {\n",
       "        vertical-align: middle;\n",
       "    }\n",
       "\n",
       "    .dataframe tbody tr th {\n",
       "        vertical-align: top;\n",
       "    }\n",
       "\n",
       "    .dataframe thead th {\n",
       "        text-align: right;\n",
       "    }\n",
       "</style>\n",
       "<table border=\"1\" class=\"dataframe\">\n",
       "  <thead>\n",
       "    <tr style=\"text-align: right;\">\n",
       "      <th></th>\n",
       "      <th>Column name</th>\n",
       "      <th>Start date</th>\n",
       "      <th>End date</th>\n",
       "      <th>Number water years with at least 1 day at or below level</th>\n",
       "      <th>Percentage water years with at least 1 day at or below level</th>\n",
       "      <th>Number of events at or below trigger (&gt;=1day)</th>\n",
       "      <th>Number of events at or below trigger (&gt;=7days)</th>\n",
       "      <th>Number of events at or below trigger (&gt;=30days)</th>\n",
       "      <th>Number of events at or below trigger (&gt;=91days)</th>\n",
       "      <th>Number of events at or below trigger (&gt;=183days)</th>\n",
       "      <th>Number of events at or below trigger (&gt;=365days)</th>\n",
       "      <th>Longest period at or below trigger (days)</th>\n",
       "    </tr>\n",
       "  </thead>\n",
       "  <tbody>\n",
       "    <tr>\n",
       "      <th>400</th>\n",
       "      <td>Storage\\0013 Storm King Dam\\Storage Volume (ML)</td>\n",
       "      <td>1889-07-01</td>\n",
       "      <td>2019-06-30</td>\n",
       "      <td>5</td>\n",
       "      <td>0.038462</td>\n",
       "      <td>6</td>\n",
       "      <td>5</td>\n",
       "      <td>4</td>\n",
       "      <td>2</td>\n",
       "      <td>1</td>\n",
       "      <td>0</td>\n",
       "      <td>289</td>\n",
       "    </tr>\n",
       "    <tr>\n",
       "      <th>655</th>\n",
       "      <td>Storage\\0013 Storm King Dam\\Storage Volume (ML)</td>\n",
       "      <td>1889-07-01</td>\n",
       "      <td>2019-06-30</td>\n",
       "      <td>8</td>\n",
       "      <td>0.061538</td>\n",
       "      <td>7</td>\n",
       "      <td>7</td>\n",
       "      <td>6</td>\n",
       "      <td>5</td>\n",
       "      <td>3</td>\n",
       "      <td>1</td>\n",
       "      <td>411</td>\n",
       "    </tr>\n",
       "    <tr>\n",
       "      <th>1090</th>\n",
       "      <td>Storage\\0013 Storm King Dam\\Storage Volume (ML)</td>\n",
       "      <td>1889-07-01</td>\n",
       "      <td>2019-06-30</td>\n",
       "      <td>30</td>\n",
       "      <td>0.230769</td>\n",
       "      <td>32</td>\n",
       "      <td>25</td>\n",
       "      <td>19</td>\n",
       "      <td>10</td>\n",
       "      <td>6</td>\n",
       "      <td>2</td>\n",
       "      <td>809</td>\n",
       "    </tr>\n",
       "    <tr>\n",
       "      <th>1530</th>\n",
       "      <td>Storage\\0013 Storm King Dam\\Storage Volume (ML)</td>\n",
       "      <td>1889-07-01</td>\n",
       "      <td>2019-06-30</td>\n",
       "      <td>61</td>\n",
       "      <td>0.469231</td>\n",
       "      <td>49</td>\n",
       "      <td>41</td>\n",
       "      <td>36</td>\n",
       "      <td>31</td>\n",
       "      <td>16</td>\n",
       "      <td>7</td>\n",
       "      <td>1167</td>\n",
       "    </tr>\n",
       "  </tbody>\n",
       "</table>\n",
       "</div>"
      ],
      "text/plain": [
       "                                          Column name Start date   End date  \\\n",
       "400   Storage\\0013 Storm King Dam\\Storage Volume (ML) 1889-07-01 2019-06-30   \n",
       "655   Storage\\0013 Storm King Dam\\Storage Volume (ML) 1889-07-01 2019-06-30   \n",
       "1090  Storage\\0013 Storm King Dam\\Storage Volume (ML) 1889-07-01 2019-06-30   \n",
       "1530  Storage\\0013 Storm King Dam\\Storage Volume (ML) 1889-07-01 2019-06-30   \n",
       "\n",
       "      Number water years with at least 1 day at or below level  \\\n",
       "400                                                   5          \n",
       "655                                                   8          \n",
       "1090                                                 30          \n",
       "1530                                                 61          \n",
       "\n",
       "      Percentage water years with at least 1 day at or below level  \\\n",
       "400                                            0.038462              \n",
       "655                                            0.061538              \n",
       "1090                                           0.230769              \n",
       "1530                                           0.469231              \n",
       "\n",
       "      Number of events at or below trigger (>=1day)  \\\n",
       "400                                               6   \n",
       "655                                               7   \n",
       "1090                                             32   \n",
       "1530                                             49   \n",
       "\n",
       "      Number of events at or below trigger (>=7days)  \\\n",
       "400                                                5   \n",
       "655                                                7   \n",
       "1090                                              25   \n",
       "1530                                              41   \n",
       "\n",
       "      Number of events at or below trigger (>=30days)  \\\n",
       "400                                                 4   \n",
       "655                                                 6   \n",
       "1090                                               19   \n",
       "1530                                               36   \n",
       "\n",
       "      Number of events at or below trigger (>=91days)  \\\n",
       "400                                                 2   \n",
       "655                                                 5   \n",
       "1090                                               10   \n",
       "1530                                               31   \n",
       "\n",
       "      Number of events at or below trigger (>=183days)  \\\n",
       "400                                                  1   \n",
       "655                                                  3   \n",
       "1090                                                 6   \n",
       "1530                                                16   \n",
       "\n",
       "      Number of events at or below trigger (>=365days)  \\\n",
       "400                                                  0   \n",
       "655                                                  1   \n",
       "1090                                                 2   \n",
       "1530                                                 7   \n",
       "\n",
       "      Longest period at or below trigger (days)  \n",
       "400                                         289  \n",
       "655                                         411  \n",
       "1090                                        809  \n",
       "1530                                       1167  "
      ]
     },
     "execution_count": 40,
     "metadata": {},
     "output_type": "execute_result"
    }
   ],
   "source": [
    "sla.Summary()"
   ]
  },
  {
   "cell_type": "markdown",
   "metadata": {},
   "source": [
    "<div class=\"alert alert-block alert-success\">\n",
    "Alternatively, only show outcomes for a single trigger (multiple methods)\n",
    "</div>"
   ]
  },
  {
   "cell_type": "markdown",
   "metadata": {},
   "source": [
    "#### Method 1"
   ]
  },
  {
   "cell_type": "code",
   "execution_count": 41,
   "metadata": {},
   "outputs": [
    {
     "data": {
      "text/plain": [
       "Column name                                                     Storage\\0013 Storm King Dam\\Storage Volume (ML)\n",
       "Start date                                                                                  1889-07-01 00:00:00\n",
       "End date                                                                                    2019-06-30 00:00:00\n",
       "Number water years with at least 1 day at or below level                                                      8\n",
       "Percentage water years with at least 1 day at or below level                                           0.061538\n",
       "Number of events at or below trigger (>=1day)                                                                 7\n",
       "Number of events at or below trigger (>=7days)                                                                7\n",
       "Number of events at or below trigger (>=30days)                                                               6\n",
       "Number of events at or below trigger (>=91days)                                                               5\n",
       "Number of events at or below trigger (>=183days)                                                              3\n",
       "Number of events at or below trigger (>=365days)                                                              1\n",
       "Longest period at or below trigger (days)                                                                   411\n",
       "Name: 655, dtype: object"
      ]
     },
     "execution_count": 41,
     "metadata": {},
     "output_type": "execute_result"
    }
   ],
   "source": [
    "# Show summary for single (or list of ) trigger\n",
    "sla.Summary(trigger=655)\n",
    "# OR"
   ]
  },
  {
   "cell_type": "markdown",
   "metadata": {},
   "source": [
    "#### Method 2"
   ]
  },
  {
   "cell_type": "code",
   "execution_count": 42,
   "metadata": {},
   "outputs": [
    {
     "data": {
      "text/plain": [
       "Column name                                                     Storage\\0013 Storm King Dam\\Storage Volume (ML)\n",
       "Start date                                                                                  1889-07-01 00:00:00\n",
       "End date                                                                                    2019-06-30 00:00:00\n",
       "Number water years with at least 1 day at or below level                                                      8\n",
       "Percentage water years with at least 1 day at or below level                                           0.061538\n",
       "Number of events at or below trigger (>=1day)                                                                 7\n",
       "Number of events at or below trigger (>=7days)                                                                7\n",
       "Number of events at or below trigger (>=30days)                                                               6\n",
       "Number of events at or below trigger (>=91days)                                                               5\n",
       "Number of events at or below trigger (>=183days)                                                              3\n",
       "Number of events at or below trigger (>=365days)                                                              1\n",
       "Longest period at or below trigger (days)                                                                   411\n",
       "Name: 655, dtype: object"
      ]
     },
     "execution_count": 42,
     "metadata": {},
     "output_type": "execute_result"
    }
   ],
   "source": [
    "summary=sla.Summary()\n",
    "summary.loc[655]"
   ]
  },
  {
   "cell_type": "markdown",
   "metadata": {},
   "source": [
    "<div class=\"alert alert-block alert-success\">\n",
    "Alternatively, only show outcomes for a single metric\n",
    "</div>"
   ]
  },
  {
   "cell_type": "code",
   "execution_count": 43,
   "metadata": {},
   "outputs": [
    {
     "data": {
      "text/plain": [
       "400      289\n",
       "655      411\n",
       "1090     809\n",
       "1530    1167\n",
       "Name: Longest period at or below trigger (days), dtype: int64"
      ]
     },
     "execution_count": 43,
     "metadata": {},
     "output_type": "execute_result"
    }
   ],
   "source": [
    "# Show summary for single metric\n",
    "summary[\"Longest period at or below trigger (days)\"]"
   ]
  },
  {
   "cell_type": "markdown",
   "metadata": {},
   "source": [
    "### <span style='color:midnightblue'> List of event lengths by trigger </span>"
   ]
  },
  {
   "cell_type": "markdown",
   "metadata": {},
   "source": [
    "<div class=\"alert alert-block alert-success\">\n",
    "Return a list of event lengths for each trigger, arranged in a dictionary. 'Event' refers to a period with consecutive days at or below the trigger.\n",
    "</div>"
   ]
  },
  {
   "cell_type": "code",
   "execution_count": 44,
   "metadata": {},
   "outputs": [
    {
     "data": {
      "text/plain": [
       "{400: [75, 4, 64, 103, 9, 289],\n",
       " 655: [154, 104, 24, 188, 238, 411, 56],\n",
       " 1090: [298,\n",
       "  150,\n",
       "  3,\n",
       "  207,\n",
       "  116,\n",
       "  8,\n",
       "  27,\n",
       "  77,\n",
       "  5,\n",
       "  3,\n",
       "  299,\n",
       "  88,\n",
       "  5,\n",
       "  94,\n",
       "  9,\n",
       "  25,\n",
       "  32,\n",
       "  1,\n",
       "  4,\n",
       "  48,\n",
       "  809,\n",
       "  17,\n",
       "  98,\n",
       "  47,\n",
       "  21,\n",
       "  1,\n",
       "  40,\n",
       "  580,\n",
       "  36,\n",
       "  60,\n",
       "  79,\n",
       "  186],\n",
       " 1530: [3,\n",
       "  443,\n",
       "  2,\n",
       "  95,\n",
       "  255,\n",
       "  4,\n",
       "  147,\n",
       "  52,\n",
       "  355,\n",
       "  28,\n",
       "  232,\n",
       "  179,\n",
       "  174,\n",
       "  269,\n",
       "  2,\n",
       "  8,\n",
       "  104,\n",
       "  165,\n",
       "  202,\n",
       "  584,\n",
       "  142,\n",
       "  92,\n",
       "  230,\n",
       "  21,\n",
       "  5,\n",
       "  1,\n",
       "  57,\n",
       "  144,\n",
       "  124,\n",
       "  310,\n",
       "  2,\n",
       "  50,\n",
       "  99,\n",
       "  107,\n",
       "  147,\n",
       "  204,\n",
       "  481,\n",
       "  63,\n",
       "  984,\n",
       "  2,\n",
       "  12,\n",
       "  137,\n",
       "  533,\n",
       "  1167,\n",
       "  47,\n",
       "  23,\n",
       "  175,\n",
       "  257,\n",
       "  471]}"
      ]
     },
     "execution_count": 44,
     "metadata": {},
     "output_type": "execute_result"
    }
   ],
   "source": [
    "# 'events' refer to periods with consecutive days at or below the trigger\n",
    "sla.EventsBelowTrigger()"
   ]
  },
  {
   "cell_type": "markdown",
   "metadata": {},
   "source": [
    "<div class=\"alert alert-block alert-success\">\n",
    "Alternatively, only return events with a length of at least 'x' days, e.g. >=26:\n",
    "</div>"
   ]
  },
  {
   "cell_type": "code",
   "execution_count": 45,
   "metadata": {},
   "outputs": [
    {
     "data": {
      "text/plain": [
       "{400: [75, 64, 103, 289],\n",
       " 655: [154, 104, 188, 238, 411, 56],\n",
       " 1090: [298,\n",
       "  150,\n",
       "  207,\n",
       "  116,\n",
       "  27,\n",
       "  77,\n",
       "  299,\n",
       "  88,\n",
       "  94,\n",
       "  32,\n",
       "  48,\n",
       "  809,\n",
       "  98,\n",
       "  47,\n",
       "  40,\n",
       "  580,\n",
       "  36,\n",
       "  60,\n",
       "  79,\n",
       "  186],\n",
       " 1530: [443,\n",
       "  95,\n",
       "  255,\n",
       "  147,\n",
       "  52,\n",
       "  355,\n",
       "  28,\n",
       "  232,\n",
       "  179,\n",
       "  174,\n",
       "  269,\n",
       "  104,\n",
       "  165,\n",
       "  202,\n",
       "  584,\n",
       "  142,\n",
       "  92,\n",
       "  230,\n",
       "  57,\n",
       "  144,\n",
       "  124,\n",
       "  310,\n",
       "  50,\n",
       "  99,\n",
       "  107,\n",
       "  147,\n",
       "  204,\n",
       "  481,\n",
       "  63,\n",
       "  984,\n",
       "  137,\n",
       "  533,\n",
       "  1167,\n",
       "  47,\n",
       "  175,\n",
       "  257,\n",
       "  471]}"
      ]
     },
     "execution_count": 45,
     "metadata": {},
     "output_type": "execute_result"
    }
   ],
   "source": [
    "# optional - list of event lengths by trigger with minimum event length\n",
    "sla.EventsBelowTrigger(length=26)"
   ]
  },
  {
   "cell_type": "markdown",
   "metadata": {},
   "source": [
    "### <span style='color:midnightblue'> Metrics of individual events by trigger </span>"
   ]
  },
  {
   "cell_type": "markdown",
   "metadata": {},
   "source": [
    "#### <span style='color:midnightblue'> Count </span>"
   ]
  },
  {
   "cell_type": "code",
   "execution_count": 46,
   "metadata": {},
   "outputs": [
    {
     "data": {
      "text/plain": [
       "{400: 6, 655: 7, 1090: 32, 1530: 49}"
      ]
     },
     "execution_count": 46,
     "metadata": {},
     "output_type": "execute_result"
    }
   ],
   "source": [
    "sla.EventsBelowTriggerCount()"
   ]
  },
  {
   "cell_type": "markdown",
   "metadata": {},
   "source": [
    "<div class=\"alert alert-block alert-success\">\n",
    "Alternatively, only count events with a length of at least 'x' days, e.g. >=26:\n",
    "</div>"
   ]
  },
  {
   "cell_type": "code",
   "execution_count": 47,
   "metadata": {},
   "outputs": [
    {
     "data": {
      "text/plain": [
       "{400: 4, 655: 6, 1090: 20, 1530: 37}"
      ]
     },
     "execution_count": 47,
     "metadata": {},
     "output_type": "execute_result"
    }
   ],
   "source": [
    "# optional - count of events by trigger with minimum event length\n",
    "sla.EventsBelowTriggerCount(length=26)"
   ]
  },
  {
   "cell_type": "markdown",
   "metadata": {},
   "source": [
    "#### <span style='color:midnightblue'> Max event length </span>"
   ]
  },
  {
   "cell_type": "code",
   "execution_count": 48,
   "metadata": {},
   "outputs": [
    {
     "data": {
      "text/plain": [
       "{400: 289, 655: 411, 1090: 809, 1530: 1167}"
      ]
     },
     "execution_count": 48,
     "metadata": {},
     "output_type": "execute_result"
    }
   ],
   "source": [
    "sla.EventsBelowTriggerMax()"
   ]
  },
  {
   "cell_type": "markdown",
   "metadata": {},
   "source": [
    "### <span style='color:midnightblue'> Annual series of days below trigger </span>"
   ]
  },
  {
   "cell_type": "markdown",
   "metadata": {},
   "source": [
    "<div class=\"alert alert-block alert-success\">\n",
    "Returns a dictionary with key=trigger of annual (WY) timeseries of days at or below trigger \n",
    "</div>"
   ]
  },
  {
   "cell_type": "code",
   "execution_count": 49,
   "metadata": {},
   "outputs": [
    {
     "data": {
      "text/plain": [
       "{400: 1890    0\n",
       " 1891    0\n",
       " 1892    0\n",
       " 1893    0\n",
       " 1894    0\n",
       "        ..\n",
       " 2015    0\n",
       " 2016    0\n",
       " 2017    0\n",
       " 2018    0\n",
       " 2019    0\n",
       " Length: 130, dtype: int32,\n",
       " 655: 1890     0\n",
       " 1891     0\n",
       " 1892     0\n",
       " 1893     0\n",
       " 1894     0\n",
       "         ..\n",
       " 2015     0\n",
       " 2016     0\n",
       " 2017     0\n",
       " 2018     0\n",
       " 2019    56\n",
       " Length: 130, dtype: int32,\n",
       " 1090: 1890      0\n",
       " 1891      0\n",
       " 1892      0\n",
       " 1893      0\n",
       " 1894      0\n",
       "        ... \n",
       " 2015     36\n",
       " 2016     55\n",
       " 2017      5\n",
       " 2018      0\n",
       " 2019    265\n",
       " Length: 130, dtype: int32,\n",
       " 1530: 1890      0\n",
       " 1891      0\n",
       " 1892      0\n",
       " 1893      0\n",
       " 1894      0\n",
       "        ... \n",
       " 2015    175\n",
       " 2016    201\n",
       " 2017     56\n",
       " 2018    106\n",
       " 2019    365\n",
       " Length: 130, dtype: int32}"
      ]
     },
     "execution_count": 49,
     "metadata": {},
     "output_type": "execute_result"
    }
   ],
   "source": [
    "# returns a dictionary with key=trigger of annual (WY) timeseries of days at or below trigger \n",
    "sla.AnnualDaysBelow()"
   ]
  },
  {
   "cell_type": "markdown",
   "metadata": {},
   "source": [
    "<div class=\"alert alert-block alert-success\">\n",
    "Summarise the annual (WY) timeseries of days at or below trigger in a single DataFrame\n",
    "</div>"
   ]
  },
  {
   "cell_type": "code",
   "execution_count": 50,
   "metadata": {},
   "outputs": [
    {
     "data": {
      "text/html": [
       "<div>\n",
       "<style scoped>\n",
       "    .dataframe tbody tr th:only-of-type {\n",
       "        vertical-align: middle;\n",
       "    }\n",
       "\n",
       "    .dataframe tbody tr th {\n",
       "        vertical-align: top;\n",
       "    }\n",
       "\n",
       "    .dataframe thead th {\n",
       "        text-align: right;\n",
       "    }\n",
       "</style>\n",
       "<table border=\"1\" class=\"dataframe\">\n",
       "  <thead>\n",
       "    <tr style=\"text-align: right;\">\n",
       "      <th></th>\n",
       "      <th>400</th>\n",
       "      <th>655</th>\n",
       "      <th>1090</th>\n",
       "      <th>1530</th>\n",
       "    </tr>\n",
       "  </thead>\n",
       "  <tbody>\n",
       "    <tr>\n",
       "      <th>1890</th>\n",
       "      <td>0</td>\n",
       "      <td>0</td>\n",
       "      <td>0</td>\n",
       "      <td>0</td>\n",
       "    </tr>\n",
       "    <tr>\n",
       "      <th>1891</th>\n",
       "      <td>0</td>\n",
       "      <td>0</td>\n",
       "      <td>0</td>\n",
       "      <td>0</td>\n",
       "    </tr>\n",
       "    <tr>\n",
       "      <th>1892</th>\n",
       "      <td>0</td>\n",
       "      <td>0</td>\n",
       "      <td>0</td>\n",
       "      <td>0</td>\n",
       "    </tr>\n",
       "    <tr>\n",
       "      <th>1893</th>\n",
       "      <td>0</td>\n",
       "      <td>0</td>\n",
       "      <td>0</td>\n",
       "      <td>0</td>\n",
       "    </tr>\n",
       "    <tr>\n",
       "      <th>1894</th>\n",
       "      <td>0</td>\n",
       "      <td>0</td>\n",
       "      <td>0</td>\n",
       "      <td>0</td>\n",
       "    </tr>\n",
       "    <tr>\n",
       "      <th>...</th>\n",
       "      <td>...</td>\n",
       "      <td>...</td>\n",
       "      <td>...</td>\n",
       "      <td>...</td>\n",
       "    </tr>\n",
       "    <tr>\n",
       "      <th>2015</th>\n",
       "      <td>0</td>\n",
       "      <td>0</td>\n",
       "      <td>36</td>\n",
       "      <td>175</td>\n",
       "    </tr>\n",
       "    <tr>\n",
       "      <th>2016</th>\n",
       "      <td>0</td>\n",
       "      <td>0</td>\n",
       "      <td>55</td>\n",
       "      <td>201</td>\n",
       "    </tr>\n",
       "    <tr>\n",
       "      <th>2017</th>\n",
       "      <td>0</td>\n",
       "      <td>0</td>\n",
       "      <td>5</td>\n",
       "      <td>56</td>\n",
       "    </tr>\n",
       "    <tr>\n",
       "      <th>2018</th>\n",
       "      <td>0</td>\n",
       "      <td>0</td>\n",
       "      <td>0</td>\n",
       "      <td>106</td>\n",
       "    </tr>\n",
       "    <tr>\n",
       "      <th>2019</th>\n",
       "      <td>0</td>\n",
       "      <td>56</td>\n",
       "      <td>265</td>\n",
       "      <td>365</td>\n",
       "    </tr>\n",
       "  </tbody>\n",
       "</table>\n",
       "<p>130 rows × 4 columns</p>\n",
       "</div>"
      ],
      "text/plain": [
       "      400   655   1090  1530\n",
       "1890     0     0     0     0\n",
       "1891     0     0     0     0\n",
       "1892     0     0     0     0\n",
       "1893     0     0     0     0\n",
       "1894     0     0     0     0\n",
       "...    ...   ...   ...   ...\n",
       "2015     0     0    36   175\n",
       "2016     0     0    55   201\n",
       "2017     0     0     5    56\n",
       "2018     0     0     0   106\n",
       "2019     0    56   265   365\n",
       "\n",
       "[130 rows x 4 columns]"
      ]
     },
     "execution_count": 50,
     "metadata": {},
     "output_type": "execute_result"
    }
   ],
   "source": [
    "# combines sla.AnnualDaysBelow() in a DataFrame\n",
    "sla.AnnualDaysBelowSummary()"
   ]
  },
  {
   "cell_type": "markdown",
   "metadata": {},
   "source": [
    "#### Method to avoid having to recalculate"
   ]
  },
  {
   "cell_type": "code",
   "execution_count": 51,
   "metadata": {},
   "outputs": [
    {
     "data": {
      "text/html": [
       "<div>\n",
       "<style scoped>\n",
       "    .dataframe tbody tr th:only-of-type {\n",
       "        vertical-align: middle;\n",
       "    }\n",
       "\n",
       "    .dataframe tbody tr th {\n",
       "        vertical-align: top;\n",
       "    }\n",
       "\n",
       "    .dataframe thead th {\n",
       "        text-align: right;\n",
       "    }\n",
       "</style>\n",
       "<table border=\"1\" class=\"dataframe\">\n",
       "  <thead>\n",
       "    <tr style=\"text-align: right;\">\n",
       "      <th></th>\n",
       "      <th>400</th>\n",
       "      <th>655</th>\n",
       "      <th>1090</th>\n",
       "      <th>1530</th>\n",
       "    </tr>\n",
       "  </thead>\n",
       "  <tbody>\n",
       "    <tr>\n",
       "      <th>1890</th>\n",
       "      <td>0</td>\n",
       "      <td>0</td>\n",
       "      <td>0</td>\n",
       "      <td>0</td>\n",
       "    </tr>\n",
       "    <tr>\n",
       "      <th>1891</th>\n",
       "      <td>0</td>\n",
       "      <td>0</td>\n",
       "      <td>0</td>\n",
       "      <td>0</td>\n",
       "    </tr>\n",
       "    <tr>\n",
       "      <th>1892</th>\n",
       "      <td>0</td>\n",
       "      <td>0</td>\n",
       "      <td>0</td>\n",
       "      <td>0</td>\n",
       "    </tr>\n",
       "    <tr>\n",
       "      <th>1893</th>\n",
       "      <td>0</td>\n",
       "      <td>0</td>\n",
       "      <td>0</td>\n",
       "      <td>0</td>\n",
       "    </tr>\n",
       "    <tr>\n",
       "      <th>1894</th>\n",
       "      <td>0</td>\n",
       "      <td>0</td>\n",
       "      <td>0</td>\n",
       "      <td>0</td>\n",
       "    </tr>\n",
       "    <tr>\n",
       "      <th>...</th>\n",
       "      <td>...</td>\n",
       "      <td>...</td>\n",
       "      <td>...</td>\n",
       "      <td>...</td>\n",
       "    </tr>\n",
       "    <tr>\n",
       "      <th>2015</th>\n",
       "      <td>0</td>\n",
       "      <td>0</td>\n",
       "      <td>36</td>\n",
       "      <td>175</td>\n",
       "    </tr>\n",
       "    <tr>\n",
       "      <th>2016</th>\n",
       "      <td>0</td>\n",
       "      <td>0</td>\n",
       "      <td>55</td>\n",
       "      <td>201</td>\n",
       "    </tr>\n",
       "    <tr>\n",
       "      <th>2017</th>\n",
       "      <td>0</td>\n",
       "      <td>0</td>\n",
       "      <td>5</td>\n",
       "      <td>56</td>\n",
       "    </tr>\n",
       "    <tr>\n",
       "      <th>2018</th>\n",
       "      <td>0</td>\n",
       "      <td>0</td>\n",
       "      <td>0</td>\n",
       "      <td>106</td>\n",
       "    </tr>\n",
       "    <tr>\n",
       "      <th>2019</th>\n",
       "      <td>0</td>\n",
       "      <td>56</td>\n",
       "      <td>265</td>\n",
       "      <td>365</td>\n",
       "    </tr>\n",
       "  </tbody>\n",
       "</table>\n",
       "<p>130 rows × 4 columns</p>\n",
       "</div>"
      ],
      "text/plain": [
       "      400   655   1090  1530\n",
       "1890     0     0     0     0\n",
       "1891     0     0     0     0\n",
       "1892     0     0     0     0\n",
       "1893     0     0     0     0\n",
       "1894     0     0     0     0\n",
       "...    ...   ...   ...   ...\n",
       "2015     0     0    36   175\n",
       "2016     0     0    55   201\n",
       "2017     0     0     5    56\n",
       "2018     0     0     0   106\n",
       "2019     0    56   265   365\n",
       "\n",
       "[130 rows x 4 columns]"
      ]
     },
     "execution_count": 51,
     "metadata": {},
     "output_type": "execute_result"
    }
   ],
   "source": [
    "# to avoid recalc, can pass output from sla.AnnualDaysBelow() into sla.AnnualDaysBelowSummary()\n",
    "days_below=sla.AnnualDaysBelow()\n",
    "sla.AnnualDaysBelowSummary(annualdaysbelow=days_below)"
   ]
  },
  {
   "cell_type": "markdown",
   "metadata": {},
   "source": [
    "<div class=\"alert alert-block alert-success\">\n",
    "Alternatively, only consider particular trigger levels\n",
    "</div>"
   ]
  },
  {
   "cell_type": "code",
   "execution_count": 52,
   "metadata": {},
   "outputs": [
    {
     "data": {
      "text/html": [
       "<div>\n",
       "<style scoped>\n",
       "    .dataframe tbody tr th:only-of-type {\n",
       "        vertical-align: middle;\n",
       "    }\n",
       "\n",
       "    .dataframe tbody tr th {\n",
       "        vertical-align: top;\n",
       "    }\n",
       "\n",
       "    .dataframe thead th {\n",
       "        text-align: right;\n",
       "    }\n",
       "</style>\n",
       "<table border=\"1\" class=\"dataframe\">\n",
       "  <thead>\n",
       "    <tr style=\"text-align: right;\">\n",
       "      <th></th>\n",
       "      <th>1090</th>\n",
       "      <th>1530</th>\n",
       "    </tr>\n",
       "  </thead>\n",
       "  <tbody>\n",
       "    <tr>\n",
       "      <th>1890</th>\n",
       "      <td>0</td>\n",
       "      <td>0</td>\n",
       "    </tr>\n",
       "    <tr>\n",
       "      <th>1891</th>\n",
       "      <td>0</td>\n",
       "      <td>0</td>\n",
       "    </tr>\n",
       "    <tr>\n",
       "      <th>1892</th>\n",
       "      <td>0</td>\n",
       "      <td>0</td>\n",
       "    </tr>\n",
       "    <tr>\n",
       "      <th>1893</th>\n",
       "      <td>0</td>\n",
       "      <td>0</td>\n",
       "    </tr>\n",
       "    <tr>\n",
       "      <th>1894</th>\n",
       "      <td>0</td>\n",
       "      <td>0</td>\n",
       "    </tr>\n",
       "    <tr>\n",
       "      <th>...</th>\n",
       "      <td>...</td>\n",
       "      <td>...</td>\n",
       "    </tr>\n",
       "    <tr>\n",
       "      <th>2015</th>\n",
       "      <td>36</td>\n",
       "      <td>175</td>\n",
       "    </tr>\n",
       "    <tr>\n",
       "      <th>2016</th>\n",
       "      <td>55</td>\n",
       "      <td>201</td>\n",
       "    </tr>\n",
       "    <tr>\n",
       "      <th>2017</th>\n",
       "      <td>5</td>\n",
       "      <td>56</td>\n",
       "    </tr>\n",
       "    <tr>\n",
       "      <th>2018</th>\n",
       "      <td>0</td>\n",
       "      <td>106</td>\n",
       "    </tr>\n",
       "    <tr>\n",
       "      <th>2019</th>\n",
       "      <td>265</td>\n",
       "      <td>365</td>\n",
       "    </tr>\n",
       "  </tbody>\n",
       "</table>\n",
       "<p>130 rows × 2 columns</p>\n",
       "</div>"
      ],
      "text/plain": [
       "      1090  1530\n",
       "1890     0     0\n",
       "1891     0     0\n",
       "1892     0     0\n",
       "1893     0     0\n",
       "1894     0     0\n",
       "...    ...   ...\n",
       "2015    36   175\n",
       "2016    55   201\n",
       "2017     5    56\n",
       "2018     0   106\n",
       "2019   265   365\n",
       "\n",
       "[130 rows x 2 columns]"
      ]
     },
     "execution_count": 52,
     "metadata": {},
     "output_type": "execute_result"
    }
   ],
   "source": [
    "# optional - only consider certain trigger volumes\n",
    "days_below=sla.AnnualDaysBelow()\n",
    "sla.AnnualDaysBelowSummary(annualdaysbelow=days_below,trigger=[1090,1530])"
   ]
  },
  {
   "cell_type": "markdown",
   "metadata": {},
   "source": [
    "### <span style='color:midnightblue'> Annual series metrics </span>"
   ]
  },
  {
   "cell_type": "markdown",
   "metadata": {},
   "source": [
    "#### <span style='color:midnightblue'> Count </span>"
   ]
  },
  {
   "cell_type": "code",
   "execution_count": 53,
   "metadata": {},
   "outputs": [
    {
     "data": {
      "text/plain": [
       "{400: 5, 655: 8, 1090: 30, 1530: 61}"
      ]
     },
     "execution_count": 53,
     "metadata": {},
     "output_type": "execute_result"
    }
   ],
   "source": [
    "sla.NumberWaterYearsBelow()"
   ]
  },
  {
   "cell_type": "markdown",
   "metadata": {},
   "source": [
    "#### Method to avoid having to recalculate"
   ]
  },
  {
   "cell_type": "code",
   "execution_count": 54,
   "metadata": {},
   "outputs": [
    {
     "data": {
      "text/plain": [
       "{400: 5, 655: 8, 1090: 30, 1530: 61}"
      ]
     },
     "execution_count": 54,
     "metadata": {},
     "output_type": "execute_result"
    }
   ],
   "source": [
    "# to avoid recalc, can pass output from sla.AnnualDaysBelow()\n",
    "sla.NumberWaterYearsBelow(annualdaysbelow=days_below)"
   ]
  },
  {
   "cell_type": "markdown",
   "metadata": {},
   "source": [
    "#### <span style='color:midnightblue'> Percent of years </span>"
   ]
  },
  {
   "cell_type": "code",
   "execution_count": 55,
   "metadata": {},
   "outputs": [
    {
     "data": {
      "text/plain": [
       "{400: 0.038461538461538464,\n",
       " 655: 0.06153846153846154,\n",
       " 1090: 0.23076923076923078,\n",
       " 1530: 0.46923076923076923}"
      ]
     },
     "execution_count": 55,
     "metadata": {},
     "output_type": "execute_result"
    }
   ],
   "source": [
    "sla.PercentWaterYearsBelow()"
   ]
  },
  {
   "cell_type": "markdown",
   "metadata": {},
   "source": [
    "#### Method to avoid having to recalculate"
   ]
  },
  {
   "cell_type": "code",
   "execution_count": 56,
   "metadata": {},
   "outputs": [
    {
     "data": {
      "text/plain": [
       "{400: 0.038461538461538464,\n",
       " 655: 0.06153846153846154,\n",
       " 1090: 0.23076923076923078,\n",
       " 1530: 0.46923076923076923}"
      ]
     },
     "execution_count": 56,
     "metadata": {},
     "output_type": "execute_result"
    }
   ],
   "source": [
    "# to avoid recalc, can pass output from sla.NumberWaterYearsBelow()\n",
    "number_wy_below=sla.NumberWaterYearsBelow(annualdaysbelow=days_below)\n",
    "sla.PercentWaterYearsBelow(numberyears=number_wy_below)"
   ]
  },
  {
   "cell_type": "markdown",
   "metadata": {},
   "source": [
    "### <span style='color:midnightblue'> Plotting WYs with trigger events </span>"
   ]
  },
  {
   "cell_type": "markdown",
   "metadata": {},
   "source": [
    "<div class=\"alert alert-block alert-success\">\n",
    "'wy_event_heatmap' function plots a heatmap showing water years in which a criteria is met, which in this instance is 'water years where the trigger level was reached at least once'. Function can use any DataFrame input of annual timeseries representing the occurrence of some event. We can use the output of 'sla.AnnualDaysBelowSummary' as a direct input to the function.\n",
    "</div>"
   ]
  },
  {
   "cell_type": "code",
   "execution_count": 57,
   "metadata": {},
   "outputs": [
    {
     "data": {
      "text/html": [
       "\n",
       "<style>\n",
       "  #altair-viz-f0f21d025596492da5a26331db117537.vega-embed {\n",
       "    width: 100%;\n",
       "    display: flex;\n",
       "  }\n",
       "\n",
       "  #altair-viz-f0f21d025596492da5a26331db117537.vega-embed details,\n",
       "  #altair-viz-f0f21d025596492da5a26331db117537.vega-embed details summary {\n",
       "    position: relative;\n",
       "  }\n",
       "</style>\n",
       "<div id=\"altair-viz-f0f21d025596492da5a26331db117537\"></div>\n",
       "<script type=\"text/javascript\">\n",
       "  var VEGA_DEBUG = (typeof VEGA_DEBUG == \"undefined\") ? {} : VEGA_DEBUG;\n",
       "  (function(spec, embedOpt){\n",
       "    let outputDiv = document.currentScript.previousElementSibling;\n",
       "    if (outputDiv.id !== \"altair-viz-f0f21d025596492da5a26331db117537\") {\n",
       "      outputDiv = document.getElementById(\"altair-viz-f0f21d025596492da5a26331db117537\");\n",
       "    }\n",
       "    const paths = {\n",
       "      \"vega\": \"https://cdn.jsdelivr.net/npm/vega@5?noext\",\n",
       "      \"vega-lib\": \"https://cdn.jsdelivr.net/npm/vega-lib?noext\",\n",
       "      \"vega-lite\": \"https://cdn.jsdelivr.net/npm/vega-lite@5.8.0?noext\",\n",
       "      \"vega-embed\": \"https://cdn.jsdelivr.net/npm/vega-embed@6?noext\",\n",
       "    };\n",
       "\n",
       "    function maybeLoadScript(lib, version) {\n",
       "      var key = `${lib.replace(\"-\", \"\")}_version`;\n",
       "      return (VEGA_DEBUG[key] == version) ?\n",
       "        Promise.resolve(paths[lib]) :\n",
       "        new Promise(function(resolve, reject) {\n",
       "          var s = document.createElement('script');\n",
       "          document.getElementsByTagName(\"head\")[0].appendChild(s);\n",
       "          s.async = true;\n",
       "          s.onload = () => {\n",
       "            VEGA_DEBUG[key] = version;\n",
       "            return resolve(paths[lib]);\n",
       "          };\n",
       "          s.onerror = () => reject(`Error loading script: ${paths[lib]}`);\n",
       "          s.src = paths[lib];\n",
       "        });\n",
       "    }\n",
       "\n",
       "    function showError(err) {\n",
       "      outputDiv.innerHTML = `<div class=\"error\" style=\"color:red;\">${err}</div>`;\n",
       "      throw err;\n",
       "    }\n",
       "\n",
       "    function displayChart(vegaEmbed) {\n",
       "      vegaEmbed(outputDiv, spec, embedOpt)\n",
       "        .catch(err => showError(`Javascript Error: ${err.message}<br>This usually means there's a typo in your chart specification. See the javascript console for the full traceback.`));\n",
       "    }\n",
       "\n",
       "    if(typeof define === \"function\" && define.amd) {\n",
       "      requirejs.config({paths});\n",
       "      require([\"vega-embed\"], displayChart, err => showError(`Error loading script: ${err.message}`));\n",
       "    } else {\n",
       "      maybeLoadScript(\"vega\", \"5\")\n",
       "        .then(() => maybeLoadScript(\"vega-lite\", \"5.8.0\"))\n",
       "        .then(() => maybeLoadScript(\"vega-embed\", \"6\"))\n",
       "        .catch(showError)\n",
       "        .then(() => displayChart(vegaEmbed));\n",
       "    }\n",
       "  })({\"config\": {\"view\": {\"continuousWidth\": 300, \"continuousHeight\": 300}}, \"data\": {\"name\": \"data-64dbc2146cb49ed8f8384f590f74856a\"}, \"mark\": {\"type\": \"rect\", \"stroke\": \"black\", \"strokeWidth\": 0.3}, \"encoding\": {\"color\": {\"field\": \"y\", \"scale\": {\"domain\": [\"Pass\", \"Fail\"], \"range\": [\"white\", \"red\"]}, \"title\": \"Key\", \"type\": \"nominal\"}, \"x\": {\"field\": \"index\", \"title\": \"Water Year\", \"type\": \"ordinal\"}, \"y\": {\"field\": \"column\", \"sort\": null, \"title\": \"Series\", \"type\": \"nominal\"}}, \"height\": 100, \"transform\": [{\"fold\": [\"400\", \"655\", \"1090\", \"1530\"], \"as\": [\"column\", \"value\"]}, {\"calculate\": \"if(datum.value>=1,1,0)\", \"as\": \"value\"}, {\"lookup\": \"value\", \"from\": {\"data\": {\"name\": \"data-b22dc4365ede9a20f7a450ddb16514b9\"}, \"key\": \"key\", \"fields\": [\"y\"]}}], \"width\": 1300, \"$schema\": \"https://vega.github.io/schema/vega-lite/v5.8.0.json\", \"datasets\": {\"data-64dbc2146cb49ed8f8384f590f74856a\": [{\"index\": 1890, \"400\": 0, \"655\": 0, \"1090\": 0, \"1530\": 0}, {\"index\": 1891, \"400\": 0, \"655\": 0, \"1090\": 0, \"1530\": 0}, {\"index\": 1892, \"400\": 0, \"655\": 0, \"1090\": 0, \"1530\": 0}, {\"index\": 1893, \"400\": 0, \"655\": 0, \"1090\": 0, \"1530\": 0}, {\"index\": 1894, \"400\": 0, \"655\": 0, \"1090\": 0, \"1530\": 0}, {\"index\": 1895, \"400\": 0, \"655\": 0, \"1090\": 0, \"1530\": 0}, {\"index\": 1896, \"400\": 0, \"655\": 0, \"1090\": 0, \"1530\": 0}, {\"index\": 1897, \"400\": 0, \"655\": 0, \"1090\": 0, \"1530\": 0}, {\"index\": 1898, \"400\": 0, \"655\": 0, \"1090\": 0, \"1530\": 0}, {\"index\": 1899, \"400\": 0, \"655\": 0, \"1090\": 0, \"1530\": 0}, {\"index\": 1900, \"400\": 0, \"655\": 0, \"1090\": 0, \"1530\": 0}, {\"index\": 1901, \"400\": 0, \"655\": 0, \"1090\": 0, \"1530\": 3}, {\"index\": 1902, \"400\": 0, \"655\": 0, \"1090\": 0, \"1530\": 104}, {\"index\": 1903, \"400\": 75, \"655\": 154, \"1090\": 298, \"1530\": 339}, {\"index\": 1904, \"400\": 0, \"655\": 0, \"1090\": 0, \"1530\": 0}, {\"index\": 1905, \"400\": 0, \"655\": 0, \"1090\": 0, \"1530\": 0}, {\"index\": 1906, \"400\": 0, \"655\": 0, \"1090\": 0, \"1530\": 0}, {\"index\": 1907, \"400\": 0, \"655\": 0, \"1090\": 0, \"1530\": 0}, {\"index\": 1908, \"400\": 0, \"655\": 0, \"1090\": 0, \"1530\": 0}, {\"index\": 1909, \"400\": 0, \"655\": 0, \"1090\": 0, \"1530\": 45}, {\"index\": 1910, \"400\": 0, \"655\": 0, \"1090\": 0, \"1530\": 52}, {\"index\": 1911, \"400\": 0, \"655\": 0, \"1090\": 0, \"1530\": 0}, {\"index\": 1912, \"400\": 0, \"655\": 0, \"1090\": 148, \"1530\": 240}, {\"index\": 1913, \"400\": 0, \"655\": 0, \"1090\": 2, \"1530\": 166}, {\"index\": 1914, \"400\": 0, \"655\": 0, \"1090\": 0, \"1530\": 52}, {\"index\": 1915, \"400\": 0, \"655\": 0, \"1090\": 0, \"1530\": 0}, {\"index\": 1916, \"400\": 0, \"655\": 0, \"1090\": 182, \"1530\": 296}, {\"index\": 1917, \"400\": 0, \"655\": 0, \"1090\": 28, \"1530\": 59}, {\"index\": 1918, \"400\": 0, \"655\": 0, \"1090\": 0, \"1530\": 0}, {\"index\": 1919, \"400\": 0, \"655\": 0, \"1090\": 0, \"1530\": 28}, {\"index\": 1920, \"400\": 0, \"655\": 0, \"1090\": 116, \"1530\": 232}, {\"index\": 1921, \"400\": 0, \"655\": 0, \"1090\": 0, \"1530\": 0}, {\"index\": 1922, \"400\": 0, \"655\": 0, \"1090\": 0, \"1530\": 0}, {\"index\": 1923, \"400\": 0, \"655\": 0, \"1090\": 0, \"1530\": 0}, {\"index\": 1924, \"400\": 0, \"655\": 0, \"1090\": 35, \"1530\": 221}, {\"index\": 1925, \"400\": 0, \"655\": 0, \"1090\": 0, \"1530\": 132}, {\"index\": 1926, \"400\": 0, \"655\": 0, \"1090\": 0, \"1530\": 61}, {\"index\": 1927, \"400\": 0, \"655\": 0, \"1090\": 77, \"1530\": 208}, {\"index\": 1928, \"400\": 0, \"655\": 0, \"1090\": 0, \"1530\": 2}, {\"index\": 1929, \"400\": 0, \"655\": 0, \"1090\": 0, \"1530\": 0}, {\"index\": 1930, \"400\": 0, \"655\": 0, \"1090\": 0, \"1530\": 112}, {\"index\": 1931, \"400\": 0, \"655\": 0, \"1090\": 0, \"1530\": 0}, {\"index\": 1932, \"400\": 0, \"655\": 0, \"1090\": 0, \"1530\": 0}, {\"index\": 1933, \"400\": 0, \"655\": 0, \"1090\": 0, \"1530\": 273}, {\"index\": 1934, \"400\": 0, \"655\": 0, \"1090\": 0, \"1530\": 94}, {\"index\": 1935, \"400\": 0, \"655\": 0, \"1090\": 0, \"1530\": 23}, {\"index\": 1936, \"400\": 0, \"655\": 0, \"1090\": 112, \"1530\": 366}, {\"index\": 1937, \"400\": 0, \"655\": 104, \"1090\": 195, \"1530\": 195}, {\"index\": 1938, \"400\": 0, \"655\": 0, \"1090\": 0, \"1530\": 82}, {\"index\": 1939, \"400\": 0, \"655\": 0, \"1090\": 0, \"1530\": 152}, {\"index\": 1940, \"400\": 0, \"655\": 0, \"1090\": 0, \"1530\": 0}, {\"index\": 1941, \"400\": 0, \"655\": 0, \"1090\": 88, \"1530\": 230}, {\"index\": 1942, \"400\": 0, \"655\": 0, \"1090\": 0, \"1530\": 21}, {\"index\": 1943, \"400\": 0, \"655\": 0, \"1090\": 0, \"1530\": 0}, {\"index\": 1944, \"400\": 0, \"655\": 0, \"1090\": 0, \"1530\": 0}, {\"index\": 1945, \"400\": 0, \"655\": 0, \"1090\": 0, \"1530\": 6}, {\"index\": 1946, \"400\": 0, \"655\": 0, \"1090\": 0, \"1530\": 0}, {\"index\": 1947, \"400\": 0, \"655\": 0, \"1090\": 0, \"1530\": 0}, {\"index\": 1948, \"400\": 0, \"655\": 0, \"1090\": 0, \"1530\": 0}, {\"index\": 1949, \"400\": 0, \"655\": 0, \"1090\": 0, \"1530\": 0}, {\"index\": 1950, \"400\": 0, \"655\": 0, \"1090\": 0, \"1530\": 0}, {\"index\": 1951, \"400\": 0, \"655\": 0, \"1090\": 0, \"1530\": 0}, {\"index\": 1952, \"400\": 0, \"655\": 0, \"1090\": 0, \"1530\": 0}, {\"index\": 1953, \"400\": 0, \"655\": 0, \"1090\": 0, \"1530\": 0}, {\"index\": 1954, \"400\": 0, \"655\": 0, \"1090\": 0, \"1530\": 57}, {\"index\": 1955, \"400\": 0, \"655\": 0, \"1090\": 0, \"1530\": 0}, {\"index\": 1956, \"400\": 0, \"655\": 0, \"1090\": 0, \"1530\": 0}, {\"index\": 1957, \"400\": 0, \"655\": 0, \"1090\": 0, \"1530\": 0}, {\"index\": 1958, \"400\": 0, \"655\": 0, \"1090\": 5, \"1530\": 144}, {\"index\": 1959, \"400\": 0, \"655\": 0, \"1090\": 0, \"1530\": 0}, {\"index\": 1960, \"400\": 0, \"655\": 0, \"1090\": 0, \"1530\": 0}, {\"index\": 1961, \"400\": 0, \"655\": 0, \"1090\": 0, \"1530\": 0}, {\"index\": 1962, \"400\": 0, \"655\": 0, \"1090\": 0, \"1530\": 0}, {\"index\": 1963, \"400\": 0, \"655\": 0, \"1090\": 0, \"1530\": 0}, {\"index\": 1964, \"400\": 0, \"655\": 0, \"1090\": 0, \"1530\": 0}, {\"index\": 1965, \"400\": 0, \"655\": 0, \"1090\": 0, \"1530\": 103}, {\"index\": 1966, \"400\": 0, \"655\": 0, \"1090\": 0, \"1530\": 21}, {\"index\": 1967, \"400\": 0, \"655\": 0, \"1090\": 0, \"1530\": 0}, {\"index\": 1968, \"400\": 0, \"655\": 0, \"1090\": 0, \"1530\": 0}, {\"index\": 1969, \"400\": 0, \"655\": 0, \"1090\": 0, \"1530\": 0}, {\"index\": 1970, \"400\": 0, \"655\": 0, \"1090\": 0, \"1530\": 143}, {\"index\": 1971, \"400\": 0, \"655\": 0, \"1090\": 103, \"1530\": 167}, {\"index\": 1972, \"400\": 0, \"655\": 0, \"1090\": 0, \"1530\": 0}, {\"index\": 1973, \"400\": 0, \"655\": 0, \"1090\": 0, \"1530\": 0}, {\"index\": 1974, \"400\": 0, \"655\": 0, \"1090\": 0, \"1530\": 52}, {\"index\": 1975, \"400\": 0, \"655\": 0, \"1090\": 0, \"1530\": 99}, {\"index\": 1976, \"400\": 0, \"655\": 0, \"1090\": 0, \"1530\": 0}, {\"index\": 1977, \"400\": 0, \"655\": 0, \"1090\": 0, \"1530\": 0}, {\"index\": 1978, \"400\": 0, \"655\": 0, \"1090\": 0, \"1530\": 107}, {\"index\": 1979, \"400\": 0, \"655\": 0, \"1090\": 0, \"1530\": 0}, {\"index\": 1980, \"400\": 0, \"655\": 0, \"1090\": 25, \"1530\": 147}, {\"index\": 1981, \"400\": 0, \"655\": 0, \"1090\": 32, \"1530\": 204}, {\"index\": 1982, \"400\": 0, \"655\": 0, \"1090\": 0, \"1530\": 0}, {\"index\": 1983, \"400\": 0, \"655\": 0, \"1090\": 0, \"1530\": 0}, {\"index\": 1984, \"400\": 0, \"655\": 0, \"1090\": 0, \"1530\": 0}, {\"index\": 1985, \"400\": 0, \"655\": 0, \"1090\": 0, \"1530\": 0}, {\"index\": 1986, \"400\": 0, \"655\": 0, \"1090\": 0, \"1530\": 0}, {\"index\": 1987, \"400\": 0, \"655\": 0, \"1090\": 0, \"1530\": 259}, {\"index\": 1988, \"400\": 0, \"655\": 0, \"1090\": 53, \"1530\": 222}, {\"index\": 1989, \"400\": 0, \"655\": 0, \"1090\": 0, \"1530\": 0}, {\"index\": 1990, \"400\": 0, \"655\": 0, \"1090\": 0, \"1530\": 0}, {\"index\": 1991, \"400\": 0, \"655\": 0, \"1090\": 0, \"1530\": 0}, {\"index\": 1992, \"400\": 0, \"655\": 0, \"1090\": 0, \"1530\": 63}, {\"index\": 1993, \"400\": 0, \"655\": 0, \"1090\": 0, \"1530\": 67}, {\"index\": 1994, \"400\": 0, \"655\": 24, \"1090\": 271, \"1530\": 365}, {\"index\": 1995, \"400\": 68, \"655\": 277, \"1090\": 365, \"1530\": 365}, {\"index\": 1996, \"400\": 103, \"655\": 149, \"1090\": 173, \"1530\": 187}, {\"index\": 1997, \"400\": 0, \"655\": 0, \"1090\": 0, \"1530\": 0}, {\"index\": 1998, \"400\": 0, \"655\": 0, \"1090\": 0, \"1530\": 14}, {\"index\": 1999, \"400\": 0, \"655\": 0, \"1090\": 0, \"1530\": 0}, {\"index\": 2000, \"400\": 0, \"655\": 0, \"1090\": 0, \"1530\": 0}, {\"index\": 2001, \"400\": 0, \"655\": 0, \"1090\": 17, \"1530\": 137}, {\"index\": 2002, \"400\": 0, \"655\": 0, \"1090\": 0, \"1530\": 0}, {\"index\": 2003, \"400\": 0, \"655\": 0, \"1090\": 98, \"1530\": 333}, {\"index\": 2004, \"400\": 0, \"655\": 0, \"1090\": 68, \"1530\": 200}, {\"index\": 2005, \"400\": 0, \"655\": 0, \"1090\": 41, \"1530\": 248}, {\"index\": 2006, \"400\": 0, \"655\": 0, \"1090\": 27, \"1530\": 365}, {\"index\": 2007, \"400\": 127, \"655\": 223, \"1090\": 365, \"1530\": 365}, {\"index\": 2008, \"400\": 171, \"655\": 188, \"1090\": 188, \"1530\": 189}, {\"index\": 2009, \"400\": 0, \"655\": 0, \"1090\": 0, \"1530\": 0}, {\"index\": 2010, \"400\": 0, \"655\": 0, \"1090\": 0, \"1530\": 0}, {\"index\": 2011, \"400\": 0, \"655\": 0, \"1090\": 0, \"1530\": 0}, {\"index\": 2012, \"400\": 0, \"655\": 0, \"1090\": 0, \"1530\": 0}, {\"index\": 2013, \"400\": 0, \"655\": 0, \"1090\": 0, \"1530\": 47}, {\"index\": 2014, \"400\": 0, \"655\": 0, \"1090\": 0, \"1530\": 23}, {\"index\": 2015, \"400\": 0, \"655\": 0, \"1090\": 36, \"1530\": 175}, {\"index\": 2016, \"400\": 0, \"655\": 0, \"1090\": 55, \"1530\": 201}, {\"index\": 2017, \"400\": 0, \"655\": 0, \"1090\": 5, \"1530\": 56}, {\"index\": 2018, \"400\": 0, \"655\": 0, \"1090\": 0, \"1530\": 106}, {\"index\": 2019, \"400\": 0, \"655\": 56, \"1090\": 265, \"1530\": 365}], \"data-b22dc4365ede9a20f7a450ddb16514b9\": [{\"key\": \"1\", \"y\": \"Fail\"}, {\"key\": \"0\", \"y\": \"Pass\"}]}}, {\"mode\": \"vega-lite\"});\n",
       "</script>"
      ],
      "text/plain": [
       "alt.Chart(...)"
      ]
     },
     "execution_count": 57,
     "metadata": {},
     "output_type": "execute_result"
    }
   ],
   "source": [
    "opl.wy_event_heatmap(df=sla.AnnualDaysBelowSummary())"
   ]
  },
  {
   "cell_type": "markdown",
   "metadata": {},
   "source": [
    "<div class=\"alert alert-block alert-success\">\n",
    "Use the 'trigger' parameter of the SLA function to subset the data to be plotted.\n",
    "</div>"
   ]
  },
  {
   "cell_type": "code",
   "execution_count": 58,
   "metadata": {},
   "outputs": [
    {
     "data": {
      "text/html": [
       "\n",
       "<style>\n",
       "  #altair-viz-1914850ab379451d93e046e76f0ae485.vega-embed {\n",
       "    width: 100%;\n",
       "    display: flex;\n",
       "  }\n",
       "\n",
       "  #altair-viz-1914850ab379451d93e046e76f0ae485.vega-embed details,\n",
       "  #altair-viz-1914850ab379451d93e046e76f0ae485.vega-embed details summary {\n",
       "    position: relative;\n",
       "  }\n",
       "</style>\n",
       "<div id=\"altair-viz-1914850ab379451d93e046e76f0ae485\"></div>\n",
       "<script type=\"text/javascript\">\n",
       "  var VEGA_DEBUG = (typeof VEGA_DEBUG == \"undefined\") ? {} : VEGA_DEBUG;\n",
       "  (function(spec, embedOpt){\n",
       "    let outputDiv = document.currentScript.previousElementSibling;\n",
       "    if (outputDiv.id !== \"altair-viz-1914850ab379451d93e046e76f0ae485\") {\n",
       "      outputDiv = document.getElementById(\"altair-viz-1914850ab379451d93e046e76f0ae485\");\n",
       "    }\n",
       "    const paths = {\n",
       "      \"vega\": \"https://cdn.jsdelivr.net/npm/vega@5?noext\",\n",
       "      \"vega-lib\": \"https://cdn.jsdelivr.net/npm/vega-lib?noext\",\n",
       "      \"vega-lite\": \"https://cdn.jsdelivr.net/npm/vega-lite@5.8.0?noext\",\n",
       "      \"vega-embed\": \"https://cdn.jsdelivr.net/npm/vega-embed@6?noext\",\n",
       "    };\n",
       "\n",
       "    function maybeLoadScript(lib, version) {\n",
       "      var key = `${lib.replace(\"-\", \"\")}_version`;\n",
       "      return (VEGA_DEBUG[key] == version) ?\n",
       "        Promise.resolve(paths[lib]) :\n",
       "        new Promise(function(resolve, reject) {\n",
       "          var s = document.createElement('script');\n",
       "          document.getElementsByTagName(\"head\")[0].appendChild(s);\n",
       "          s.async = true;\n",
       "          s.onload = () => {\n",
       "            VEGA_DEBUG[key] = version;\n",
       "            return resolve(paths[lib]);\n",
       "          };\n",
       "          s.onerror = () => reject(`Error loading script: ${paths[lib]}`);\n",
       "          s.src = paths[lib];\n",
       "        });\n",
       "    }\n",
       "\n",
       "    function showError(err) {\n",
       "      outputDiv.innerHTML = `<div class=\"error\" style=\"color:red;\">${err}</div>`;\n",
       "      throw err;\n",
       "    }\n",
       "\n",
       "    function displayChart(vegaEmbed) {\n",
       "      vegaEmbed(outputDiv, spec, embedOpt)\n",
       "        .catch(err => showError(`Javascript Error: ${err.message}<br>This usually means there's a typo in your chart specification. See the javascript console for the full traceback.`));\n",
       "    }\n",
       "\n",
       "    if(typeof define === \"function\" && define.amd) {\n",
       "      requirejs.config({paths});\n",
       "      require([\"vega-embed\"], displayChart, err => showError(`Error loading script: ${err.message}`));\n",
       "    } else {\n",
       "      maybeLoadScript(\"vega\", \"5\")\n",
       "        .then(() => maybeLoadScript(\"vega-lite\", \"5.8.0\"))\n",
       "        .then(() => maybeLoadScript(\"vega-embed\", \"6\"))\n",
       "        .catch(showError)\n",
       "        .then(() => displayChart(vegaEmbed));\n",
       "    }\n",
       "  })({\"config\": {\"view\": {\"continuousWidth\": 300, \"continuousHeight\": 300}}, \"data\": {\"name\": \"data-85dfc4691a01b74c616be1f375c48134\"}, \"mark\": {\"type\": \"rect\", \"stroke\": \"black\", \"strokeWidth\": 0.3}, \"encoding\": {\"color\": {\"field\": \"y\", \"scale\": {\"domain\": [\"Pass\", \"Fail\"], \"range\": [\"white\", \"red\"]}, \"title\": \"Key\", \"type\": \"nominal\"}, \"x\": {\"field\": \"index\", \"title\": \"Water Year\", \"type\": \"ordinal\"}, \"y\": {\"field\": \"column\", \"sort\": null, \"title\": \"Series\", \"type\": \"nominal\"}}, \"height\": 50, \"transform\": [{\"fold\": [\"1090\", \"1530\"], \"as\": [\"column\", \"value\"]}, {\"calculate\": \"if(datum.value>=1,1,0)\", \"as\": \"value\"}, {\"lookup\": \"value\", \"from\": {\"data\": {\"name\": \"data-b22dc4365ede9a20f7a450ddb16514b9\"}, \"key\": \"key\", \"fields\": [\"y\"]}}], \"width\": 1300, \"$schema\": \"https://vega.github.io/schema/vega-lite/v5.8.0.json\", \"datasets\": {\"data-85dfc4691a01b74c616be1f375c48134\": [{\"index\": 1890, \"1090\": 0, \"1530\": 0}, {\"index\": 1891, \"1090\": 0, \"1530\": 0}, {\"index\": 1892, \"1090\": 0, \"1530\": 0}, {\"index\": 1893, \"1090\": 0, \"1530\": 0}, {\"index\": 1894, \"1090\": 0, \"1530\": 0}, {\"index\": 1895, \"1090\": 0, \"1530\": 0}, {\"index\": 1896, \"1090\": 0, \"1530\": 0}, {\"index\": 1897, \"1090\": 0, \"1530\": 0}, {\"index\": 1898, \"1090\": 0, \"1530\": 0}, {\"index\": 1899, \"1090\": 0, \"1530\": 0}, {\"index\": 1900, \"1090\": 0, \"1530\": 0}, {\"index\": 1901, \"1090\": 0, \"1530\": 3}, {\"index\": 1902, \"1090\": 0, \"1530\": 104}, {\"index\": 1903, \"1090\": 298, \"1530\": 339}, {\"index\": 1904, \"1090\": 0, \"1530\": 0}, {\"index\": 1905, \"1090\": 0, \"1530\": 0}, {\"index\": 1906, \"1090\": 0, \"1530\": 0}, {\"index\": 1907, \"1090\": 0, \"1530\": 0}, {\"index\": 1908, \"1090\": 0, \"1530\": 0}, {\"index\": 1909, \"1090\": 0, \"1530\": 45}, {\"index\": 1910, \"1090\": 0, \"1530\": 52}, {\"index\": 1911, \"1090\": 0, \"1530\": 0}, {\"index\": 1912, \"1090\": 148, \"1530\": 240}, {\"index\": 1913, \"1090\": 2, \"1530\": 166}, {\"index\": 1914, \"1090\": 0, \"1530\": 52}, {\"index\": 1915, \"1090\": 0, \"1530\": 0}, {\"index\": 1916, \"1090\": 182, \"1530\": 296}, {\"index\": 1917, \"1090\": 28, \"1530\": 59}, {\"index\": 1918, \"1090\": 0, \"1530\": 0}, {\"index\": 1919, \"1090\": 0, \"1530\": 28}, {\"index\": 1920, \"1090\": 116, \"1530\": 232}, {\"index\": 1921, \"1090\": 0, \"1530\": 0}, {\"index\": 1922, \"1090\": 0, \"1530\": 0}, {\"index\": 1923, \"1090\": 0, \"1530\": 0}, {\"index\": 1924, \"1090\": 35, \"1530\": 221}, {\"index\": 1925, \"1090\": 0, \"1530\": 132}, {\"index\": 1926, \"1090\": 0, \"1530\": 61}, {\"index\": 1927, \"1090\": 77, \"1530\": 208}, {\"index\": 1928, \"1090\": 0, \"1530\": 2}, {\"index\": 1929, \"1090\": 0, \"1530\": 0}, {\"index\": 1930, \"1090\": 0, \"1530\": 112}, {\"index\": 1931, \"1090\": 0, \"1530\": 0}, {\"index\": 1932, \"1090\": 0, \"1530\": 0}, {\"index\": 1933, \"1090\": 0, \"1530\": 273}, {\"index\": 1934, \"1090\": 0, \"1530\": 94}, {\"index\": 1935, \"1090\": 0, \"1530\": 23}, {\"index\": 1936, \"1090\": 112, \"1530\": 366}, {\"index\": 1937, \"1090\": 195, \"1530\": 195}, {\"index\": 1938, \"1090\": 0, \"1530\": 82}, {\"index\": 1939, \"1090\": 0, \"1530\": 152}, {\"index\": 1940, \"1090\": 0, \"1530\": 0}, {\"index\": 1941, \"1090\": 88, \"1530\": 230}, {\"index\": 1942, \"1090\": 0, \"1530\": 21}, {\"index\": 1943, \"1090\": 0, \"1530\": 0}, {\"index\": 1944, \"1090\": 0, \"1530\": 0}, {\"index\": 1945, \"1090\": 0, \"1530\": 6}, {\"index\": 1946, \"1090\": 0, \"1530\": 0}, {\"index\": 1947, \"1090\": 0, \"1530\": 0}, {\"index\": 1948, \"1090\": 0, \"1530\": 0}, {\"index\": 1949, \"1090\": 0, \"1530\": 0}, {\"index\": 1950, \"1090\": 0, \"1530\": 0}, {\"index\": 1951, \"1090\": 0, \"1530\": 0}, {\"index\": 1952, \"1090\": 0, \"1530\": 0}, {\"index\": 1953, \"1090\": 0, \"1530\": 0}, {\"index\": 1954, \"1090\": 0, \"1530\": 57}, {\"index\": 1955, \"1090\": 0, \"1530\": 0}, {\"index\": 1956, \"1090\": 0, \"1530\": 0}, {\"index\": 1957, \"1090\": 0, \"1530\": 0}, {\"index\": 1958, \"1090\": 5, \"1530\": 144}, {\"index\": 1959, \"1090\": 0, \"1530\": 0}, {\"index\": 1960, \"1090\": 0, \"1530\": 0}, {\"index\": 1961, \"1090\": 0, \"1530\": 0}, {\"index\": 1962, \"1090\": 0, \"1530\": 0}, {\"index\": 1963, \"1090\": 0, \"1530\": 0}, {\"index\": 1964, \"1090\": 0, \"1530\": 0}, {\"index\": 1965, \"1090\": 0, \"1530\": 103}, {\"index\": 1966, \"1090\": 0, \"1530\": 21}, {\"index\": 1967, \"1090\": 0, \"1530\": 0}, {\"index\": 1968, \"1090\": 0, \"1530\": 0}, {\"index\": 1969, \"1090\": 0, \"1530\": 0}, {\"index\": 1970, \"1090\": 0, \"1530\": 143}, {\"index\": 1971, \"1090\": 103, \"1530\": 167}, {\"index\": 1972, \"1090\": 0, \"1530\": 0}, {\"index\": 1973, \"1090\": 0, \"1530\": 0}, {\"index\": 1974, \"1090\": 0, \"1530\": 52}, {\"index\": 1975, \"1090\": 0, \"1530\": 99}, {\"index\": 1976, \"1090\": 0, \"1530\": 0}, {\"index\": 1977, \"1090\": 0, \"1530\": 0}, {\"index\": 1978, \"1090\": 0, \"1530\": 107}, {\"index\": 1979, \"1090\": 0, \"1530\": 0}, {\"index\": 1980, \"1090\": 25, \"1530\": 147}, {\"index\": 1981, \"1090\": 32, \"1530\": 204}, {\"index\": 1982, \"1090\": 0, \"1530\": 0}, {\"index\": 1983, \"1090\": 0, \"1530\": 0}, {\"index\": 1984, \"1090\": 0, \"1530\": 0}, {\"index\": 1985, \"1090\": 0, \"1530\": 0}, {\"index\": 1986, \"1090\": 0, \"1530\": 0}, {\"index\": 1987, \"1090\": 0, \"1530\": 259}, {\"index\": 1988, \"1090\": 53, \"1530\": 222}, {\"index\": 1989, \"1090\": 0, \"1530\": 0}, {\"index\": 1990, \"1090\": 0, \"1530\": 0}, {\"index\": 1991, \"1090\": 0, \"1530\": 0}, {\"index\": 1992, \"1090\": 0, \"1530\": 63}, {\"index\": 1993, \"1090\": 0, \"1530\": 67}, {\"index\": 1994, \"1090\": 271, \"1530\": 365}, {\"index\": 1995, \"1090\": 365, \"1530\": 365}, {\"index\": 1996, \"1090\": 173, \"1530\": 187}, {\"index\": 1997, \"1090\": 0, \"1530\": 0}, {\"index\": 1998, \"1090\": 0, \"1530\": 14}, {\"index\": 1999, \"1090\": 0, \"1530\": 0}, {\"index\": 2000, \"1090\": 0, \"1530\": 0}, {\"index\": 2001, \"1090\": 17, \"1530\": 137}, {\"index\": 2002, \"1090\": 0, \"1530\": 0}, {\"index\": 2003, \"1090\": 98, \"1530\": 333}, {\"index\": 2004, \"1090\": 68, \"1530\": 200}, {\"index\": 2005, \"1090\": 41, \"1530\": 248}, {\"index\": 2006, \"1090\": 27, \"1530\": 365}, {\"index\": 2007, \"1090\": 365, \"1530\": 365}, {\"index\": 2008, \"1090\": 188, \"1530\": 189}, {\"index\": 2009, \"1090\": 0, \"1530\": 0}, {\"index\": 2010, \"1090\": 0, \"1530\": 0}, {\"index\": 2011, \"1090\": 0, \"1530\": 0}, {\"index\": 2012, \"1090\": 0, \"1530\": 0}, {\"index\": 2013, \"1090\": 0, \"1530\": 47}, {\"index\": 2014, \"1090\": 0, \"1530\": 23}, {\"index\": 2015, \"1090\": 36, \"1530\": 175}, {\"index\": 2016, \"1090\": 55, \"1530\": 201}, {\"index\": 2017, \"1090\": 5, \"1530\": 56}, {\"index\": 2018, \"1090\": 0, \"1530\": 106}, {\"index\": 2019, \"1090\": 265, \"1530\": 365}], \"data-b22dc4365ede9a20f7a450ddb16514b9\": [{\"key\": \"1\", \"y\": \"Fail\"}, {\"key\": \"0\", \"y\": \"Pass\"}]}}, {\"mode\": \"vega-lite\"});\n",
       "</script>"
      ],
      "text/plain": [
       "alt.Chart(...)"
      ]
     },
     "execution_count": 58,
     "metadata": {},
     "output_type": "execute_result"
    }
   ],
   "source": [
    "opl.wy_event_heatmap(df=sla.AnnualDaysBelowSummary([1090,1530]))"
   ]
  },
  {
   "cell_type": "markdown",
   "metadata": {},
   "source": [
    "<div class=\"alert alert-block alert-success\">\n",
    "The 'criteria' parameter represents the minimum number of occurrences (in this case days) required to register as a 'Fail'.\n",
    "</div>"
   ]
  },
  {
   "cell_type": "code",
   "execution_count": 59,
   "metadata": {},
   "outputs": [
    {
     "data": {
      "text/html": [
       "\n",
       "<style>\n",
       "  #altair-viz-b42ae4314eb145dfb285cd95dae17e48.vega-embed {\n",
       "    width: 100%;\n",
       "    display: flex;\n",
       "  }\n",
       "\n",
       "  #altair-viz-b42ae4314eb145dfb285cd95dae17e48.vega-embed details,\n",
       "  #altair-viz-b42ae4314eb145dfb285cd95dae17e48.vega-embed details summary {\n",
       "    position: relative;\n",
       "  }\n",
       "</style>\n",
       "<div id=\"altair-viz-b42ae4314eb145dfb285cd95dae17e48\"></div>\n",
       "<script type=\"text/javascript\">\n",
       "  var VEGA_DEBUG = (typeof VEGA_DEBUG == \"undefined\") ? {} : VEGA_DEBUG;\n",
       "  (function(spec, embedOpt){\n",
       "    let outputDiv = document.currentScript.previousElementSibling;\n",
       "    if (outputDiv.id !== \"altair-viz-b42ae4314eb145dfb285cd95dae17e48\") {\n",
       "      outputDiv = document.getElementById(\"altair-viz-b42ae4314eb145dfb285cd95dae17e48\");\n",
       "    }\n",
       "    const paths = {\n",
       "      \"vega\": \"https://cdn.jsdelivr.net/npm/vega@5?noext\",\n",
       "      \"vega-lib\": \"https://cdn.jsdelivr.net/npm/vega-lib?noext\",\n",
       "      \"vega-lite\": \"https://cdn.jsdelivr.net/npm/vega-lite@5.8.0?noext\",\n",
       "      \"vega-embed\": \"https://cdn.jsdelivr.net/npm/vega-embed@6?noext\",\n",
       "    };\n",
       "\n",
       "    function maybeLoadScript(lib, version) {\n",
       "      var key = `${lib.replace(\"-\", \"\")}_version`;\n",
       "      return (VEGA_DEBUG[key] == version) ?\n",
       "        Promise.resolve(paths[lib]) :\n",
       "        new Promise(function(resolve, reject) {\n",
       "          var s = document.createElement('script');\n",
       "          document.getElementsByTagName(\"head\")[0].appendChild(s);\n",
       "          s.async = true;\n",
       "          s.onload = () => {\n",
       "            VEGA_DEBUG[key] = version;\n",
       "            return resolve(paths[lib]);\n",
       "          };\n",
       "          s.onerror = () => reject(`Error loading script: ${paths[lib]}`);\n",
       "          s.src = paths[lib];\n",
       "        });\n",
       "    }\n",
       "\n",
       "    function showError(err) {\n",
       "      outputDiv.innerHTML = `<div class=\"error\" style=\"color:red;\">${err}</div>`;\n",
       "      throw err;\n",
       "    }\n",
       "\n",
       "    function displayChart(vegaEmbed) {\n",
       "      vegaEmbed(outputDiv, spec, embedOpt)\n",
       "        .catch(err => showError(`Javascript Error: ${err.message}<br>This usually means there's a typo in your chart specification. See the javascript console for the full traceback.`));\n",
       "    }\n",
       "\n",
       "    if(typeof define === \"function\" && define.amd) {\n",
       "      requirejs.config({paths});\n",
       "      require([\"vega-embed\"], displayChart, err => showError(`Error loading script: ${err.message}`));\n",
       "    } else {\n",
       "      maybeLoadScript(\"vega\", \"5\")\n",
       "        .then(() => maybeLoadScript(\"vega-lite\", \"5.8.0\"))\n",
       "        .then(() => maybeLoadScript(\"vega-embed\", \"6\"))\n",
       "        .catch(showError)\n",
       "        .then(() => displayChart(vegaEmbed));\n",
       "    }\n",
       "  })({\"config\": {\"view\": {\"continuousWidth\": 300, \"continuousHeight\": 300}}, \"data\": {\"name\": \"data-85dfc4691a01b74c616be1f375c48134\"}, \"mark\": {\"type\": \"rect\", \"stroke\": \"black\", \"strokeWidth\": 0.3}, \"encoding\": {\"color\": {\"field\": \"y\", \"scale\": {\"domain\": [\"Pass\", \"Fail\"], \"range\": [\"white\", \"red\"]}, \"title\": \"Key\", \"type\": \"nominal\"}, \"x\": {\"field\": \"index\", \"title\": \"Water Year\", \"type\": \"ordinal\"}, \"y\": {\"field\": \"column\", \"sort\": null, \"title\": \"Series\", \"type\": \"nominal\"}}, \"height\": 50, \"transform\": [{\"fold\": [\"1090\", \"1530\"], \"as\": [\"column\", \"value\"]}, {\"calculate\": \"if(datum.value>=60,1,0)\", \"as\": \"value\"}, {\"lookup\": \"value\", \"from\": {\"data\": {\"name\": \"data-b22dc4365ede9a20f7a450ddb16514b9\"}, \"key\": \"key\", \"fields\": [\"y\"]}}], \"width\": 1300, \"$schema\": \"https://vega.github.io/schema/vega-lite/v5.8.0.json\", \"datasets\": {\"data-85dfc4691a01b74c616be1f375c48134\": [{\"index\": 1890, \"1090\": 0, \"1530\": 0}, {\"index\": 1891, \"1090\": 0, \"1530\": 0}, {\"index\": 1892, \"1090\": 0, \"1530\": 0}, {\"index\": 1893, \"1090\": 0, \"1530\": 0}, {\"index\": 1894, \"1090\": 0, \"1530\": 0}, {\"index\": 1895, \"1090\": 0, \"1530\": 0}, {\"index\": 1896, \"1090\": 0, \"1530\": 0}, {\"index\": 1897, \"1090\": 0, \"1530\": 0}, {\"index\": 1898, \"1090\": 0, \"1530\": 0}, {\"index\": 1899, \"1090\": 0, \"1530\": 0}, {\"index\": 1900, \"1090\": 0, \"1530\": 0}, {\"index\": 1901, \"1090\": 0, \"1530\": 3}, {\"index\": 1902, \"1090\": 0, \"1530\": 104}, {\"index\": 1903, \"1090\": 298, \"1530\": 339}, {\"index\": 1904, \"1090\": 0, \"1530\": 0}, {\"index\": 1905, \"1090\": 0, \"1530\": 0}, {\"index\": 1906, \"1090\": 0, \"1530\": 0}, {\"index\": 1907, \"1090\": 0, \"1530\": 0}, {\"index\": 1908, \"1090\": 0, \"1530\": 0}, {\"index\": 1909, \"1090\": 0, \"1530\": 45}, {\"index\": 1910, \"1090\": 0, \"1530\": 52}, {\"index\": 1911, \"1090\": 0, \"1530\": 0}, {\"index\": 1912, \"1090\": 148, \"1530\": 240}, {\"index\": 1913, \"1090\": 2, \"1530\": 166}, {\"index\": 1914, \"1090\": 0, \"1530\": 52}, {\"index\": 1915, \"1090\": 0, \"1530\": 0}, {\"index\": 1916, \"1090\": 182, \"1530\": 296}, {\"index\": 1917, \"1090\": 28, \"1530\": 59}, {\"index\": 1918, \"1090\": 0, \"1530\": 0}, {\"index\": 1919, \"1090\": 0, \"1530\": 28}, {\"index\": 1920, \"1090\": 116, \"1530\": 232}, {\"index\": 1921, \"1090\": 0, \"1530\": 0}, {\"index\": 1922, \"1090\": 0, \"1530\": 0}, {\"index\": 1923, \"1090\": 0, \"1530\": 0}, {\"index\": 1924, \"1090\": 35, \"1530\": 221}, {\"index\": 1925, \"1090\": 0, \"1530\": 132}, {\"index\": 1926, \"1090\": 0, \"1530\": 61}, {\"index\": 1927, \"1090\": 77, \"1530\": 208}, {\"index\": 1928, \"1090\": 0, \"1530\": 2}, {\"index\": 1929, \"1090\": 0, \"1530\": 0}, {\"index\": 1930, \"1090\": 0, \"1530\": 112}, {\"index\": 1931, \"1090\": 0, \"1530\": 0}, {\"index\": 1932, \"1090\": 0, \"1530\": 0}, {\"index\": 1933, \"1090\": 0, \"1530\": 273}, {\"index\": 1934, \"1090\": 0, \"1530\": 94}, {\"index\": 1935, \"1090\": 0, \"1530\": 23}, {\"index\": 1936, \"1090\": 112, \"1530\": 366}, {\"index\": 1937, \"1090\": 195, \"1530\": 195}, {\"index\": 1938, \"1090\": 0, \"1530\": 82}, {\"index\": 1939, \"1090\": 0, \"1530\": 152}, {\"index\": 1940, \"1090\": 0, \"1530\": 0}, {\"index\": 1941, \"1090\": 88, \"1530\": 230}, {\"index\": 1942, \"1090\": 0, \"1530\": 21}, {\"index\": 1943, \"1090\": 0, \"1530\": 0}, {\"index\": 1944, \"1090\": 0, \"1530\": 0}, {\"index\": 1945, \"1090\": 0, \"1530\": 6}, {\"index\": 1946, \"1090\": 0, \"1530\": 0}, {\"index\": 1947, \"1090\": 0, \"1530\": 0}, {\"index\": 1948, \"1090\": 0, \"1530\": 0}, {\"index\": 1949, \"1090\": 0, \"1530\": 0}, {\"index\": 1950, \"1090\": 0, \"1530\": 0}, {\"index\": 1951, \"1090\": 0, \"1530\": 0}, {\"index\": 1952, \"1090\": 0, \"1530\": 0}, {\"index\": 1953, \"1090\": 0, \"1530\": 0}, {\"index\": 1954, \"1090\": 0, \"1530\": 57}, {\"index\": 1955, \"1090\": 0, \"1530\": 0}, {\"index\": 1956, \"1090\": 0, \"1530\": 0}, {\"index\": 1957, \"1090\": 0, \"1530\": 0}, {\"index\": 1958, \"1090\": 5, \"1530\": 144}, {\"index\": 1959, \"1090\": 0, \"1530\": 0}, {\"index\": 1960, \"1090\": 0, \"1530\": 0}, {\"index\": 1961, \"1090\": 0, \"1530\": 0}, {\"index\": 1962, \"1090\": 0, \"1530\": 0}, {\"index\": 1963, \"1090\": 0, \"1530\": 0}, {\"index\": 1964, \"1090\": 0, \"1530\": 0}, {\"index\": 1965, \"1090\": 0, \"1530\": 103}, {\"index\": 1966, \"1090\": 0, \"1530\": 21}, {\"index\": 1967, \"1090\": 0, \"1530\": 0}, {\"index\": 1968, \"1090\": 0, \"1530\": 0}, {\"index\": 1969, \"1090\": 0, \"1530\": 0}, {\"index\": 1970, \"1090\": 0, \"1530\": 143}, {\"index\": 1971, \"1090\": 103, \"1530\": 167}, {\"index\": 1972, \"1090\": 0, \"1530\": 0}, {\"index\": 1973, \"1090\": 0, \"1530\": 0}, {\"index\": 1974, \"1090\": 0, \"1530\": 52}, {\"index\": 1975, \"1090\": 0, \"1530\": 99}, {\"index\": 1976, \"1090\": 0, \"1530\": 0}, {\"index\": 1977, \"1090\": 0, \"1530\": 0}, {\"index\": 1978, \"1090\": 0, \"1530\": 107}, {\"index\": 1979, \"1090\": 0, \"1530\": 0}, {\"index\": 1980, \"1090\": 25, \"1530\": 147}, {\"index\": 1981, \"1090\": 32, \"1530\": 204}, {\"index\": 1982, \"1090\": 0, \"1530\": 0}, {\"index\": 1983, \"1090\": 0, \"1530\": 0}, {\"index\": 1984, \"1090\": 0, \"1530\": 0}, {\"index\": 1985, \"1090\": 0, \"1530\": 0}, {\"index\": 1986, \"1090\": 0, \"1530\": 0}, {\"index\": 1987, \"1090\": 0, \"1530\": 259}, {\"index\": 1988, \"1090\": 53, \"1530\": 222}, {\"index\": 1989, \"1090\": 0, \"1530\": 0}, {\"index\": 1990, \"1090\": 0, \"1530\": 0}, {\"index\": 1991, \"1090\": 0, \"1530\": 0}, {\"index\": 1992, \"1090\": 0, \"1530\": 63}, {\"index\": 1993, \"1090\": 0, \"1530\": 67}, {\"index\": 1994, \"1090\": 271, \"1530\": 365}, {\"index\": 1995, \"1090\": 365, \"1530\": 365}, {\"index\": 1996, \"1090\": 173, \"1530\": 187}, {\"index\": 1997, \"1090\": 0, \"1530\": 0}, {\"index\": 1998, \"1090\": 0, \"1530\": 14}, {\"index\": 1999, \"1090\": 0, \"1530\": 0}, {\"index\": 2000, \"1090\": 0, \"1530\": 0}, {\"index\": 2001, \"1090\": 17, \"1530\": 137}, {\"index\": 2002, \"1090\": 0, \"1530\": 0}, {\"index\": 2003, \"1090\": 98, \"1530\": 333}, {\"index\": 2004, \"1090\": 68, \"1530\": 200}, {\"index\": 2005, \"1090\": 41, \"1530\": 248}, {\"index\": 2006, \"1090\": 27, \"1530\": 365}, {\"index\": 2007, \"1090\": 365, \"1530\": 365}, {\"index\": 2008, \"1090\": 188, \"1530\": 189}, {\"index\": 2009, \"1090\": 0, \"1530\": 0}, {\"index\": 2010, \"1090\": 0, \"1530\": 0}, {\"index\": 2011, \"1090\": 0, \"1530\": 0}, {\"index\": 2012, \"1090\": 0, \"1530\": 0}, {\"index\": 2013, \"1090\": 0, \"1530\": 47}, {\"index\": 2014, \"1090\": 0, \"1530\": 23}, {\"index\": 2015, \"1090\": 36, \"1530\": 175}, {\"index\": 2016, \"1090\": 55, \"1530\": 201}, {\"index\": 2017, \"1090\": 5, \"1530\": 56}, {\"index\": 2018, \"1090\": 0, \"1530\": 106}, {\"index\": 2019, \"1090\": 265, \"1530\": 365}], \"data-b22dc4365ede9a20f7a450ddb16514b9\": [{\"key\": \"1\", \"y\": \"Fail\"}, {\"key\": \"0\", \"y\": \"Pass\"}]}}, {\"mode\": \"vega-lite\"});\n",
       "</script>"
      ],
      "text/plain": [
       "alt.Chart(...)"
      ]
     },
     "execution_count": 59,
     "metadata": {},
     "output_type": "execute_result"
    }
   ],
   "source": [
    "opl.wy_event_heatmap(df=sla.AnnualDaysBelowSummary([1090,1530]),criteria=60)"
   ]
  },
  {
   "cell_type": "markdown",
   "metadata": {},
   "source": [
    "<div class=\"alert alert-block alert-success\">\n",
    "Additional customisation:\n",
    "</div>"
   ]
  },
  {
   "cell_type": "code",
   "execution_count": 60,
   "metadata": {},
   "outputs": [
    {
     "data": {
      "text/html": [
       "\n",
       "<style>\n",
       "  #altair-viz-ffb16e9663f94adc80648627fab4e5c9.vega-embed {\n",
       "    width: 100%;\n",
       "    display: flex;\n",
       "  }\n",
       "\n",
       "  #altair-viz-ffb16e9663f94adc80648627fab4e5c9.vega-embed details,\n",
       "  #altair-viz-ffb16e9663f94adc80648627fab4e5c9.vega-embed details summary {\n",
       "    position: relative;\n",
       "  }\n",
       "</style>\n",
       "<div id=\"altair-viz-ffb16e9663f94adc80648627fab4e5c9\"></div>\n",
       "<script type=\"text/javascript\">\n",
       "  var VEGA_DEBUG = (typeof VEGA_DEBUG == \"undefined\") ? {} : VEGA_DEBUG;\n",
       "  (function(spec, embedOpt){\n",
       "    let outputDiv = document.currentScript.previousElementSibling;\n",
       "    if (outputDiv.id !== \"altair-viz-ffb16e9663f94adc80648627fab4e5c9\") {\n",
       "      outputDiv = document.getElementById(\"altair-viz-ffb16e9663f94adc80648627fab4e5c9\");\n",
       "    }\n",
       "    const paths = {\n",
       "      \"vega\": \"https://cdn.jsdelivr.net/npm/vega@5?noext\",\n",
       "      \"vega-lib\": \"https://cdn.jsdelivr.net/npm/vega-lib?noext\",\n",
       "      \"vega-lite\": \"https://cdn.jsdelivr.net/npm/vega-lite@5.8.0?noext\",\n",
       "      \"vega-embed\": \"https://cdn.jsdelivr.net/npm/vega-embed@6?noext\",\n",
       "    };\n",
       "\n",
       "    function maybeLoadScript(lib, version) {\n",
       "      var key = `${lib.replace(\"-\", \"\")}_version`;\n",
       "      return (VEGA_DEBUG[key] == version) ?\n",
       "        Promise.resolve(paths[lib]) :\n",
       "        new Promise(function(resolve, reject) {\n",
       "          var s = document.createElement('script');\n",
       "          document.getElementsByTagName(\"head\")[0].appendChild(s);\n",
       "          s.async = true;\n",
       "          s.onload = () => {\n",
       "            VEGA_DEBUG[key] = version;\n",
       "            return resolve(paths[lib]);\n",
       "          };\n",
       "          s.onerror = () => reject(`Error loading script: ${paths[lib]}`);\n",
       "          s.src = paths[lib];\n",
       "        });\n",
       "    }\n",
       "\n",
       "    function showError(err) {\n",
       "      outputDiv.innerHTML = `<div class=\"error\" style=\"color:red;\">${err}</div>`;\n",
       "      throw err;\n",
       "    }\n",
       "\n",
       "    function displayChart(vegaEmbed) {\n",
       "      vegaEmbed(outputDiv, spec, embedOpt)\n",
       "        .catch(err => showError(`Javascript Error: ${err.message}<br>This usually means there's a typo in your chart specification. See the javascript console for the full traceback.`));\n",
       "    }\n",
       "\n",
       "    if(typeof define === \"function\" && define.amd) {\n",
       "      requirejs.config({paths});\n",
       "      require([\"vega-embed\"], displayChart, err => showError(`Error loading script: ${err.message}`));\n",
       "    } else {\n",
       "      maybeLoadScript(\"vega\", \"5\")\n",
       "        .then(() => maybeLoadScript(\"vega-lite\", \"5.8.0\"))\n",
       "        .then(() => maybeLoadScript(\"vega-embed\", \"6\"))\n",
       "        .catch(showError)\n",
       "        .then(() => displayChart(vegaEmbed));\n",
       "    }\n",
       "  })({\"config\": {\"view\": {\"continuousWidth\": 300, \"continuousHeight\": 300}}, \"data\": {\"name\": \"data-64dbc2146cb49ed8f8384f590f74856a\"}, \"mark\": {\"type\": \"rect\", \"stroke\": \"grey\", \"strokeWidth\": 0.5}, \"encoding\": {\"color\": {\"field\": \"y\", \"scale\": {\"domain\": [\"\", \"Triggered\"], \"range\": [\"lightgrey\", \"green\"]}, \"title\": \"Key\", \"type\": \"nominal\"}, \"x\": {\"field\": \"index\", \"title\": \"Water Year\", \"type\": \"ordinal\"}, \"y\": {\"field\": \"column\", \"sort\": null, \"title\": \"Storage trigger volume (ML)\", \"type\": \"nominal\"}}, \"height\": 200, \"transform\": [{\"fold\": [\"400\", \"655\", \"1090\", \"1530\"], \"as\": [\"column\", \"value\"]}, {\"calculate\": \"if(datum.value>=60,1,0)\", \"as\": \"value\"}, {\"lookup\": \"value\", \"from\": {\"data\": {\"name\": \"data-ac0e10cdb3424ef0385538e66819581d\"}, \"key\": \"key\", \"fields\": [\"y\"]}}], \"width\": 1200, \"$schema\": \"https://vega.github.io/schema/vega-lite/v5.8.0.json\", \"datasets\": {\"data-64dbc2146cb49ed8f8384f590f74856a\": [{\"index\": 1890, \"400\": 0, \"655\": 0, \"1090\": 0, \"1530\": 0}, {\"index\": 1891, \"400\": 0, \"655\": 0, \"1090\": 0, \"1530\": 0}, {\"index\": 1892, \"400\": 0, \"655\": 0, \"1090\": 0, \"1530\": 0}, {\"index\": 1893, \"400\": 0, \"655\": 0, \"1090\": 0, \"1530\": 0}, {\"index\": 1894, \"400\": 0, \"655\": 0, \"1090\": 0, \"1530\": 0}, {\"index\": 1895, \"400\": 0, \"655\": 0, \"1090\": 0, \"1530\": 0}, {\"index\": 1896, \"400\": 0, \"655\": 0, \"1090\": 0, \"1530\": 0}, {\"index\": 1897, \"400\": 0, \"655\": 0, \"1090\": 0, \"1530\": 0}, {\"index\": 1898, \"400\": 0, \"655\": 0, \"1090\": 0, \"1530\": 0}, {\"index\": 1899, \"400\": 0, \"655\": 0, \"1090\": 0, \"1530\": 0}, {\"index\": 1900, \"400\": 0, \"655\": 0, \"1090\": 0, \"1530\": 0}, {\"index\": 1901, \"400\": 0, \"655\": 0, \"1090\": 0, \"1530\": 3}, {\"index\": 1902, \"400\": 0, \"655\": 0, \"1090\": 0, \"1530\": 104}, {\"index\": 1903, \"400\": 75, \"655\": 154, \"1090\": 298, \"1530\": 339}, {\"index\": 1904, \"400\": 0, \"655\": 0, \"1090\": 0, \"1530\": 0}, {\"index\": 1905, \"400\": 0, \"655\": 0, \"1090\": 0, \"1530\": 0}, {\"index\": 1906, \"400\": 0, \"655\": 0, \"1090\": 0, \"1530\": 0}, {\"index\": 1907, \"400\": 0, \"655\": 0, \"1090\": 0, \"1530\": 0}, {\"index\": 1908, \"400\": 0, \"655\": 0, \"1090\": 0, \"1530\": 0}, {\"index\": 1909, \"400\": 0, \"655\": 0, \"1090\": 0, \"1530\": 45}, {\"index\": 1910, \"400\": 0, \"655\": 0, \"1090\": 0, \"1530\": 52}, {\"index\": 1911, \"400\": 0, \"655\": 0, \"1090\": 0, \"1530\": 0}, {\"index\": 1912, \"400\": 0, \"655\": 0, \"1090\": 148, \"1530\": 240}, {\"index\": 1913, \"400\": 0, \"655\": 0, \"1090\": 2, \"1530\": 166}, {\"index\": 1914, \"400\": 0, \"655\": 0, \"1090\": 0, \"1530\": 52}, {\"index\": 1915, \"400\": 0, \"655\": 0, \"1090\": 0, \"1530\": 0}, {\"index\": 1916, \"400\": 0, \"655\": 0, \"1090\": 182, \"1530\": 296}, {\"index\": 1917, \"400\": 0, \"655\": 0, \"1090\": 28, \"1530\": 59}, {\"index\": 1918, \"400\": 0, \"655\": 0, \"1090\": 0, \"1530\": 0}, {\"index\": 1919, \"400\": 0, \"655\": 0, \"1090\": 0, \"1530\": 28}, {\"index\": 1920, \"400\": 0, \"655\": 0, \"1090\": 116, \"1530\": 232}, {\"index\": 1921, \"400\": 0, \"655\": 0, \"1090\": 0, \"1530\": 0}, {\"index\": 1922, \"400\": 0, \"655\": 0, \"1090\": 0, \"1530\": 0}, {\"index\": 1923, \"400\": 0, \"655\": 0, \"1090\": 0, \"1530\": 0}, {\"index\": 1924, \"400\": 0, \"655\": 0, \"1090\": 35, \"1530\": 221}, {\"index\": 1925, \"400\": 0, \"655\": 0, \"1090\": 0, \"1530\": 132}, {\"index\": 1926, \"400\": 0, \"655\": 0, \"1090\": 0, \"1530\": 61}, {\"index\": 1927, \"400\": 0, \"655\": 0, \"1090\": 77, \"1530\": 208}, {\"index\": 1928, \"400\": 0, \"655\": 0, \"1090\": 0, \"1530\": 2}, {\"index\": 1929, \"400\": 0, \"655\": 0, \"1090\": 0, \"1530\": 0}, {\"index\": 1930, \"400\": 0, \"655\": 0, \"1090\": 0, \"1530\": 112}, {\"index\": 1931, \"400\": 0, \"655\": 0, \"1090\": 0, \"1530\": 0}, {\"index\": 1932, \"400\": 0, \"655\": 0, \"1090\": 0, \"1530\": 0}, {\"index\": 1933, \"400\": 0, \"655\": 0, \"1090\": 0, \"1530\": 273}, {\"index\": 1934, \"400\": 0, \"655\": 0, \"1090\": 0, \"1530\": 94}, {\"index\": 1935, \"400\": 0, \"655\": 0, \"1090\": 0, \"1530\": 23}, {\"index\": 1936, \"400\": 0, \"655\": 0, \"1090\": 112, \"1530\": 366}, {\"index\": 1937, \"400\": 0, \"655\": 104, \"1090\": 195, \"1530\": 195}, {\"index\": 1938, \"400\": 0, \"655\": 0, \"1090\": 0, \"1530\": 82}, {\"index\": 1939, \"400\": 0, \"655\": 0, \"1090\": 0, \"1530\": 152}, {\"index\": 1940, \"400\": 0, \"655\": 0, \"1090\": 0, \"1530\": 0}, {\"index\": 1941, \"400\": 0, \"655\": 0, \"1090\": 88, \"1530\": 230}, {\"index\": 1942, \"400\": 0, \"655\": 0, \"1090\": 0, \"1530\": 21}, {\"index\": 1943, \"400\": 0, \"655\": 0, \"1090\": 0, \"1530\": 0}, {\"index\": 1944, \"400\": 0, \"655\": 0, \"1090\": 0, \"1530\": 0}, {\"index\": 1945, \"400\": 0, \"655\": 0, \"1090\": 0, \"1530\": 6}, {\"index\": 1946, \"400\": 0, \"655\": 0, \"1090\": 0, \"1530\": 0}, {\"index\": 1947, \"400\": 0, \"655\": 0, \"1090\": 0, \"1530\": 0}, {\"index\": 1948, \"400\": 0, \"655\": 0, \"1090\": 0, \"1530\": 0}, {\"index\": 1949, \"400\": 0, \"655\": 0, \"1090\": 0, \"1530\": 0}, {\"index\": 1950, \"400\": 0, \"655\": 0, \"1090\": 0, \"1530\": 0}, {\"index\": 1951, \"400\": 0, \"655\": 0, \"1090\": 0, \"1530\": 0}, {\"index\": 1952, \"400\": 0, \"655\": 0, \"1090\": 0, \"1530\": 0}, {\"index\": 1953, \"400\": 0, \"655\": 0, \"1090\": 0, \"1530\": 0}, {\"index\": 1954, \"400\": 0, \"655\": 0, \"1090\": 0, \"1530\": 57}, {\"index\": 1955, \"400\": 0, \"655\": 0, \"1090\": 0, \"1530\": 0}, {\"index\": 1956, \"400\": 0, \"655\": 0, \"1090\": 0, \"1530\": 0}, {\"index\": 1957, \"400\": 0, \"655\": 0, \"1090\": 0, \"1530\": 0}, {\"index\": 1958, \"400\": 0, \"655\": 0, \"1090\": 5, \"1530\": 144}, {\"index\": 1959, \"400\": 0, \"655\": 0, \"1090\": 0, \"1530\": 0}, {\"index\": 1960, \"400\": 0, \"655\": 0, \"1090\": 0, \"1530\": 0}, {\"index\": 1961, \"400\": 0, \"655\": 0, \"1090\": 0, \"1530\": 0}, {\"index\": 1962, \"400\": 0, \"655\": 0, \"1090\": 0, \"1530\": 0}, {\"index\": 1963, \"400\": 0, \"655\": 0, \"1090\": 0, \"1530\": 0}, {\"index\": 1964, \"400\": 0, \"655\": 0, \"1090\": 0, \"1530\": 0}, {\"index\": 1965, \"400\": 0, \"655\": 0, \"1090\": 0, \"1530\": 103}, {\"index\": 1966, \"400\": 0, \"655\": 0, \"1090\": 0, \"1530\": 21}, {\"index\": 1967, \"400\": 0, \"655\": 0, \"1090\": 0, \"1530\": 0}, {\"index\": 1968, \"400\": 0, \"655\": 0, \"1090\": 0, \"1530\": 0}, {\"index\": 1969, \"400\": 0, \"655\": 0, \"1090\": 0, \"1530\": 0}, {\"index\": 1970, \"400\": 0, \"655\": 0, \"1090\": 0, \"1530\": 143}, {\"index\": 1971, \"400\": 0, \"655\": 0, \"1090\": 103, \"1530\": 167}, {\"index\": 1972, \"400\": 0, \"655\": 0, \"1090\": 0, \"1530\": 0}, {\"index\": 1973, \"400\": 0, \"655\": 0, \"1090\": 0, \"1530\": 0}, {\"index\": 1974, \"400\": 0, \"655\": 0, \"1090\": 0, \"1530\": 52}, {\"index\": 1975, \"400\": 0, \"655\": 0, \"1090\": 0, \"1530\": 99}, {\"index\": 1976, \"400\": 0, \"655\": 0, \"1090\": 0, \"1530\": 0}, {\"index\": 1977, \"400\": 0, \"655\": 0, \"1090\": 0, \"1530\": 0}, {\"index\": 1978, \"400\": 0, \"655\": 0, \"1090\": 0, \"1530\": 107}, {\"index\": 1979, \"400\": 0, \"655\": 0, \"1090\": 0, \"1530\": 0}, {\"index\": 1980, \"400\": 0, \"655\": 0, \"1090\": 25, \"1530\": 147}, {\"index\": 1981, \"400\": 0, \"655\": 0, \"1090\": 32, \"1530\": 204}, {\"index\": 1982, \"400\": 0, \"655\": 0, \"1090\": 0, \"1530\": 0}, {\"index\": 1983, \"400\": 0, \"655\": 0, \"1090\": 0, \"1530\": 0}, {\"index\": 1984, \"400\": 0, \"655\": 0, \"1090\": 0, \"1530\": 0}, {\"index\": 1985, \"400\": 0, \"655\": 0, \"1090\": 0, \"1530\": 0}, {\"index\": 1986, \"400\": 0, \"655\": 0, \"1090\": 0, \"1530\": 0}, {\"index\": 1987, \"400\": 0, \"655\": 0, \"1090\": 0, \"1530\": 259}, {\"index\": 1988, \"400\": 0, \"655\": 0, \"1090\": 53, \"1530\": 222}, {\"index\": 1989, \"400\": 0, \"655\": 0, \"1090\": 0, \"1530\": 0}, {\"index\": 1990, \"400\": 0, \"655\": 0, \"1090\": 0, \"1530\": 0}, {\"index\": 1991, \"400\": 0, \"655\": 0, \"1090\": 0, \"1530\": 0}, {\"index\": 1992, \"400\": 0, \"655\": 0, \"1090\": 0, \"1530\": 63}, {\"index\": 1993, \"400\": 0, \"655\": 0, \"1090\": 0, \"1530\": 67}, {\"index\": 1994, \"400\": 0, \"655\": 24, \"1090\": 271, \"1530\": 365}, {\"index\": 1995, \"400\": 68, \"655\": 277, \"1090\": 365, \"1530\": 365}, {\"index\": 1996, \"400\": 103, \"655\": 149, \"1090\": 173, \"1530\": 187}, {\"index\": 1997, \"400\": 0, \"655\": 0, \"1090\": 0, \"1530\": 0}, {\"index\": 1998, \"400\": 0, \"655\": 0, \"1090\": 0, \"1530\": 14}, {\"index\": 1999, \"400\": 0, \"655\": 0, \"1090\": 0, \"1530\": 0}, {\"index\": 2000, \"400\": 0, \"655\": 0, \"1090\": 0, \"1530\": 0}, {\"index\": 2001, \"400\": 0, \"655\": 0, \"1090\": 17, \"1530\": 137}, {\"index\": 2002, \"400\": 0, \"655\": 0, \"1090\": 0, \"1530\": 0}, {\"index\": 2003, \"400\": 0, \"655\": 0, \"1090\": 98, \"1530\": 333}, {\"index\": 2004, \"400\": 0, \"655\": 0, \"1090\": 68, \"1530\": 200}, {\"index\": 2005, \"400\": 0, \"655\": 0, \"1090\": 41, \"1530\": 248}, {\"index\": 2006, \"400\": 0, \"655\": 0, \"1090\": 27, \"1530\": 365}, {\"index\": 2007, \"400\": 127, \"655\": 223, \"1090\": 365, \"1530\": 365}, {\"index\": 2008, \"400\": 171, \"655\": 188, \"1090\": 188, \"1530\": 189}, {\"index\": 2009, \"400\": 0, \"655\": 0, \"1090\": 0, \"1530\": 0}, {\"index\": 2010, \"400\": 0, \"655\": 0, \"1090\": 0, \"1530\": 0}, {\"index\": 2011, \"400\": 0, \"655\": 0, \"1090\": 0, \"1530\": 0}, {\"index\": 2012, \"400\": 0, \"655\": 0, \"1090\": 0, \"1530\": 0}, {\"index\": 2013, \"400\": 0, \"655\": 0, \"1090\": 0, \"1530\": 47}, {\"index\": 2014, \"400\": 0, \"655\": 0, \"1090\": 0, \"1530\": 23}, {\"index\": 2015, \"400\": 0, \"655\": 0, \"1090\": 36, \"1530\": 175}, {\"index\": 2016, \"400\": 0, \"655\": 0, \"1090\": 55, \"1530\": 201}, {\"index\": 2017, \"400\": 0, \"655\": 0, \"1090\": 5, \"1530\": 56}, {\"index\": 2018, \"400\": 0, \"655\": 0, \"1090\": 0, \"1530\": 106}, {\"index\": 2019, \"400\": 0, \"655\": 56, \"1090\": 265, \"1530\": 365}], \"data-ac0e10cdb3424ef0385538e66819581d\": [{\"key\": \"1\", \"y\": \"Triggered\"}, {\"key\": \"0\", \"y\": \"\"}]}}, {\"mode\": \"vega-lite\"});\n",
       "</script>"
      ],
      "text/plain": [
       "alt.Chart(...)"
      ]
     },
     "execution_count": 60,
     "metadata": {},
     "output_type": "execute_result"
    }
   ],
   "source": [
    "opl.wy_event_heatmap(df=sla.AnnualDaysBelowSummary(),criteria=60,y_title=\"Storage trigger volume (ML)\",pass_label=\"\",fail_label=\"Triggered\",pass_colour=\"lightgrey\",fail_colour='green',width=1200,height=200,stroke='grey',strokeWidth=0.5)"
   ]
  }
 ],
 "metadata": {
  "kernelspec": {
   "display_name": "py39",
   "language": "python",
   "name": "python3"
  },
  "language_info": {
   "codemirror_mode": {
    "name": "ipython",
    "version": 3
   },
   "file_extension": ".py",
   "mimetype": "text/x-python",
   "name": "python",
   "nbconvert_exporter": "python",
   "pygments_lexer": "ipython3",
   "version": "3.9.16"
  },
  "orig_nbformat": 4
 },
 "nbformat": 4,
 "nbformat_minor": 2
}
