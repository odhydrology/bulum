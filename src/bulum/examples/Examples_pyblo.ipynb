{
 "cells": [
  {
   "cell_type": "code",
   "execution_count": 2,
   "metadata": {},
   "outputs": [],
   "source": [
    "import bulum.stats as ost\n",
    "import bulum.utils as out\n",
    "import bulum.plots as opl\n",
    "import bulum.io as oio\n",
    "\n",
    "import warnings\n",
    "warnings.filterwarnings(\"ignore\", category=DeprecationWarning) "
   ]
  },
  {
   "cell_type": "markdown",
   "metadata": {},
   "source": [
    "## <span style='color:midnightblue'> Pyblo </span>"
   ]
  },
  {
   "cell_type": "markdown",
   "metadata": {},
   "source": [
    "<div class=\"alert alert-block alert-success\">\n",
    "Pyblo is a python-environment version of the QH-developed Pablo program, which allows quick comparison of available gauge/timeseries information over periods of interest. Sections below show indicative use cases and parameters for Pyblo.\n",
    "</div>"
   ]
  },
  {
   "cell_type": "code",
   "execution_count": 6,
   "metadata": {},
   "outputs": [],
   "source": [
    "pathlist=['./Pyblo/919001C.csv','./Pyblo/919001B.csv','./Pyblo/919001A.csv','./Pyblo/919003A.csv','./Pyblo/919009B.csv','./Pyblo/919009A.csv']\n",
    "\n",
    "#Explicit inputs\n",
    "ts1=oio.read_ts_csv(pathlist[0])\n",
    "ts2=oio.read_ts_csv(pathlist[1])\n",
    "ts3=oio.read_ts_csv(pathlist[2])\n",
    "ts4=oio.read_ts_csv(pathlist[3])\n",
    "ts5=oio.read_ts_csv(pathlist[4])\n",
    "ts6=oio.read_ts_csv(pathlist[5])\n",
    "\n",
    "#List of inputs\n",
    "df_list=[]\n",
    "for i in range(len(pathlist)):\n",
    "    df_list.append(oio.read_ts_csv(pathlist[i])[\"Total\"])"
   ]
  },
  {
   "cell_type": "markdown",
   "metadata": {},
   "source": [
    "### Example 1 - Compare available gauge data across several timeseries"
   ]
  },
  {
   "cell_type": "code",
   "execution_count": 7,
   "metadata": {},
   "outputs": [
    {
     "data": {
      "text/html": [
       "\n",
       "<style>\n",
       "  #altair-viz-703451adb641406ba237440def59e2ca.vega-embed {\n",
       "    width: 100%;\n",
       "    display: flex;\n",
       "  }\n",
       "\n",
       "  #altair-viz-703451adb641406ba237440def59e2ca.vega-embed details,\n",
       "  #altair-viz-703451adb641406ba237440def59e2ca.vega-embed details summary {\n",
       "    position: relative;\n",
       "  }\n",
       "</style>\n",
       "<div id=\"altair-viz-703451adb641406ba237440def59e2ca\"></div>\n",
       "<script type=\"text/javascript\">\n",
       "  var VEGA_DEBUG = (typeof VEGA_DEBUG == \"undefined\") ? {} : VEGA_DEBUG;\n",
       "  (function(spec, embedOpt){\n",
       "    let outputDiv = document.currentScript.previousElementSibling;\n",
       "    if (outputDiv.id !== \"altair-viz-703451adb641406ba237440def59e2ca\") {\n",
       "      outputDiv = document.getElementById(\"altair-viz-703451adb641406ba237440def59e2ca\");\n",
       "    }\n",
       "    const paths = {\n",
       "      \"vega\": \"https://cdn.jsdelivr.net/npm/vega@5?noext\",\n",
       "      \"vega-lib\": \"https://cdn.jsdelivr.net/npm/vega-lib?noext\",\n",
       "      \"vega-lite\": \"https://cdn.jsdelivr.net/npm/vega-lite@5.8.0?noext\",\n",
       "      \"vega-embed\": \"https://cdn.jsdelivr.net/npm/vega-embed@6?noext\",\n",
       "    };\n",
       "\n",
       "    function maybeLoadScript(lib, version) {\n",
       "      var key = `${lib.replace(\"-\", \"\")}_version`;\n",
       "      return (VEGA_DEBUG[key] == version) ?\n",
       "        Promise.resolve(paths[lib]) :\n",
       "        new Promise(function(resolve, reject) {\n",
       "          var s = document.createElement('script');\n",
       "          document.getElementsByTagName(\"head\")[0].appendChild(s);\n",
       "          s.async = true;\n",
       "          s.onload = () => {\n",
       "            VEGA_DEBUG[key] = version;\n",
       "            return resolve(paths[lib]);\n",
       "          };\n",
       "          s.onerror = () => reject(`Error loading script: ${paths[lib]}`);\n",
       "          s.src = paths[lib];\n",
       "        });\n",
       "    }\n",
       "\n",
       "    function showError(err) {\n",
       "      outputDiv.innerHTML = `<div class=\"error\" style=\"color:red;\">${err}</div>`;\n",
       "      throw err;\n",
       "    }\n",
       "\n",
       "    function displayChart(vegaEmbed) {\n",
       "      vegaEmbed(outputDiv, spec, embedOpt)\n",
       "        .catch(err => showError(`Javascript Error: ${err.message}<br>This usually means there's a typo in your chart specification. See the javascript console for the full traceback.`));\n",
       "    }\n",
       "\n",
       "    if(typeof define === \"function\" && define.amd) {\n",
       "      requirejs.config({paths});\n",
       "      require([\"vega-embed\"], displayChart, err => showError(`Error loading script: ${err.message}`));\n",
       "    } else {\n",
       "      maybeLoadScript(\"vega\", \"5\")\n",
       "        .then(() => maybeLoadScript(\"vega-lite\", \"5.8.0\"))\n",
       "        .then(() => maybeLoadScript(\"vega-embed\", \"6\"))\n",
       "        .catch(showError)\n",
       "        .then(() => displayChart(vegaEmbed));\n",
       "    }\n",
       "  })({\"config\": {\"view\": {\"continuousWidth\": 300, \"continuousHeight\": 300, \"stroke\": \"black\"}, \"axis\": {\"labelFontSize\": 12, \"titleFontSize\": 12}, \"headerRow\": {\"labelFontSize\": 12, \"titleFontSize\": 12}, \"legend\": {\"labelFontSize\": 12, \"titleFontSize\": 12}}, \"data\": {\"name\": \"data-d07d4b9faefa12e441b648aaf6d15267\"}, \"mark\": {\"type\": \"bar\", \"clip\": true, \"width\": {\"band\": 1}}, \"encoding\": {\"color\": {\"field\": \"c\", \"scale\": {\"range\": [\"#72AC57\", \"#639188\", \"#5C77B0\", \"#765EA4\", \"#98467A\", \"#BA3438\", \"#CF512B\", \"#E18433\"]}, \"sort\": [\"Gauge data\"], \"title\": \"Series\", \"type\": \"nominal\"}, \"order\": {\"field\": \"color_c_sort_index\", \"type\": \"quantitative\"}, \"row\": {\"field\": \"Site\", \"header\": {\"labelAlign\": \"left\", \"labelAngle\": 0, \"labelOrient\": \"left\"}, \"sort\": [\"919001C\", \"919001B\", \"919001A\", \"919003A\", \"919009B\", \"919009A\"], \"spacing\": 0, \"title\": null}, \"stroke\": {\"value\": \"black\"}, \"strokeWidth\": {\"condition\": {\"test\": \"datum.Perc > 0\", \"value\": 0.5}, \"value\": 0}, \"tooltip\": [{\"field\": \"Perc\", \"format\": \".1%\", \"title\": \"Percentage\", \"type\": \"quantitative\"}, {\"field\": \"c\", \"title\": \"Series\", \"type\": \"nominal\"}, {\"field\": \"index\", \"format\": \"%Y\", \"title\": \"Water Year\", \"type\": \"temporal\"}], \"x\": {\"axis\": {\"grid\": true, \"gridColor\": \"lightgrey\", \"labelAngle\": 90, \"labelExpr\": \"year(datum.value) % 10 ? null : datum.label\", \"labelPadding\": 5, \"orient\": \"top\", \"tickCount\": 999999, \"ticks\": false, \"title\": null}, \"field\": \"index\", \"scale\": {\"domain\": [\"1967-01-01T00:00:00\", \"2016-01-01T00:00:00\"]}, \"timeUnit\": \"year\", \"type\": \"temporal\"}, \"y\": {\"axis\": {\"format\": \".1%\", \"tickCount\": 0}, \"field\": \"Perc\", \"scale\": {\"domain\": [0, 1]}, \"stack\": \"zero\", \"title\": null, \"type\": \"quantitative\"}}, \"height\": 35, \"title\": {\"text\": [\"Annual (January to December) percentage of available data: 01/01/1967 - 31/12/2015\"], \"anchor\": \"start\", \"baseline\": \"bottom\", \"fontSize\": 10.8, \"fontStyle\": \"italic\", \"fontWeight\": \"normal\", \"offset\": 21.6, \"orient\": \"bottom\"}, \"transform\": [{\"lookup\": \"Series\", \"from\": {\"data\": {\"name\": \"data-7c3b56967ed322afd803bde1a0ae8bed\"}, \"key\": \"key\", \"fields\": [\"c\"]}}], \"width\": 600, \"$schema\": \"https://vega.github.io/schema/vega-lite/v5.8.0.json\", \"datasets\": {\"data-d07d4b9faefa12e441b648aaf6d15267\": [{\"index\": \"1985-01-01T00:00:00\", \"Series\": \"Series0\", \"Count\": 190, \"Day_count\": 365.0, \"Perc\": 0.5205479452054794, \"Site\": \"919001C\"}, {\"index\": \"1986-01-01T00:00:00\", \"Series\": \"Series0\", \"Count\": 346, \"Day_count\": 365.0, \"Perc\": 0.947945205479452, \"Site\": \"919001C\"}, {\"index\": \"1987-01-01T00:00:00\", \"Series\": \"Series0\", \"Count\": 365, \"Day_count\": 365.0, \"Perc\": 1.0, \"Site\": \"919001C\"}, {\"index\": \"1988-01-01T00:00:00\", \"Series\": \"Series0\", \"Count\": 312, \"Day_count\": 366.0, \"Perc\": 0.8524590163934426, \"Site\": \"919001C\"}, {\"index\": \"1970-01-01T00:00:00\", \"Series\": \"Series1\", \"Count\": 309, \"Day_count\": 365.0, \"Perc\": 0.8465753424657534, \"Site\": \"919001B\"}, {\"index\": \"1971-01-01T00:00:00\", \"Series\": \"Series1\", \"Count\": 365, \"Day_count\": 365.0, \"Perc\": 1.0, \"Site\": \"919001B\"}, {\"index\": \"1972-01-01T00:00:00\", \"Series\": \"Series1\", \"Count\": 366, \"Day_count\": 366.0, \"Perc\": 1.0, \"Site\": \"919001B\"}, {\"index\": \"1973-01-01T00:00:00\", \"Series\": \"Series1\", \"Count\": 363, \"Day_count\": 365.0, \"Perc\": 0.9945205479452055, \"Site\": \"919001B\"}, {\"index\": \"1974-01-01T00:00:00\", \"Series\": \"Series1\", \"Count\": 365, \"Day_count\": 365.0, \"Perc\": 1.0, \"Site\": \"919001B\"}, {\"index\": \"1975-01-01T00:00:00\", \"Series\": \"Series1\", \"Count\": 365, \"Day_count\": 365.0, \"Perc\": 1.0, \"Site\": \"919001B\"}, {\"index\": \"1976-01-01T00:00:00\", \"Series\": \"Series1\", \"Count\": 366, \"Day_count\": 366.0, \"Perc\": 1.0, \"Site\": \"919001B\"}, {\"index\": \"1977-01-01T00:00:00\", \"Series\": \"Series1\", \"Count\": 365, \"Day_count\": 365.0, \"Perc\": 1.0, \"Site\": \"919001B\"}, {\"index\": \"1978-01-01T00:00:00\", \"Series\": \"Series1\", \"Count\": 365, \"Day_count\": 365.0, \"Perc\": 1.0, \"Site\": \"919001B\"}, {\"index\": \"1979-01-01T00:00:00\", \"Series\": \"Series1\", \"Count\": 365, \"Day_count\": 365.0, \"Perc\": 1.0, \"Site\": \"919001B\"}, {\"index\": \"1980-01-01T00:00:00\", \"Series\": \"Series1\", \"Count\": 366, \"Day_count\": 366.0, \"Perc\": 1.0, \"Site\": \"919001B\"}, {\"index\": \"1981-01-01T00:00:00\", \"Series\": \"Series1\", \"Count\": 365, \"Day_count\": 365.0, \"Perc\": 1.0, \"Site\": \"919001B\"}, {\"index\": \"1982-01-01T00:00:00\", \"Series\": \"Series1\", \"Count\": 365, \"Day_count\": 365.0, \"Perc\": 1.0, \"Site\": \"919001B\"}, {\"index\": \"1983-01-01T00:00:00\", \"Series\": \"Series1\", \"Count\": 365, \"Day_count\": 365.0, \"Perc\": 1.0, \"Site\": \"919001B\"}, {\"index\": \"1984-01-01T00:00:00\", \"Series\": \"Series1\", \"Count\": 366, \"Day_count\": 366.0, \"Perc\": 1.0, \"Site\": \"919001B\"}, {\"index\": \"1985-01-01T00:00:00\", \"Series\": \"Series1\", \"Count\": 365, \"Day_count\": 365.0, \"Perc\": 1.0, \"Site\": \"919001B\"}, {\"index\": \"1986-01-01T00:00:00\", \"Series\": \"Series1\", \"Count\": 177, \"Day_count\": 365.0, \"Perc\": 0.4849315068493151, \"Site\": \"919001B\"}, {\"index\": \"1967-01-01T00:00:00\", \"Series\": \"Series3\", \"Count\": 76, \"Day_count\": 365.0, \"Perc\": 0.20821917808219179, \"Site\": \"919003A\"}, {\"index\": \"1968-01-01T00:00:00\", \"Series\": \"Series3\", \"Count\": 366, \"Day_count\": 366.0, \"Perc\": 1.0, \"Site\": \"919003A\"}, {\"index\": \"1969-01-01T00:00:00\", \"Series\": \"Series3\", \"Count\": 365, \"Day_count\": 365.0, \"Perc\": 1.0, \"Site\": \"919003A\"}, {\"index\": \"1970-01-01T00:00:00\", \"Series\": \"Series3\", \"Count\": 323, \"Day_count\": 365.0, \"Perc\": 0.8849315068493151, \"Site\": \"919003A\"}, {\"index\": \"1971-01-01T00:00:00\", \"Series\": \"Series3\", \"Count\": 365, \"Day_count\": 365.0, \"Perc\": 1.0, \"Site\": \"919003A\"}, {\"index\": \"1972-01-01T00:00:00\", \"Series\": \"Series3\", \"Count\": 366, \"Day_count\": 366.0, \"Perc\": 1.0, \"Site\": \"919003A\"}, {\"index\": \"1973-01-01T00:00:00\", \"Series\": \"Series3\", \"Count\": 365, \"Day_count\": 365.0, \"Perc\": 1.0, \"Site\": \"919003A\"}, {\"index\": \"1974-01-01T00:00:00\", \"Series\": \"Series3\", \"Count\": 365, \"Day_count\": 365.0, \"Perc\": 1.0, \"Site\": \"919003A\"}, {\"index\": \"1975-01-01T00:00:00\", \"Series\": \"Series3\", \"Count\": 365, \"Day_count\": 365.0, \"Perc\": 1.0, \"Site\": \"919003A\"}, {\"index\": \"1976-01-01T00:00:00\", \"Series\": \"Series3\", \"Count\": 366, \"Day_count\": 366.0, \"Perc\": 1.0, \"Site\": \"919003A\"}, {\"index\": \"1977-01-01T00:00:00\", \"Series\": \"Series3\", \"Count\": 365, \"Day_count\": 365.0, \"Perc\": 1.0, \"Site\": \"919003A\"}, {\"index\": \"1978-01-01T00:00:00\", \"Series\": \"Series3\", \"Count\": 365, \"Day_count\": 365.0, \"Perc\": 1.0, \"Site\": \"919003A\"}, {\"index\": \"1979-01-01T00:00:00\", \"Series\": \"Series3\", \"Count\": 365, \"Day_count\": 365.0, \"Perc\": 1.0, \"Site\": \"919003A\"}, {\"index\": \"1980-01-01T00:00:00\", \"Series\": \"Series3\", \"Count\": 366, \"Day_count\": 366.0, \"Perc\": 1.0, \"Site\": \"919003A\"}, {\"index\": \"1981-01-01T00:00:00\", \"Series\": \"Series3\", \"Count\": 365, \"Day_count\": 365.0, \"Perc\": 1.0, \"Site\": \"919003A\"}, {\"index\": \"1982-01-01T00:00:00\", \"Series\": \"Series3\", \"Count\": 365, \"Day_count\": 365.0, \"Perc\": 1.0, \"Site\": \"919003A\"}, {\"index\": \"1983-01-01T00:00:00\", \"Series\": \"Series3\", \"Count\": 365, \"Day_count\": 365.0, \"Perc\": 1.0, \"Site\": \"919003A\"}, {\"index\": \"1984-01-01T00:00:00\", \"Series\": \"Series3\", \"Count\": 366, \"Day_count\": 366.0, \"Perc\": 1.0, \"Site\": \"919003A\"}, {\"index\": \"1985-01-01T00:00:00\", \"Series\": \"Series3\", \"Count\": 234, \"Day_count\": 365.0, \"Perc\": 0.6410958904109589, \"Site\": \"919003A\"}, {\"index\": \"1986-01-01T00:00:00\", \"Series\": \"Series3\", \"Count\": 348, \"Day_count\": 365.0, \"Perc\": 0.9534246575342465, \"Site\": \"919003A\"}, {\"index\": \"1987-01-01T00:00:00\", \"Series\": \"Series3\", \"Count\": 288, \"Day_count\": 365.0, \"Perc\": 0.7890410958904109, \"Site\": \"919003A\"}, {\"index\": \"1988-01-01T00:00:00\", \"Series\": \"Series3\", \"Count\": 366, \"Day_count\": 366.0, \"Perc\": 1.0, \"Site\": \"919003A\"}, {\"index\": \"1989-01-01T00:00:00\", \"Series\": \"Series3\", \"Count\": 263, \"Day_count\": 365.0, \"Perc\": 0.7205479452054795, \"Site\": \"919003A\"}, {\"index\": \"1990-01-01T00:00:00\", \"Series\": \"Series3\", \"Count\": 330, \"Day_count\": 365.0, \"Perc\": 0.9041095890410958, \"Site\": \"919003A\"}, {\"index\": \"1991-01-01T00:00:00\", \"Series\": \"Series3\", \"Count\": 276, \"Day_count\": 365.0, \"Perc\": 0.7561643835616438, \"Site\": \"919003A\"}, {\"index\": \"1992-01-01T00:00:00\", \"Series\": \"Series3\", \"Count\": 254, \"Day_count\": 366.0, \"Perc\": 0.6939890710382514, \"Site\": \"919003A\"}, {\"index\": \"1993-01-01T00:00:00\", \"Series\": \"Series3\", \"Count\": 365, \"Day_count\": 365.0, \"Perc\": 1.0, \"Site\": \"919003A\"}, {\"index\": \"1994-01-01T00:00:00\", \"Series\": \"Series3\", \"Count\": 365, \"Day_count\": 365.0, \"Perc\": 1.0, \"Site\": \"919003A\"}, {\"index\": \"1995-01-01T00:00:00\", \"Series\": \"Series3\", \"Count\": 365, \"Day_count\": 365.0, \"Perc\": 1.0, \"Site\": \"919003A\"}, {\"index\": \"1996-01-01T00:00:00\", \"Series\": \"Series3\", \"Count\": 251, \"Day_count\": 366.0, \"Perc\": 0.6857923497267759, \"Site\": \"919003A\"}, {\"index\": \"1997-01-01T00:00:00\", \"Series\": \"Series3\", \"Count\": 76, \"Day_count\": 365.0, \"Perc\": 0.20821917808219179, \"Site\": \"919003A\"}, {\"index\": \"1998-01-01T00:00:00\", \"Series\": \"Series3\", \"Count\": 297, \"Day_count\": 365.0, \"Perc\": 0.8136986301369863, \"Site\": \"919003A\"}, {\"index\": \"1999-01-01T00:00:00\", \"Series\": \"Series3\", \"Count\": 330, \"Day_count\": 365.0, \"Perc\": 0.9041095890410958, \"Site\": \"919003A\"}, {\"index\": \"2000-01-01T00:00:00\", \"Series\": \"Series3\", \"Count\": 311, \"Day_count\": 366.0, \"Perc\": 0.8497267759562842, \"Site\": \"919003A\"}, {\"index\": \"2001-01-01T00:00:00\", \"Series\": \"Series3\", \"Count\": 365, \"Day_count\": 365.0, \"Perc\": 1.0, \"Site\": \"919003A\"}, {\"index\": \"2002-01-01T00:00:00\", \"Series\": \"Series3\", \"Count\": 365, \"Day_count\": 365.0, \"Perc\": 1.0, \"Site\": \"919003A\"}, {\"index\": \"2003-01-01T00:00:00\", \"Series\": \"Series3\", \"Count\": 365, \"Day_count\": 365.0, \"Perc\": 1.0, \"Site\": \"919003A\"}, {\"index\": \"2004-01-01T00:00:00\", \"Series\": \"Series3\", \"Count\": 366, \"Day_count\": 366.0, \"Perc\": 1.0, \"Site\": \"919003A\"}, {\"index\": \"2005-01-01T00:00:00\", \"Series\": \"Series3\", \"Count\": 365, \"Day_count\": 365.0, \"Perc\": 1.0, \"Site\": \"919003A\"}, {\"index\": \"2006-01-01T00:00:00\", \"Series\": \"Series3\", \"Count\": 365, \"Day_count\": 365.0, \"Perc\": 1.0, \"Site\": \"919003A\"}, {\"index\": \"2007-01-01T00:00:00\", \"Series\": \"Series3\", \"Count\": 365, \"Day_count\": 365.0, \"Perc\": 1.0, \"Site\": \"919003A\"}, {\"index\": \"2008-01-01T00:00:00\", \"Series\": \"Series3\", \"Count\": 366, \"Day_count\": 366.0, \"Perc\": 1.0, \"Site\": \"919003A\"}, {\"index\": \"2009-01-01T00:00:00\", \"Series\": \"Series3\", \"Count\": 365, \"Day_count\": 365.0, \"Perc\": 1.0, \"Site\": \"919003A\"}, {\"index\": \"2010-01-01T00:00:00\", \"Series\": \"Series3\", \"Count\": 365, \"Day_count\": 365.0, \"Perc\": 1.0, \"Site\": \"919003A\"}, {\"index\": \"2011-01-01T00:00:00\", \"Series\": \"Series3\", \"Count\": 365, \"Day_count\": 365.0, \"Perc\": 1.0, \"Site\": \"919003A\"}, {\"index\": \"2012-01-01T00:00:00\", \"Series\": \"Series3\", \"Count\": 366, \"Day_count\": 366.0, \"Perc\": 1.0, \"Site\": \"919003A\"}, {\"index\": \"2013-01-01T00:00:00\", \"Series\": \"Series3\", \"Count\": 365, \"Day_count\": 365.0, \"Perc\": 1.0, \"Site\": \"919003A\"}, {\"index\": \"2014-01-01T00:00:00\", \"Series\": \"Series3\", \"Count\": 365, \"Day_count\": 365.0, \"Perc\": 1.0, \"Site\": \"919003A\"}, {\"index\": \"2015-01-01T00:00:00\", \"Series\": \"Series3\", \"Count\": 308, \"Day_count\": 365.0, \"Perc\": 0.8438356164383561, \"Site\": \"919003A\"}, {\"index\": \"2009-01-01T00:00:00\", \"Series\": \"Series4\", \"Count\": 53, \"Day_count\": 365.0, \"Perc\": 0.14520547945205478, \"Site\": \"919009B\"}, {\"index\": \"2010-01-01T00:00:00\", \"Series\": \"Series4\", \"Count\": 365, \"Day_count\": 365.0, \"Perc\": 1.0, \"Site\": \"919009B\"}, {\"index\": \"2011-01-01T00:00:00\", \"Series\": \"Series4\", \"Count\": 365, \"Day_count\": 365.0, \"Perc\": 1.0, \"Site\": \"919009B\"}, {\"index\": \"2012-01-01T00:00:00\", \"Series\": \"Series4\", \"Count\": 366, \"Day_count\": 366.0, \"Perc\": 1.0, \"Site\": \"919009B\"}, {\"index\": \"2013-01-01T00:00:00\", \"Series\": \"Series4\", \"Count\": 365, \"Day_count\": 365.0, \"Perc\": 1.0, \"Site\": \"919009B\"}, {\"index\": \"2014-01-01T00:00:00\", \"Series\": \"Series4\", \"Count\": 365, \"Day_count\": 365.0, \"Perc\": 1.0, \"Site\": \"919009B\"}, {\"index\": \"2015-01-01T00:00:00\", \"Series\": \"Series4\", \"Count\": 308, \"Day_count\": 365.0, \"Perc\": 0.8438356164383561, \"Site\": \"919009B\"}, {\"index\": \"1972-01-01T00:00:00\", \"Series\": \"Series5\", \"Count\": 176, \"Day_count\": 366.0, \"Perc\": 0.4808743169398907, \"Site\": \"919009A\"}, {\"index\": \"1973-01-01T00:00:00\", \"Series\": \"Series5\", \"Count\": 365, \"Day_count\": 365.0, \"Perc\": 1.0, \"Site\": \"919009A\"}, {\"index\": \"1974-01-01T00:00:00\", \"Series\": \"Series5\", \"Count\": 365, \"Day_count\": 365.0, \"Perc\": 1.0, \"Site\": \"919009A\"}, {\"index\": \"1975-01-01T00:00:00\", \"Series\": \"Series5\", \"Count\": 365, \"Day_count\": 365.0, \"Perc\": 1.0, \"Site\": \"919009A\"}, {\"index\": \"1976-01-01T00:00:00\", \"Series\": \"Series5\", \"Count\": 366, \"Day_count\": 366.0, \"Perc\": 1.0, \"Site\": \"919009A\"}, {\"index\": \"1977-01-01T00:00:00\", \"Series\": \"Series5\", \"Count\": 365, \"Day_count\": 365.0, \"Perc\": 1.0, \"Site\": \"919009A\"}, {\"index\": \"1978-01-01T00:00:00\", \"Series\": \"Series5\", \"Count\": 365, \"Day_count\": 365.0, \"Perc\": 1.0, \"Site\": \"919009A\"}, {\"index\": \"1979-01-01T00:00:00\", \"Series\": \"Series5\", \"Count\": 365, \"Day_count\": 365.0, \"Perc\": 1.0, \"Site\": \"919009A\"}, {\"index\": \"1980-01-01T00:00:00\", \"Series\": \"Series5\", \"Count\": 366, \"Day_count\": 366.0, \"Perc\": 1.0, \"Site\": \"919009A\"}, {\"index\": \"1981-01-01T00:00:00\", \"Series\": \"Series5\", \"Count\": 365, \"Day_count\": 365.0, \"Perc\": 1.0, \"Site\": \"919009A\"}, {\"index\": \"1982-01-01T00:00:00\", \"Series\": \"Series5\", \"Count\": 365, \"Day_count\": 365.0, \"Perc\": 1.0, \"Site\": \"919009A\"}, {\"index\": \"1983-01-01T00:00:00\", \"Series\": \"Series5\", \"Count\": 365, \"Day_count\": 365.0, \"Perc\": 1.0, \"Site\": \"919009A\"}, {\"index\": \"1984-01-01T00:00:00\", \"Series\": \"Series5\", \"Count\": 366, \"Day_count\": 366.0, \"Perc\": 1.0, \"Site\": \"919009A\"}, {\"index\": \"1985-01-01T00:00:00\", \"Series\": \"Series5\", \"Count\": 365, \"Day_count\": 365.0, \"Perc\": 1.0, \"Site\": \"919009A\"}, {\"index\": \"1986-01-01T00:00:00\", \"Series\": \"Series5\", \"Count\": 365, \"Day_count\": 365.0, \"Perc\": 1.0, \"Site\": \"919009A\"}, {\"index\": \"1987-01-01T00:00:00\", \"Series\": \"Series5\", \"Count\": 365, \"Day_count\": 365.0, \"Perc\": 1.0, \"Site\": \"919009A\"}, {\"index\": \"1988-01-01T00:00:00\", \"Series\": \"Series5\", \"Count\": 293, \"Day_count\": 366.0, \"Perc\": 0.8005464480874317, \"Site\": \"919009A\"}, {\"index\": \"1992-01-01T00:00:00\", \"Series\": \"Series5\", \"Count\": 238, \"Day_count\": 366.0, \"Perc\": 0.6502732240437158, \"Site\": \"919009A\"}, {\"index\": \"1993-01-01T00:00:00\", \"Series\": \"Series5\", \"Count\": 30, \"Day_count\": 365.0, \"Perc\": 0.0821917808219178, \"Site\": \"919009A\"}, {\"index\": \"1994-01-01T00:00:00\", \"Series\": \"Series5\", \"Count\": 232, \"Day_count\": 365.0, \"Perc\": 0.6356164383561644, \"Site\": \"919009A\"}, {\"index\": \"1995-01-01T00:00:00\", \"Series\": \"Series5\", \"Count\": 365, \"Day_count\": 365.0, \"Perc\": 1.0, \"Site\": \"919009A\"}, {\"index\": \"1996-01-01T00:00:00\", \"Series\": \"Series5\", \"Count\": 366, \"Day_count\": 366.0, \"Perc\": 1.0, \"Site\": \"919009A\"}, {\"index\": \"1997-01-01T00:00:00\", \"Series\": \"Series5\", \"Count\": 365, \"Day_count\": 365.0, \"Perc\": 1.0, \"Site\": \"919009A\"}, {\"index\": \"1998-01-01T00:00:00\", \"Series\": \"Series5\", \"Count\": 216, \"Day_count\": 365.0, \"Perc\": 0.5917808219178082, \"Site\": \"919009A\"}, {\"index\": \"1999-01-01T00:00:00\", \"Series\": \"Series5\", \"Count\": 365, \"Day_count\": 365.0, \"Perc\": 1.0, \"Site\": \"919009A\"}, {\"index\": \"2000-01-01T00:00:00\", \"Series\": \"Series5\", \"Count\": 366, \"Day_count\": 366.0, \"Perc\": 1.0, \"Site\": \"919009A\"}, {\"index\": \"2001-01-01T00:00:00\", \"Series\": \"Series5\", \"Count\": 365, \"Day_count\": 365.0, \"Perc\": 1.0, \"Site\": \"919009A\"}, {\"index\": \"2002-01-01T00:00:00\", \"Series\": \"Series5\", \"Count\": 365, \"Day_count\": 365.0, \"Perc\": 1.0, \"Site\": \"919009A\"}, {\"index\": \"2003-01-01T00:00:00\", \"Series\": \"Series5\", \"Count\": 365, \"Day_count\": 365.0, \"Perc\": 1.0, \"Site\": \"919009A\"}, {\"index\": \"2004-01-01T00:00:00\", \"Series\": \"Series5\", \"Count\": 366, \"Day_count\": 366.0, \"Perc\": 1.0, \"Site\": \"919009A\"}, {\"index\": \"2005-01-01T00:00:00\", \"Series\": \"Series5\", \"Count\": 365, \"Day_count\": 365.0, \"Perc\": 1.0, \"Site\": \"919009A\"}, {\"index\": \"2006-01-01T00:00:00\", \"Series\": \"Series5\", \"Count\": 365, \"Day_count\": 365.0, \"Perc\": 1.0, \"Site\": \"919009A\"}, {\"index\": \"2007-01-01T00:00:00\", \"Series\": \"Series5\", \"Count\": 365, \"Day_count\": 365.0, \"Perc\": 1.0, \"Site\": \"919009A\"}, {\"index\": \"2008-01-01T00:00:00\", \"Series\": \"Series5\", \"Count\": 285, \"Day_count\": 366.0, \"Perc\": 0.7786885245901639, \"Site\": \"919009A\"}, {\"index\": \"2009-01-01T00:00:00\", \"Series\": \"Series5\", \"Count\": 287, \"Day_count\": 365.0, \"Perc\": 0.7863013698630137, \"Site\": \"919009A\"}, {\"index\": \"2010-01-01T00:00:00\", \"Series\": \"Series5\", \"Count\": 314, \"Day_count\": 365.0, \"Perc\": 0.8602739726027397, \"Site\": \"919009A\"}], \"data-7c3b56967ed322afd803bde1a0ae8bed\": [{\"key\": \"Series0\", \"c\": \"Gauge data\"}, {\"key\": \"Series1\", \"c\": \"Gauge data\"}, {\"key\": \"Series2\", \"c\": \"Gauge data\"}, {\"key\": \"Series3\", \"c\": \"Gauge data\"}, {\"key\": \"Series4\", \"c\": \"Gauge data\"}, {\"key\": \"Series5\", \"c\": \"Gauge data\"}]}}, {\"mode\": \"vega-lite\"});\n",
       "</script>"
      ],
      "text/plain": [
       "alt.Chart(...)"
      ]
     },
     "execution_count": 7,
     "metadata": {},
     "output_type": "execute_result"
    }
   ],
   "source": [
    "dflist=[ts1[\"Total\"],ts2[\"Total\"],ts3[\"Total\"],ts4[\"Total\"],ts5[\"Total\"],ts6[\"Total\"]]\n",
    "sites=[\"919001C\",\"919001B\",\"919001A\",\"919003A\",\"919009B\",\"919009A\"]\n",
    "series=[\"Gauge data\",\"Gauge data\",\"Gauge data\",\"Gauge data\",\"Gauge data\",\"Gauge data\"]\n",
    "\n",
    "opl.pyblo(dflist,sites,series)"
   ]
  },
  {
   "cell_type": "markdown",
   "metadata": {},
   "source": [
    "### Example 2 - Compare available gauge data makeup of several gauge locations"
   ]
  },
  {
   "cell_type": "code",
   "execution_count": 11,
   "metadata": {},
   "outputs": [
    {
     "data": {
      "text/html": [
       "\n",
       "<style>\n",
       "  #altair-viz-9cd60ffa18df41ebb8399183aa582206.vega-embed {\n",
       "    width: 100%;\n",
       "    display: flex;\n",
       "  }\n",
       "\n",
       "  #altair-viz-9cd60ffa18df41ebb8399183aa582206.vega-embed details,\n",
       "  #altair-viz-9cd60ffa18df41ebb8399183aa582206.vega-embed details summary {\n",
       "    position: relative;\n",
       "  }\n",
       "</style>\n",
       "<div id=\"altair-viz-9cd60ffa18df41ebb8399183aa582206\"></div>\n",
       "<script type=\"text/javascript\">\n",
       "  var VEGA_DEBUG = (typeof VEGA_DEBUG == \"undefined\") ? {} : VEGA_DEBUG;\n",
       "  (function(spec, embedOpt){\n",
       "    let outputDiv = document.currentScript.previousElementSibling;\n",
       "    if (outputDiv.id !== \"altair-viz-9cd60ffa18df41ebb8399183aa582206\") {\n",
       "      outputDiv = document.getElementById(\"altair-viz-9cd60ffa18df41ebb8399183aa582206\");\n",
       "    }\n",
       "    const paths = {\n",
       "      \"vega\": \"https://cdn.jsdelivr.net/npm/vega@5?noext\",\n",
       "      \"vega-lib\": \"https://cdn.jsdelivr.net/npm/vega-lib?noext\",\n",
       "      \"vega-lite\": \"https://cdn.jsdelivr.net/npm/vega-lite@5.8.0?noext\",\n",
       "      \"vega-embed\": \"https://cdn.jsdelivr.net/npm/vega-embed@6?noext\",\n",
       "    };\n",
       "\n",
       "    function maybeLoadScript(lib, version) {\n",
       "      var key = `${lib.replace(\"-\", \"\")}_version`;\n",
       "      return (VEGA_DEBUG[key] == version) ?\n",
       "        Promise.resolve(paths[lib]) :\n",
       "        new Promise(function(resolve, reject) {\n",
       "          var s = document.createElement('script');\n",
       "          document.getElementsByTagName(\"head\")[0].appendChild(s);\n",
       "          s.async = true;\n",
       "          s.onload = () => {\n",
       "            VEGA_DEBUG[key] = version;\n",
       "            return resolve(paths[lib]);\n",
       "          };\n",
       "          s.onerror = () => reject(`Error loading script: ${paths[lib]}`);\n",
       "          s.src = paths[lib];\n",
       "        });\n",
       "    }\n",
       "\n",
       "    function showError(err) {\n",
       "      outputDiv.innerHTML = `<div class=\"error\" style=\"color:red;\">${err}</div>`;\n",
       "      throw err;\n",
       "    }\n",
       "\n",
       "    function displayChart(vegaEmbed) {\n",
       "      vegaEmbed(outputDiv, spec, embedOpt)\n",
       "        .catch(err => showError(`Javascript Error: ${err.message}<br>This usually means there's a typo in your chart specification. See the javascript console for the full traceback.`));\n",
       "    }\n",
       "\n",
       "    if(typeof define === \"function\" && define.amd) {\n",
       "      requirejs.config({paths});\n",
       "      require([\"vega-embed\"], displayChart, err => showError(`Error loading script: ${err.message}`));\n",
       "    } else {\n",
       "      maybeLoadScript(\"vega\", \"5\")\n",
       "        .then(() => maybeLoadScript(\"vega-lite\", \"5.8.0\"))\n",
       "        .then(() => maybeLoadScript(\"vega-embed\", \"6\"))\n",
       "        .catch(showError)\n",
       "        .then(() => displayChart(vegaEmbed));\n",
       "    }\n",
       "  })({\"config\": {\"view\": {\"continuousWidth\": 300, \"continuousHeight\": 300, \"stroke\": \"black\"}, \"axis\": {\"labelFontSize\": 12, \"titleFontSize\": 12}, \"headerRow\": {\"labelFontSize\": 12, \"titleFontSize\": 12}, \"legend\": {\"labelFontSize\": 12, \"titleFontSize\": 12}}, \"data\": {\"name\": \"data-38c6abec8106d432085b44ffa2444037\"}, \"mark\": {\"type\": \"bar\", \"clip\": true, \"width\": {\"band\": 1}}, \"encoding\": {\"color\": {\"field\": \"c\", \"scale\": {\"range\": [\"#72AC57\", \"#639188\", \"#5C77B0\", \"#765EA4\", \"#98467A\", \"#BA3438\", \"#CF512B\", \"#E18433\"]}, \"sort\": [\"C gauge data\", \"B gauge data\", \"A gauge data\"], \"title\": \"Series\", \"type\": \"nominal\"}, \"order\": {\"field\": \"color_c_sort_index\", \"type\": \"quantitative\"}, \"row\": {\"field\": \"Site\", \"header\": {\"labelAlign\": \"left\", \"labelAngle\": 0, \"labelOrient\": \"left\"}, \"sort\": [\"919001\", \"919003\", \"919009\"], \"spacing\": 0, \"title\": null}, \"stroke\": {\"value\": \"black\"}, \"strokeWidth\": {\"condition\": {\"test\": \"datum.Perc > 0\", \"value\": 0.5}, \"value\": 0}, \"tooltip\": [{\"field\": \"Perc\", \"format\": \".1%\", \"title\": \"Percentage\", \"type\": \"quantitative\"}, {\"field\": \"c\", \"title\": \"Series\", \"type\": \"nominal\"}, {\"field\": \"index\", \"format\": \"%Y\", \"title\": \"Water Year\", \"type\": \"temporal\"}], \"x\": {\"axis\": {\"grid\": true, \"gridColor\": \"lightgrey\", \"labelAngle\": 90, \"labelExpr\": \"year(datum.value) % 10 ? null : datum.label\", \"labelPadding\": 5, \"orient\": \"top\", \"tickCount\": 999999, \"ticks\": false, \"title\": null}, \"field\": \"index\", \"scale\": {\"domain\": [\"1967-01-01T00:00:00\", \"2016-01-01T00:00:00\"]}, \"timeUnit\": \"year\", \"type\": \"temporal\"}, \"y\": {\"axis\": {\"format\": \".1%\", \"tickCount\": 0}, \"field\": \"Perc\", \"scale\": {\"domain\": [0, 1]}, \"stack\": \"zero\", \"title\": null, \"type\": \"quantitative\"}}, \"height\": 35, \"title\": {\"text\": [\"Annual (January to December) percentage of available data: 01/01/1967 - 31/12/2015\"], \"anchor\": \"start\", \"baseline\": \"bottom\", \"fontSize\": 10.8, \"fontStyle\": \"italic\", \"fontWeight\": \"normal\", \"offset\": 21.6, \"orient\": \"bottom\"}, \"transform\": [{\"lookup\": \"Series\", \"from\": {\"data\": {\"name\": \"data-6ab3077922bc200046cff8915352931c\"}, \"key\": \"key\", \"fields\": [\"c\"]}}], \"width\": 600, \"$schema\": \"https://vega.github.io/schema/vega-lite/v5.8.0.json\", \"datasets\": {\"data-38c6abec8106d432085b44ffa2444037\": [{\"index\": \"1970-01-01T00:00:00\", \"Series\": \"Series1\", \"Count\": 309, \"Day_count\": 365, \"Perc\": 0.8465753424657534, \"Site\": \"919001\"}, {\"index\": \"1971-01-01T00:00:00\", \"Series\": \"Series1\", \"Count\": 365, \"Day_count\": 365, \"Perc\": 1.0, \"Site\": \"919001\"}, {\"index\": \"1972-01-01T00:00:00\", \"Series\": \"Series1\", \"Count\": 366, \"Day_count\": 366, \"Perc\": 1.0, \"Site\": \"919001\"}, {\"index\": \"1973-01-01T00:00:00\", \"Series\": \"Series1\", \"Count\": 363, \"Day_count\": 365, \"Perc\": 0.9945205479452055, \"Site\": \"919001\"}, {\"index\": \"1974-01-01T00:00:00\", \"Series\": \"Series1\", \"Count\": 365, \"Day_count\": 365, \"Perc\": 1.0, \"Site\": \"919001\"}, {\"index\": \"1975-01-01T00:00:00\", \"Series\": \"Series1\", \"Count\": 365, \"Day_count\": 365, \"Perc\": 1.0, \"Site\": \"919001\"}, {\"index\": \"1976-01-01T00:00:00\", \"Series\": \"Series1\", \"Count\": 366, \"Day_count\": 366, \"Perc\": 1.0, \"Site\": \"919001\"}, {\"index\": \"1977-01-01T00:00:00\", \"Series\": \"Series1\", \"Count\": 365, \"Day_count\": 365, \"Perc\": 1.0, \"Site\": \"919001\"}, {\"index\": \"1978-01-01T00:00:00\", \"Series\": \"Series1\", \"Count\": 365, \"Day_count\": 365, \"Perc\": 1.0, \"Site\": \"919001\"}, {\"index\": \"1979-01-01T00:00:00\", \"Series\": \"Series1\", \"Count\": 365, \"Day_count\": 365, \"Perc\": 1.0, \"Site\": \"919001\"}, {\"index\": \"1980-01-01T00:00:00\", \"Series\": \"Series1\", \"Count\": 366, \"Day_count\": 366, \"Perc\": 1.0, \"Site\": \"919001\"}, {\"index\": \"1981-01-01T00:00:00\", \"Series\": \"Series1\", \"Count\": 365, \"Day_count\": 365, \"Perc\": 1.0, \"Site\": \"919001\"}, {\"index\": \"1982-01-01T00:00:00\", \"Series\": \"Series1\", \"Count\": 365, \"Day_count\": 365, \"Perc\": 1.0, \"Site\": \"919001\"}, {\"index\": \"1983-01-01T00:00:00\", \"Series\": \"Series1\", \"Count\": 365, \"Day_count\": 365, \"Perc\": 1.0, \"Site\": \"919001\"}, {\"index\": \"1984-01-01T00:00:00\", \"Series\": \"Series1\", \"Count\": 366, \"Day_count\": 366, \"Perc\": 1.0, \"Site\": \"919001\"}, {\"index\": \"1985-01-01T00:00:00\", \"Series\": \"Series0\", \"Count\": 190, \"Day_count\": 365, \"Perc\": 0.5205479452054794, \"Site\": \"919001\"}, {\"index\": \"1985-01-01T00:00:00\", \"Series\": \"Series1\", \"Count\": 175, \"Day_count\": 365, \"Perc\": 0.4794520547945205, \"Site\": \"919001\"}, {\"index\": \"1986-01-01T00:00:00\", \"Series\": \"Series0\", \"Count\": 346, \"Day_count\": 365, \"Perc\": 0.947945205479452, \"Site\": \"919001\"}, {\"index\": \"1986-01-01T00:00:00\", \"Series\": \"Series1\", \"Count\": 19, \"Day_count\": 365, \"Perc\": 0.052054794520547946, \"Site\": \"919001\"}, {\"index\": \"1987-01-01T00:00:00\", \"Series\": \"Series0\", \"Count\": 365, \"Day_count\": 365, \"Perc\": 1.0, \"Site\": \"919001\"}, {\"index\": \"1988-01-01T00:00:00\", \"Series\": \"Series0\", \"Count\": 312, \"Day_count\": 366, \"Perc\": 0.8524590163934426, \"Site\": \"919001\"}, {\"index\": \"1967-01-01T00:00:00\", \"Series\": \"Series3\", \"Count\": 76, \"Day_count\": 365, \"Perc\": 0.20821917808219179, \"Site\": \"919003\"}, {\"index\": \"1968-01-01T00:00:00\", \"Series\": \"Series3\", \"Count\": 366, \"Day_count\": 366, \"Perc\": 1.0, \"Site\": \"919003\"}, {\"index\": \"1969-01-01T00:00:00\", \"Series\": \"Series3\", \"Count\": 365, \"Day_count\": 365, \"Perc\": 1.0, \"Site\": \"919003\"}, {\"index\": \"1970-01-01T00:00:00\", \"Series\": \"Series3\", \"Count\": 323, \"Day_count\": 365, \"Perc\": 0.8849315068493151, \"Site\": \"919003\"}, {\"index\": \"1971-01-01T00:00:00\", \"Series\": \"Series3\", \"Count\": 365, \"Day_count\": 365, \"Perc\": 1.0, \"Site\": \"919003\"}, {\"index\": \"1972-01-01T00:00:00\", \"Series\": \"Series3\", \"Count\": 366, \"Day_count\": 366, \"Perc\": 1.0, \"Site\": \"919003\"}, {\"index\": \"1973-01-01T00:00:00\", \"Series\": \"Series3\", \"Count\": 365, \"Day_count\": 365, \"Perc\": 1.0, \"Site\": \"919003\"}, {\"index\": \"1974-01-01T00:00:00\", \"Series\": \"Series3\", \"Count\": 365, \"Day_count\": 365, \"Perc\": 1.0, \"Site\": \"919003\"}, {\"index\": \"1975-01-01T00:00:00\", \"Series\": \"Series3\", \"Count\": 365, \"Day_count\": 365, \"Perc\": 1.0, \"Site\": \"919003\"}, {\"index\": \"1976-01-01T00:00:00\", \"Series\": \"Series3\", \"Count\": 366, \"Day_count\": 366, \"Perc\": 1.0, \"Site\": \"919003\"}, {\"index\": \"1977-01-01T00:00:00\", \"Series\": \"Series3\", \"Count\": 365, \"Day_count\": 365, \"Perc\": 1.0, \"Site\": \"919003\"}, {\"index\": \"1978-01-01T00:00:00\", \"Series\": \"Series3\", \"Count\": 365, \"Day_count\": 365, \"Perc\": 1.0, \"Site\": \"919003\"}, {\"index\": \"1979-01-01T00:00:00\", \"Series\": \"Series3\", \"Count\": 365, \"Day_count\": 365, \"Perc\": 1.0, \"Site\": \"919003\"}, {\"index\": \"1980-01-01T00:00:00\", \"Series\": \"Series3\", \"Count\": 366, \"Day_count\": 366, \"Perc\": 1.0, \"Site\": \"919003\"}, {\"index\": \"1981-01-01T00:00:00\", \"Series\": \"Series3\", \"Count\": 365, \"Day_count\": 365, \"Perc\": 1.0, \"Site\": \"919003\"}, {\"index\": \"1982-01-01T00:00:00\", \"Series\": \"Series3\", \"Count\": 365, \"Day_count\": 365, \"Perc\": 1.0, \"Site\": \"919003\"}, {\"index\": \"1983-01-01T00:00:00\", \"Series\": \"Series3\", \"Count\": 365, \"Day_count\": 365, \"Perc\": 1.0, \"Site\": \"919003\"}, {\"index\": \"1984-01-01T00:00:00\", \"Series\": \"Series3\", \"Count\": 366, \"Day_count\": 366, \"Perc\": 1.0, \"Site\": \"919003\"}, {\"index\": \"1985-01-01T00:00:00\", \"Series\": \"Series3\", \"Count\": 234, \"Day_count\": 365, \"Perc\": 0.6410958904109589, \"Site\": \"919003\"}, {\"index\": \"1986-01-01T00:00:00\", \"Series\": \"Series3\", \"Count\": 348, \"Day_count\": 365, \"Perc\": 0.9534246575342465, \"Site\": \"919003\"}, {\"index\": \"1987-01-01T00:00:00\", \"Series\": \"Series3\", \"Count\": 288, \"Day_count\": 365, \"Perc\": 0.7890410958904109, \"Site\": \"919003\"}, {\"index\": \"1988-01-01T00:00:00\", \"Series\": \"Series3\", \"Count\": 366, \"Day_count\": 366, \"Perc\": 1.0, \"Site\": \"919003\"}, {\"index\": \"1989-01-01T00:00:00\", \"Series\": \"Series3\", \"Count\": 263, \"Day_count\": 365, \"Perc\": 0.7205479452054795, \"Site\": \"919003\"}, {\"index\": \"1990-01-01T00:00:00\", \"Series\": \"Series3\", \"Count\": 330, \"Day_count\": 365, \"Perc\": 0.9041095890410958, \"Site\": \"919003\"}, {\"index\": \"1991-01-01T00:00:00\", \"Series\": \"Series3\", \"Count\": 276, \"Day_count\": 365, \"Perc\": 0.7561643835616438, \"Site\": \"919003\"}, {\"index\": \"1992-01-01T00:00:00\", \"Series\": \"Series3\", \"Count\": 254, \"Day_count\": 366, \"Perc\": 0.6939890710382514, \"Site\": \"919003\"}, {\"index\": \"1993-01-01T00:00:00\", \"Series\": \"Series3\", \"Count\": 365, \"Day_count\": 365, \"Perc\": 1.0, \"Site\": \"919003\"}, {\"index\": \"1994-01-01T00:00:00\", \"Series\": \"Series3\", \"Count\": 365, \"Day_count\": 365, \"Perc\": 1.0, \"Site\": \"919003\"}, {\"index\": \"1995-01-01T00:00:00\", \"Series\": \"Series3\", \"Count\": 365, \"Day_count\": 365, \"Perc\": 1.0, \"Site\": \"919003\"}, {\"index\": \"1996-01-01T00:00:00\", \"Series\": \"Series3\", \"Count\": 251, \"Day_count\": 366, \"Perc\": 0.6857923497267759, \"Site\": \"919003\"}, {\"index\": \"1997-01-01T00:00:00\", \"Series\": \"Series3\", \"Count\": 76, \"Day_count\": 365, \"Perc\": 0.20821917808219179, \"Site\": \"919003\"}, {\"index\": \"1998-01-01T00:00:00\", \"Series\": \"Series3\", \"Count\": 297, \"Day_count\": 365, \"Perc\": 0.8136986301369863, \"Site\": \"919003\"}, {\"index\": \"1999-01-01T00:00:00\", \"Series\": \"Series3\", \"Count\": 330, \"Day_count\": 365, \"Perc\": 0.9041095890410958, \"Site\": \"919003\"}, {\"index\": \"2000-01-01T00:00:00\", \"Series\": \"Series3\", \"Count\": 311, \"Day_count\": 366, \"Perc\": 0.8497267759562842, \"Site\": \"919003\"}, {\"index\": \"2001-01-01T00:00:00\", \"Series\": \"Series3\", \"Count\": 365, \"Day_count\": 365, \"Perc\": 1.0, \"Site\": \"919003\"}, {\"index\": \"2002-01-01T00:00:00\", \"Series\": \"Series3\", \"Count\": 365, \"Day_count\": 365, \"Perc\": 1.0, \"Site\": \"919003\"}, {\"index\": \"2003-01-01T00:00:00\", \"Series\": \"Series3\", \"Count\": 365, \"Day_count\": 365, \"Perc\": 1.0, \"Site\": \"919003\"}, {\"index\": \"2004-01-01T00:00:00\", \"Series\": \"Series3\", \"Count\": 366, \"Day_count\": 366, \"Perc\": 1.0, \"Site\": \"919003\"}, {\"index\": \"2005-01-01T00:00:00\", \"Series\": \"Series3\", \"Count\": 365, \"Day_count\": 365, \"Perc\": 1.0, \"Site\": \"919003\"}, {\"index\": \"2006-01-01T00:00:00\", \"Series\": \"Series3\", \"Count\": 365, \"Day_count\": 365, \"Perc\": 1.0, \"Site\": \"919003\"}, {\"index\": \"2007-01-01T00:00:00\", \"Series\": \"Series3\", \"Count\": 365, \"Day_count\": 365, \"Perc\": 1.0, \"Site\": \"919003\"}, {\"index\": \"2008-01-01T00:00:00\", \"Series\": \"Series3\", \"Count\": 366, \"Day_count\": 366, \"Perc\": 1.0, \"Site\": \"919003\"}, {\"index\": \"2009-01-01T00:00:00\", \"Series\": \"Series3\", \"Count\": 365, \"Day_count\": 365, \"Perc\": 1.0, \"Site\": \"919003\"}, {\"index\": \"2010-01-01T00:00:00\", \"Series\": \"Series3\", \"Count\": 365, \"Day_count\": 365, \"Perc\": 1.0, \"Site\": \"919003\"}, {\"index\": \"2011-01-01T00:00:00\", \"Series\": \"Series3\", \"Count\": 365, \"Day_count\": 365, \"Perc\": 1.0, \"Site\": \"919003\"}, {\"index\": \"2012-01-01T00:00:00\", \"Series\": \"Series3\", \"Count\": 366, \"Day_count\": 366, \"Perc\": 1.0, \"Site\": \"919003\"}, {\"index\": \"2013-01-01T00:00:00\", \"Series\": \"Series3\", \"Count\": 365, \"Day_count\": 365, \"Perc\": 1.0, \"Site\": \"919003\"}, {\"index\": \"2014-01-01T00:00:00\", \"Series\": \"Series3\", \"Count\": 365, \"Day_count\": 365, \"Perc\": 1.0, \"Site\": \"919003\"}, {\"index\": \"2015-01-01T00:00:00\", \"Series\": \"Series3\", \"Count\": 308, \"Day_count\": 365, \"Perc\": 0.8438356164383561, \"Site\": \"919003\"}, {\"index\": \"1972-01-01T00:00:00\", \"Series\": \"Series5\", \"Count\": 176, \"Day_count\": 366, \"Perc\": 0.4808743169398907, \"Site\": \"919009\"}, {\"index\": \"1973-01-01T00:00:00\", \"Series\": \"Series5\", \"Count\": 365, \"Day_count\": 365, \"Perc\": 1.0, \"Site\": \"919009\"}, {\"index\": \"1974-01-01T00:00:00\", \"Series\": \"Series5\", \"Count\": 365, \"Day_count\": 365, \"Perc\": 1.0, \"Site\": \"919009\"}, {\"index\": \"1975-01-01T00:00:00\", \"Series\": \"Series5\", \"Count\": 365, \"Day_count\": 365, \"Perc\": 1.0, \"Site\": \"919009\"}, {\"index\": \"1976-01-01T00:00:00\", \"Series\": \"Series5\", \"Count\": 366, \"Day_count\": 366, \"Perc\": 1.0, \"Site\": \"919009\"}, {\"index\": \"1977-01-01T00:00:00\", \"Series\": \"Series5\", \"Count\": 365, \"Day_count\": 365, \"Perc\": 1.0, \"Site\": \"919009\"}, {\"index\": \"1978-01-01T00:00:00\", \"Series\": \"Series5\", \"Count\": 365, \"Day_count\": 365, \"Perc\": 1.0, \"Site\": \"919009\"}, {\"index\": \"1979-01-01T00:00:00\", \"Series\": \"Series5\", \"Count\": 365, \"Day_count\": 365, \"Perc\": 1.0, \"Site\": \"919009\"}, {\"index\": \"1980-01-01T00:00:00\", \"Series\": \"Series5\", \"Count\": 366, \"Day_count\": 366, \"Perc\": 1.0, \"Site\": \"919009\"}, {\"index\": \"1981-01-01T00:00:00\", \"Series\": \"Series5\", \"Count\": 365, \"Day_count\": 365, \"Perc\": 1.0, \"Site\": \"919009\"}, {\"index\": \"1982-01-01T00:00:00\", \"Series\": \"Series5\", \"Count\": 365, \"Day_count\": 365, \"Perc\": 1.0, \"Site\": \"919009\"}, {\"index\": \"1983-01-01T00:00:00\", \"Series\": \"Series5\", \"Count\": 365, \"Day_count\": 365, \"Perc\": 1.0, \"Site\": \"919009\"}, {\"index\": \"1984-01-01T00:00:00\", \"Series\": \"Series5\", \"Count\": 366, \"Day_count\": 366, \"Perc\": 1.0, \"Site\": \"919009\"}, {\"index\": \"1985-01-01T00:00:00\", \"Series\": \"Series5\", \"Count\": 365, \"Day_count\": 365, \"Perc\": 1.0, \"Site\": \"919009\"}, {\"index\": \"1986-01-01T00:00:00\", \"Series\": \"Series5\", \"Count\": 365, \"Day_count\": 365, \"Perc\": 1.0, \"Site\": \"919009\"}, {\"index\": \"1987-01-01T00:00:00\", \"Series\": \"Series5\", \"Count\": 365, \"Day_count\": 365, \"Perc\": 1.0, \"Site\": \"919009\"}, {\"index\": \"1988-01-01T00:00:00\", \"Series\": \"Series5\", \"Count\": 293, \"Day_count\": 366, \"Perc\": 0.8005464480874317, \"Site\": \"919009\"}, {\"index\": \"1992-01-01T00:00:00\", \"Series\": \"Series5\", \"Count\": 238, \"Day_count\": 366, \"Perc\": 0.6502732240437158, \"Site\": \"919009\"}, {\"index\": \"1993-01-01T00:00:00\", \"Series\": \"Series5\", \"Count\": 30, \"Day_count\": 365, \"Perc\": 0.0821917808219178, \"Site\": \"919009\"}, {\"index\": \"1994-01-01T00:00:00\", \"Series\": \"Series5\", \"Count\": 232, \"Day_count\": 365, \"Perc\": 0.6356164383561644, \"Site\": \"919009\"}, {\"index\": \"1995-01-01T00:00:00\", \"Series\": \"Series5\", \"Count\": 365, \"Day_count\": 365, \"Perc\": 1.0, \"Site\": \"919009\"}, {\"index\": \"1996-01-01T00:00:00\", \"Series\": \"Series5\", \"Count\": 366, \"Day_count\": 366, \"Perc\": 1.0, \"Site\": \"919009\"}, {\"index\": \"1997-01-01T00:00:00\", \"Series\": \"Series5\", \"Count\": 365, \"Day_count\": 365, \"Perc\": 1.0, \"Site\": \"919009\"}, {\"index\": \"1998-01-01T00:00:00\", \"Series\": \"Series5\", \"Count\": 216, \"Day_count\": 365, \"Perc\": 0.5917808219178082, \"Site\": \"919009\"}, {\"index\": \"1999-01-01T00:00:00\", \"Series\": \"Series5\", \"Count\": 365, \"Day_count\": 365, \"Perc\": 1.0, \"Site\": \"919009\"}, {\"index\": \"2000-01-01T00:00:00\", \"Series\": \"Series5\", \"Count\": 366, \"Day_count\": 366, \"Perc\": 1.0, \"Site\": \"919009\"}, {\"index\": \"2001-01-01T00:00:00\", \"Series\": \"Series5\", \"Count\": 365, \"Day_count\": 365, \"Perc\": 1.0, \"Site\": \"919009\"}, {\"index\": \"2002-01-01T00:00:00\", \"Series\": \"Series5\", \"Count\": 365, \"Day_count\": 365, \"Perc\": 1.0, \"Site\": \"919009\"}, {\"index\": \"2003-01-01T00:00:00\", \"Series\": \"Series5\", \"Count\": 365, \"Day_count\": 365, \"Perc\": 1.0, \"Site\": \"919009\"}, {\"index\": \"2004-01-01T00:00:00\", \"Series\": \"Series5\", \"Count\": 366, \"Day_count\": 366, \"Perc\": 1.0, \"Site\": \"919009\"}, {\"index\": \"2005-01-01T00:00:00\", \"Series\": \"Series5\", \"Count\": 365, \"Day_count\": 365, \"Perc\": 1.0, \"Site\": \"919009\"}, {\"index\": \"2006-01-01T00:00:00\", \"Series\": \"Series5\", \"Count\": 365, \"Day_count\": 365, \"Perc\": 1.0, \"Site\": \"919009\"}, {\"index\": \"2007-01-01T00:00:00\", \"Series\": \"Series5\", \"Count\": 365, \"Day_count\": 365, \"Perc\": 1.0, \"Site\": \"919009\"}, {\"index\": \"2008-01-01T00:00:00\", \"Series\": \"Series5\", \"Count\": 285, \"Day_count\": 366, \"Perc\": 0.7786885245901639, \"Site\": \"919009\"}, {\"index\": \"2009-01-01T00:00:00\", \"Series\": \"Series4\", \"Count\": 53, \"Day_count\": 365, \"Perc\": 0.14520547945205478, \"Site\": \"919009\"}, {\"index\": \"2009-01-01T00:00:00\", \"Series\": \"Series5\", \"Count\": 234, \"Day_count\": 365, \"Perc\": 0.6410958904109589, \"Site\": \"919009\"}, {\"index\": \"2010-01-01T00:00:00\", \"Series\": \"Series4\", \"Count\": 365, \"Day_count\": 365, \"Perc\": 1.0, \"Site\": \"919009\"}, {\"index\": \"2011-01-01T00:00:00\", \"Series\": \"Series4\", \"Count\": 365, \"Day_count\": 365, \"Perc\": 1.0, \"Site\": \"919009\"}, {\"index\": \"2012-01-01T00:00:00\", \"Series\": \"Series4\", \"Count\": 366, \"Day_count\": 366, \"Perc\": 1.0, \"Site\": \"919009\"}, {\"index\": \"2013-01-01T00:00:00\", \"Series\": \"Series4\", \"Count\": 365, \"Day_count\": 365, \"Perc\": 1.0, \"Site\": \"919009\"}, {\"index\": \"2014-01-01T00:00:00\", \"Series\": \"Series4\", \"Count\": 365, \"Day_count\": 365, \"Perc\": 1.0, \"Site\": \"919009\"}, {\"index\": \"2015-01-01T00:00:00\", \"Series\": \"Series4\", \"Count\": 308, \"Day_count\": 365, \"Perc\": 0.8438356164383561, \"Site\": \"919009\"}], \"data-6ab3077922bc200046cff8915352931c\": [{\"key\": \"Series0\", \"c\": \"C gauge data\"}, {\"key\": \"Series1\", \"c\": \"B gauge data\"}, {\"key\": \"Series2\", \"c\": \"A gauge data\"}, {\"key\": \"Series3\", \"c\": \"A gauge data\"}, {\"key\": \"Series4\", \"c\": \"B gauge data\"}, {\"key\": \"Series5\", \"c\": \"A gauge data\"}]}}, {\"mode\": \"vega-lite\"});\n",
       "</script>"
      ],
      "text/plain": [
       "alt.Chart(...)"
      ]
     },
     "execution_count": 11,
     "metadata": {},
     "output_type": "execute_result"
    }
   ],
   "source": [
    "dflist=[ts1[\"Total\"],ts2[\"Total\"],ts3[\"Total\"],ts4[\"Total\"],ts5[\"Total\"],ts6[\"Total\"]]\n",
    "sites=[\"919001\",\"919001\",\"919001\",\"919003\",\"919009\",\"919009\"]\n",
    "series=[\"C gauge data\",\"B gauge data\",\"A gauge data\",\"A gauge data\",\"B gauge data\",\"A gauge data\"]\n",
    "\n",
    "opl.pyblo(dflist,sites,series)"
   ]
  },
  {
   "cell_type": "markdown",
   "metadata": {},
   "source": [
    "### Example 3 - Customising charts"
   ]
  },
  {
   "cell_type": "code",
   "execution_count": 9,
   "metadata": {},
   "outputs": [
    {
     "data": {
      "text/html": [
       "\n",
       "<style>\n",
       "  #altair-viz-00de630e4ba04798a060a2c371566b2e.vega-embed {\n",
       "    width: 100%;\n",
       "    display: flex;\n",
       "  }\n",
       "\n",
       "  #altair-viz-00de630e4ba04798a060a2c371566b2e.vega-embed details,\n",
       "  #altair-viz-00de630e4ba04798a060a2c371566b2e.vega-embed details summary {\n",
       "    position: relative;\n",
       "  }\n",
       "</style>\n",
       "<div id=\"altair-viz-00de630e4ba04798a060a2c371566b2e\"></div>\n",
       "<script type=\"text/javascript\">\n",
       "  var VEGA_DEBUG = (typeof VEGA_DEBUG == \"undefined\") ? {} : VEGA_DEBUG;\n",
       "  (function(spec, embedOpt){\n",
       "    let outputDiv = document.currentScript.previousElementSibling;\n",
       "    if (outputDiv.id !== \"altair-viz-00de630e4ba04798a060a2c371566b2e\") {\n",
       "      outputDiv = document.getElementById(\"altair-viz-00de630e4ba04798a060a2c371566b2e\");\n",
       "    }\n",
       "    const paths = {\n",
       "      \"vega\": \"https://cdn.jsdelivr.net/npm/vega@5?noext\",\n",
       "      \"vega-lib\": \"https://cdn.jsdelivr.net/npm/vega-lib?noext\",\n",
       "      \"vega-lite\": \"https://cdn.jsdelivr.net/npm/vega-lite@5.8.0?noext\",\n",
       "      \"vega-embed\": \"https://cdn.jsdelivr.net/npm/vega-embed@6?noext\",\n",
       "    };\n",
       "\n",
       "    function maybeLoadScript(lib, version) {\n",
       "      var key = `${lib.replace(\"-\", \"\")}_version`;\n",
       "      return (VEGA_DEBUG[key] == version) ?\n",
       "        Promise.resolve(paths[lib]) :\n",
       "        new Promise(function(resolve, reject) {\n",
       "          var s = document.createElement('script');\n",
       "          document.getElementsByTagName(\"head\")[0].appendChild(s);\n",
       "          s.async = true;\n",
       "          s.onload = () => {\n",
       "            VEGA_DEBUG[key] = version;\n",
       "            return resolve(paths[lib]);\n",
       "          };\n",
       "          s.onerror = () => reject(`Error loading script: ${paths[lib]}`);\n",
       "          s.src = paths[lib];\n",
       "        });\n",
       "    }\n",
       "\n",
       "    function showError(err) {\n",
       "      outputDiv.innerHTML = `<div class=\"error\" style=\"color:red;\">${err}</div>`;\n",
       "      throw err;\n",
       "    }\n",
       "\n",
       "    function displayChart(vegaEmbed) {\n",
       "      vegaEmbed(outputDiv, spec, embedOpt)\n",
       "        .catch(err => showError(`Javascript Error: ${err.message}<br>This usually means there's a typo in your chart specification. See the javascript console for the full traceback.`));\n",
       "    }\n",
       "\n",
       "    if(typeof define === \"function\" && define.amd) {\n",
       "      requirejs.config({paths});\n",
       "      require([\"vega-embed\"], displayChart, err => showError(`Error loading script: ${err.message}`));\n",
       "    } else {\n",
       "      maybeLoadScript(\"vega\", \"5\")\n",
       "        .then(() => maybeLoadScript(\"vega-lite\", \"5.8.0\"))\n",
       "        .then(() => maybeLoadScript(\"vega-embed\", \"6\"))\n",
       "        .catch(showError)\n",
       "        .then(() => displayChart(vegaEmbed));\n",
       "    }\n",
       "  })({\"config\": {\"view\": {\"continuousWidth\": 300, \"continuousHeight\": 300, \"stroke\": \"black\"}, \"axis\": {\"labelFontSize\": 16, \"titleFontSize\": 16}, \"headerRow\": {\"labelFontSize\": 16, \"titleFontSize\": 16}, \"legend\": {\"labelFontSize\": 16, \"titleFontSize\": 16}}, \"data\": {\"name\": \"data-95cdd0d780bb22ce7a4b4bd1675b5076\"}, \"mark\": {\"type\": \"bar\", \"clip\": true, \"width\": {\"band\": 1}}, \"encoding\": {\"color\": {\"field\": \"c\", \"scale\": {\"range\": [\"black\", \"grey\", \"lightgrey\"]}, \"sort\": [\"A gauge data\", \"B gauge data\", \"C gauge data\"], \"title\": \"Gauge data\", \"type\": \"nominal\"}, \"order\": {\"field\": \"color_c_sort_index\", \"type\": \"quantitative\"}, \"row\": {\"field\": \"Site\", \"header\": {\"labelAlign\": \"left\", \"labelAngle\": 0, \"labelOrient\": \"left\"}, \"sort\": [\"919009\", \"919003\", \"919001\"], \"spacing\": 0, \"title\": \"Gauge sites\"}, \"stroke\": {\"value\": \"white\"}, \"strokeWidth\": {\"condition\": {\"test\": \"datum.Perc > 0\", \"value\": 0.3}, \"value\": 0}, \"tooltip\": [{\"field\": \"Perc\", \"format\": \".1%\", \"title\": \"Percentage\", \"type\": \"quantitative\"}, {\"field\": \"c\", \"title\": \"Gauge data\", \"type\": \"nominal\"}, {\"field\": \"index\", \"format\": \"%Y\", \"title\": \"Water Year\", \"type\": \"temporal\"}], \"x\": {\"axis\": {\"grid\": true, \"gridColor\": \"white\", \"labelAngle\": 90, \"labelExpr\": \"year(datum.value) % 20 ? null : datum.label\", \"labelPadding\": 5, \"orient\": \"top\", \"tickCount\": 999999, \"ticks\": false, \"title\": null}, \"field\": \"index\", \"scale\": {\"domain\": [\"1929-01-01T00:00:00\", \"2015-01-01T00:00:00\"]}, \"timeUnit\": \"year\", \"type\": \"temporal\"}, \"y\": {\"axis\": {\"format\": \".1%\", \"tickCount\": 0}, \"field\": \"Perc\", \"scale\": {\"domain\": [0, 1]}, \"stack\": \"zero\", \"title\": null, \"type\": \"quantitative\"}}, \"height\": 50, \"title\": {\"text\": [\"Annual (July to June) percentage of available data: 01/07/1929 - 30/06/2015\"], \"anchor\": \"start\", \"baseline\": \"bottom\", \"fontSize\": 14.4, \"fontStyle\": \"italic\", \"fontWeight\": \"normal\", \"offset\": 28.8, \"orient\": \"bottom\"}, \"transform\": [{\"lookup\": \"Series\", \"from\": {\"data\": {\"name\": \"data-6ab3077922bc200046cff8915352931c\"}, \"key\": \"key\", \"fields\": [\"c\"]}}], \"width\": 800, \"$schema\": \"https://vega.github.io/schema/vega-lite/v5.8.0.json\", \"datasets\": {\"data-95cdd0d780bb22ce7a4b4bd1675b5076\": [{\"index\": \"1972-01-01T00:00:00\", \"Series\": \"Series5\", \"Count\": 357, \"Day_count\": 365, \"Perc\": 0.9780821917808219, \"Site\": \"919009\"}, {\"index\": \"1973-01-01T00:00:00\", \"Series\": \"Series5\", \"Count\": 365, \"Day_count\": 365, \"Perc\": 1.0, \"Site\": \"919009\"}, {\"index\": \"1974-01-01T00:00:00\", \"Series\": \"Series5\", \"Count\": 365, \"Day_count\": 365, \"Perc\": 1.0, \"Site\": \"919009\"}, {\"index\": \"1975-01-01T00:00:00\", \"Series\": \"Series5\", \"Count\": 366, \"Day_count\": 366, \"Perc\": 1.0, \"Site\": \"919009\"}, {\"index\": \"1976-01-01T00:00:00\", \"Series\": \"Series5\", \"Count\": 365, \"Day_count\": 365, \"Perc\": 1.0, \"Site\": \"919009\"}, {\"index\": \"1977-01-01T00:00:00\", \"Series\": \"Series5\", \"Count\": 365, \"Day_count\": 365, \"Perc\": 1.0, \"Site\": \"919009\"}, {\"index\": \"1978-01-01T00:00:00\", \"Series\": \"Series5\", \"Count\": 365, \"Day_count\": 365, \"Perc\": 1.0, \"Site\": \"919009\"}, {\"index\": \"1979-01-01T00:00:00\", \"Series\": \"Series5\", \"Count\": 366, \"Day_count\": 366, \"Perc\": 1.0, \"Site\": \"919009\"}, {\"index\": \"1980-01-01T00:00:00\", \"Series\": \"Series5\", \"Count\": 365, \"Day_count\": 365, \"Perc\": 1.0, \"Site\": \"919009\"}, {\"index\": \"1981-01-01T00:00:00\", \"Series\": \"Series5\", \"Count\": 365, \"Day_count\": 365, \"Perc\": 1.0, \"Site\": \"919009\"}, {\"index\": \"1982-01-01T00:00:00\", \"Series\": \"Series5\", \"Count\": 365, \"Day_count\": 365, \"Perc\": 1.0, \"Site\": \"919009\"}, {\"index\": \"1983-01-01T00:00:00\", \"Series\": \"Series5\", \"Count\": 366, \"Day_count\": 366, \"Perc\": 1.0, \"Site\": \"919009\"}, {\"index\": \"1984-01-01T00:00:00\", \"Series\": \"Series5\", \"Count\": 365, \"Day_count\": 365, \"Perc\": 1.0, \"Site\": \"919009\"}, {\"index\": \"1985-01-01T00:00:00\", \"Series\": \"Series5\", \"Count\": 365, \"Day_count\": 365, \"Perc\": 1.0, \"Site\": \"919009\"}, {\"index\": \"1986-01-01T00:00:00\", \"Series\": \"Series5\", \"Count\": 365, \"Day_count\": 365, \"Perc\": 1.0, \"Site\": \"919009\"}, {\"index\": \"1987-01-01T00:00:00\", \"Series\": \"Series5\", \"Count\": 366, \"Day_count\": 366, \"Perc\": 1.0, \"Site\": \"919009\"}, {\"index\": \"1988-01-01T00:00:00\", \"Series\": \"Series5\", \"Count\": 111, \"Day_count\": 365, \"Perc\": 0.3041095890410959, \"Site\": \"919009\"}, {\"index\": \"1991-01-01T00:00:00\", \"Series\": \"Series5\", \"Count\": 54, \"Day_count\": 366, \"Perc\": 0.14754098360655737, \"Site\": \"919009\"}, {\"index\": \"1992-01-01T00:00:00\", \"Series\": \"Series5\", \"Count\": 214, \"Day_count\": 365, \"Perc\": 0.5863013698630137, \"Site\": \"919009\"}, {\"index\": \"1993-01-01T00:00:00\", \"Series\": \"Series5\", \"Count\": 48, \"Day_count\": 365, \"Perc\": 0.13150684931506848, \"Site\": \"919009\"}, {\"index\": \"1994-01-01T00:00:00\", \"Series\": \"Series5\", \"Count\": 365, \"Day_count\": 365, \"Perc\": 1.0, \"Site\": \"919009\"}, {\"index\": \"1995-01-01T00:00:00\", \"Series\": \"Series5\", \"Count\": 366, \"Day_count\": 366, \"Perc\": 1.0, \"Site\": \"919009\"}, {\"index\": \"1996-01-01T00:00:00\", \"Series\": \"Series5\", \"Count\": 365, \"Day_count\": 365, \"Perc\": 1.0, \"Site\": \"919009\"}, {\"index\": \"1997-01-01T00:00:00\", \"Series\": \"Series5\", \"Count\": 216, \"Day_count\": 365, \"Perc\": 0.5917808219178082, \"Site\": \"919009\"}, {\"index\": \"1998-01-01T00:00:00\", \"Series\": \"Series5\", \"Count\": 365, \"Day_count\": 365, \"Perc\": 1.0, \"Site\": \"919009\"}, {\"index\": \"1999-01-01T00:00:00\", \"Series\": \"Series5\", \"Count\": 366, \"Day_count\": 366, \"Perc\": 1.0, \"Site\": \"919009\"}, {\"index\": \"2000-01-01T00:00:00\", \"Series\": \"Series5\", \"Count\": 365, \"Day_count\": 365, \"Perc\": 1.0, \"Site\": \"919009\"}, {\"index\": \"2001-01-01T00:00:00\", \"Series\": \"Series5\", \"Count\": 365, \"Day_count\": 365, \"Perc\": 1.0, \"Site\": \"919009\"}, {\"index\": \"2002-01-01T00:00:00\", \"Series\": \"Series5\", \"Count\": 365, \"Day_count\": 365, \"Perc\": 1.0, \"Site\": \"919009\"}, {\"index\": \"2003-01-01T00:00:00\", \"Series\": \"Series5\", \"Count\": 366, \"Day_count\": 366, \"Perc\": 1.0, \"Site\": \"919009\"}, {\"index\": \"2004-01-01T00:00:00\", \"Series\": \"Series5\", \"Count\": 365, \"Day_count\": 365, \"Perc\": 1.0, \"Site\": \"919009\"}, {\"index\": \"2005-01-01T00:00:00\", \"Series\": \"Series5\", \"Count\": 365, \"Day_count\": 365, \"Perc\": 1.0, \"Site\": \"919009\"}, {\"index\": \"2006-01-01T00:00:00\", \"Series\": \"Series5\", \"Count\": 365, \"Day_count\": 365, \"Perc\": 1.0, \"Site\": \"919009\"}, {\"index\": \"2007-01-01T00:00:00\", \"Series\": \"Series5\", \"Count\": 285, \"Day_count\": 366, \"Perc\": 0.7786885245901639, \"Site\": \"919009\"}, {\"index\": \"2008-01-01T00:00:00\", \"Series\": \"Series5\", \"Count\": 346, \"Day_count\": 365, \"Perc\": 0.947945205479452, \"Site\": \"919009\"}, {\"index\": \"2009-01-01T00:00:00\", \"Series\": \"Series5\", \"Count\": 306, \"Day_count\": 365, \"Perc\": 0.8383561643835616, \"Site\": \"919009\"}, {\"index\": \"2010-01-01T00:00:00\", \"Series\": \"Series4\", \"Count\": 232, \"Day_count\": 365, \"Perc\": 0.6356164383561644, \"Site\": \"919009\"}, {\"index\": \"2010-01-01T00:00:00\", \"Series\": \"Series5\", \"Count\": 133, \"Day_count\": 365, \"Perc\": 0.3643835616438356, \"Site\": \"919009\"}, {\"index\": \"2011-01-01T00:00:00\", \"Series\": \"Series4\", \"Count\": 366, \"Day_count\": 366, \"Perc\": 1.0, \"Site\": \"919009\"}, {\"index\": \"2012-01-01T00:00:00\", \"Series\": \"Series4\", \"Count\": 365, \"Day_count\": 365, \"Perc\": 1.0, \"Site\": \"919009\"}, {\"index\": \"2013-01-01T00:00:00\", \"Series\": \"Series4\", \"Count\": 365, \"Day_count\": 365, \"Perc\": 1.0, \"Site\": \"919009\"}, {\"index\": \"2014-01-01T00:00:00\", \"Series\": \"Series4\", \"Count\": 365, \"Day_count\": 365, \"Perc\": 1.0, \"Site\": \"919009\"}, {\"index\": \"2015-01-01T00:00:00\", \"Series\": \"Series4\", \"Count\": 127, \"Day_count\": 366, \"Perc\": 0.3469945355191257, \"Site\": \"919009\"}, {\"index\": \"1967-01-01T00:00:00\", \"Series\": \"Series3\", \"Count\": 258, \"Day_count\": 366, \"Perc\": 0.7049180327868853, \"Site\": \"919003\"}, {\"index\": \"1968-01-01T00:00:00\", \"Series\": \"Series3\", \"Count\": 365, \"Day_count\": 365, \"Perc\": 1.0, \"Site\": \"919003\"}, {\"index\": \"1969-01-01T00:00:00\", \"Series\": \"Series3\", \"Count\": 365, \"Day_count\": 365, \"Perc\": 1.0, \"Site\": \"919003\"}, {\"index\": \"1970-01-01T00:00:00\", \"Series\": \"Series3\", \"Count\": 323, \"Day_count\": 365, \"Perc\": 0.8849315068493151, \"Site\": \"919003\"}, {\"index\": \"1971-01-01T00:00:00\", \"Series\": \"Series3\", \"Count\": 366, \"Day_count\": 366, \"Perc\": 1.0, \"Site\": \"919003\"}, {\"index\": \"1972-01-01T00:00:00\", \"Series\": \"Series3\", \"Count\": 365, \"Day_count\": 365, \"Perc\": 1.0, \"Site\": \"919003\"}, {\"index\": \"1973-01-01T00:00:00\", \"Series\": \"Series3\", \"Count\": 365, \"Day_count\": 365, \"Perc\": 1.0, \"Site\": \"919003\"}, {\"index\": \"1974-01-01T00:00:00\", \"Series\": \"Series3\", \"Count\": 365, \"Day_count\": 365, \"Perc\": 1.0, \"Site\": \"919003\"}, {\"index\": \"1975-01-01T00:00:00\", \"Series\": \"Series3\", \"Count\": 366, \"Day_count\": 366, \"Perc\": 1.0, \"Site\": \"919003\"}, {\"index\": \"1976-01-01T00:00:00\", \"Series\": \"Series3\", \"Count\": 365, \"Day_count\": 365, \"Perc\": 1.0, \"Site\": \"919003\"}, {\"index\": \"1977-01-01T00:00:00\", \"Series\": \"Series3\", \"Count\": 365, \"Day_count\": 365, \"Perc\": 1.0, \"Site\": \"919003\"}, {\"index\": \"1978-01-01T00:00:00\", \"Series\": \"Series3\", \"Count\": 365, \"Day_count\": 365, \"Perc\": 1.0, \"Site\": \"919003\"}, {\"index\": \"1979-01-01T00:00:00\", \"Series\": \"Series3\", \"Count\": 366, \"Day_count\": 366, \"Perc\": 1.0, \"Site\": \"919003\"}, {\"index\": \"1980-01-01T00:00:00\", \"Series\": \"Series3\", \"Count\": 365, \"Day_count\": 365, \"Perc\": 1.0, \"Site\": \"919003\"}, {\"index\": \"1981-01-01T00:00:00\", \"Series\": \"Series3\", \"Count\": 365, \"Day_count\": 365, \"Perc\": 1.0, \"Site\": \"919003\"}, {\"index\": \"1982-01-01T00:00:00\", \"Series\": \"Series3\", \"Count\": 365, \"Day_count\": 365, \"Perc\": 1.0, \"Site\": \"919003\"}, {\"index\": \"1983-01-01T00:00:00\", \"Series\": \"Series3\", \"Count\": 366, \"Day_count\": 366, \"Perc\": 1.0, \"Site\": \"919003\"}, {\"index\": \"1984-01-01T00:00:00\", \"Series\": \"Series3\", \"Count\": 276, \"Day_count\": 365, \"Perc\": 0.7561643835616438, \"Site\": \"919003\"}, {\"index\": \"1985-01-01T00:00:00\", \"Series\": \"Series3\", \"Count\": 306, \"Day_count\": 365, \"Perc\": 0.8383561643835616, \"Site\": \"919003\"}, {\"index\": \"1986-01-01T00:00:00\", \"Series\": \"Series3\", \"Count\": 365, \"Day_count\": 365, \"Perc\": 1.0, \"Site\": \"919003\"}, {\"index\": \"1987-01-01T00:00:00\", \"Series\": \"Series3\", \"Count\": 289, \"Day_count\": 366, \"Perc\": 0.7896174863387978, \"Site\": \"919003\"}, {\"index\": \"1988-01-01T00:00:00\", \"Series\": \"Series3\", \"Count\": 263, \"Day_count\": 365, \"Perc\": 0.7205479452054795, \"Site\": \"919003\"}, {\"index\": \"1989-01-01T00:00:00\", \"Series\": \"Series3\", \"Count\": 365, \"Day_count\": 365, \"Perc\": 1.0, \"Site\": \"919003\"}, {\"index\": \"1990-01-01T00:00:00\", \"Series\": \"Series3\", \"Count\": 241, \"Day_count\": 365, \"Perc\": 0.6602739726027397, \"Site\": \"919003\"}, {\"index\": \"1991-01-01T00:00:00\", \"Series\": \"Series3\", \"Count\": 313, \"Day_count\": 366, \"Perc\": 0.855191256830601, \"Site\": \"919003\"}, {\"index\": \"1992-01-01T00:00:00\", \"Series\": \"Series3\", \"Count\": 306, \"Day_count\": 365, \"Perc\": 0.8383561643835616, \"Site\": \"919003\"}, {\"index\": \"1993-01-01T00:00:00\", \"Series\": \"Series3\", \"Count\": 365, \"Day_count\": 365, \"Perc\": 1.0, \"Site\": \"919003\"}, {\"index\": \"1994-01-01T00:00:00\", \"Series\": \"Series3\", \"Count\": 365, \"Day_count\": 365, \"Perc\": 1.0, \"Site\": \"919003\"}, {\"index\": \"1995-01-01T00:00:00\", \"Series\": \"Series3\", \"Count\": 297, \"Day_count\": 366, \"Perc\": 0.8114754098360656, \"Site\": \"919003\"}, {\"index\": \"1996-01-01T00:00:00\", \"Series\": \"Series3\", \"Count\": 138, \"Day_count\": 365, \"Perc\": 0.3780821917808219, \"Site\": \"919003\"}, {\"index\": \"1997-01-01T00:00:00\", \"Series\": \"Series3\", \"Count\": 189, \"Day_count\": 365, \"Perc\": 0.5178082191780822, \"Site\": \"919003\"}, {\"index\": \"1998-01-01T00:00:00\", \"Series\": \"Series3\", \"Count\": 365, \"Day_count\": 365, \"Perc\": 1.0, \"Site\": \"919003\"}, {\"index\": \"1999-01-01T00:00:00\", \"Series\": \"Series3\", \"Count\": 276, \"Day_count\": 366, \"Perc\": 0.7540983606557377, \"Site\": \"919003\"}, {\"index\": \"2000-01-01T00:00:00\", \"Series\": \"Series3\", \"Count\": 365, \"Day_count\": 365, \"Perc\": 1.0, \"Site\": \"919003\"}, {\"index\": \"2001-01-01T00:00:00\", \"Series\": \"Series3\", \"Count\": 365, \"Day_count\": 365, \"Perc\": 1.0, \"Site\": \"919003\"}, {\"index\": \"2002-01-01T00:00:00\", \"Series\": \"Series3\", \"Count\": 365, \"Day_count\": 365, \"Perc\": 1.0, \"Site\": \"919003\"}, {\"index\": \"2003-01-01T00:00:00\", \"Series\": \"Series3\", \"Count\": 366, \"Day_count\": 366, \"Perc\": 1.0, \"Site\": \"919003\"}, {\"index\": \"2004-01-01T00:00:00\", \"Series\": \"Series3\", \"Count\": 365, \"Day_count\": 365, \"Perc\": 1.0, \"Site\": \"919003\"}, {\"index\": \"2005-01-01T00:00:00\", \"Series\": \"Series3\", \"Count\": 365, \"Day_count\": 365, \"Perc\": 1.0, \"Site\": \"919003\"}, {\"index\": \"2006-01-01T00:00:00\", \"Series\": \"Series3\", \"Count\": 365, \"Day_count\": 365, \"Perc\": 1.0, \"Site\": \"919003\"}, {\"index\": \"2007-01-01T00:00:00\", \"Series\": \"Series3\", \"Count\": 366, \"Day_count\": 366, \"Perc\": 1.0, \"Site\": \"919003\"}, {\"index\": \"2008-01-01T00:00:00\", \"Series\": \"Series3\", \"Count\": 365, \"Day_count\": 365, \"Perc\": 1.0, \"Site\": \"919003\"}, {\"index\": \"2009-01-01T00:00:00\", \"Series\": \"Series3\", \"Count\": 365, \"Day_count\": 365, \"Perc\": 1.0, \"Site\": \"919003\"}, {\"index\": \"2010-01-01T00:00:00\", \"Series\": \"Series3\", \"Count\": 365, \"Day_count\": 365, \"Perc\": 1.0, \"Site\": \"919003\"}, {\"index\": \"2011-01-01T00:00:00\", \"Series\": \"Series3\", \"Count\": 366, \"Day_count\": 366, \"Perc\": 1.0, \"Site\": \"919003\"}, {\"index\": \"2012-01-01T00:00:00\", \"Series\": \"Series3\", \"Count\": 365, \"Day_count\": 365, \"Perc\": 1.0, \"Site\": \"919003\"}, {\"index\": \"2013-01-01T00:00:00\", \"Series\": \"Series3\", \"Count\": 365, \"Day_count\": 365, \"Perc\": 1.0, \"Site\": \"919003\"}, {\"index\": \"2014-01-01T00:00:00\", \"Series\": \"Series3\", \"Count\": 365, \"Day_count\": 365, \"Perc\": 1.0, \"Site\": \"919003\"}, {\"index\": \"2015-01-01T00:00:00\", \"Series\": \"Series3\", \"Count\": 127, \"Day_count\": 366, \"Perc\": 0.3469945355191257, \"Site\": \"919003\"}, {\"index\": \"1969-01-01T00:00:00\", \"Series\": \"Series1\", \"Count\": 125, \"Day_count\": 365, \"Perc\": 0.3424657534246575, \"Site\": \"919001\"}, {\"index\": \"1970-01-01T00:00:00\", \"Series\": \"Series1\", \"Count\": 365, \"Day_count\": 365, \"Perc\": 1.0, \"Site\": \"919001\"}, {\"index\": \"1971-01-01T00:00:00\", \"Series\": \"Series1\", \"Count\": 366, \"Day_count\": 366, \"Perc\": 1.0, \"Site\": \"919001\"}, {\"index\": \"1972-01-01T00:00:00\", \"Series\": \"Series1\", \"Count\": 363, \"Day_count\": 365, \"Perc\": 0.9945205479452055, \"Site\": \"919001\"}, {\"index\": \"1973-01-01T00:00:00\", \"Series\": \"Series1\", \"Count\": 365, \"Day_count\": 365, \"Perc\": 1.0, \"Site\": \"919001\"}, {\"index\": \"1974-01-01T00:00:00\", \"Series\": \"Series1\", \"Count\": 365, \"Day_count\": 365, \"Perc\": 1.0, \"Site\": \"919001\"}, {\"index\": \"1975-01-01T00:00:00\", \"Series\": \"Series1\", \"Count\": 366, \"Day_count\": 366, \"Perc\": 1.0, \"Site\": \"919001\"}, {\"index\": \"1976-01-01T00:00:00\", \"Series\": \"Series1\", \"Count\": 365, \"Day_count\": 365, \"Perc\": 1.0, \"Site\": \"919001\"}, {\"index\": \"1977-01-01T00:00:00\", \"Series\": \"Series1\", \"Count\": 365, \"Day_count\": 365, \"Perc\": 1.0, \"Site\": \"919001\"}, {\"index\": \"1978-01-01T00:00:00\", \"Series\": \"Series1\", \"Count\": 365, \"Day_count\": 365, \"Perc\": 1.0, \"Site\": \"919001\"}, {\"index\": \"1979-01-01T00:00:00\", \"Series\": \"Series1\", \"Count\": 366, \"Day_count\": 366, \"Perc\": 1.0, \"Site\": \"919001\"}, {\"index\": \"1980-01-01T00:00:00\", \"Series\": \"Series1\", \"Count\": 365, \"Day_count\": 365, \"Perc\": 1.0, \"Site\": \"919001\"}, {\"index\": \"1981-01-01T00:00:00\", \"Series\": \"Series1\", \"Count\": 365, \"Day_count\": 365, \"Perc\": 1.0, \"Site\": \"919001\"}, {\"index\": \"1982-01-01T00:00:00\", \"Series\": \"Series1\", \"Count\": 365, \"Day_count\": 365, \"Perc\": 1.0, \"Site\": \"919001\"}, {\"index\": \"1983-01-01T00:00:00\", \"Series\": \"Series1\", \"Count\": 366, \"Day_count\": 366, \"Perc\": 1.0, \"Site\": \"919001\"}, {\"index\": \"1984-01-01T00:00:00\", \"Series\": \"Series1\", \"Count\": 365, \"Day_count\": 365, \"Perc\": 1.0, \"Site\": \"919001\"}, {\"index\": \"1985-01-01T00:00:00\", \"Series\": \"Series0\", \"Count\": 4, \"Day_count\": 365, \"Perc\": 0.010958904109589041, \"Site\": \"919001\"}, {\"index\": \"1985-01-01T00:00:00\", \"Series\": \"Series1\", \"Count\": 361, \"Day_count\": 365, \"Perc\": 0.989041095890411, \"Site\": \"919001\"}, {\"index\": \"1986-01-01T00:00:00\", \"Series\": \"Series0\", \"Count\": 365, \"Day_count\": 365, \"Perc\": 1.0, \"Site\": \"919001\"}, {\"index\": \"1987-01-01T00:00:00\", \"Series\": \"Series0\", \"Count\": 357, \"Day_count\": 366, \"Perc\": 0.9754098360655737, \"Site\": \"919001\"}, {\"index\": \"1988-01-01T00:00:00\", \"Series\": \"Series0\", \"Count\": 139, \"Day_count\": 365, \"Perc\": 0.38082191780821917, \"Site\": \"919001\"}], \"data-6ab3077922bc200046cff8915352931c\": [{\"key\": \"Series0\", \"c\": \"C gauge data\"}, {\"key\": \"Series1\", \"c\": \"B gauge data\"}, {\"key\": \"Series2\", \"c\": \"A gauge data\"}, {\"key\": \"Series3\", \"c\": \"A gauge data\"}, {\"key\": \"Series4\", \"c\": \"B gauge data\"}, {\"key\": \"Series5\", \"c\": \"A gauge data\"}]}}, {\"mode\": \"vega-lite\"});\n",
       "</script>"
      ],
      "text/plain": [
       "alt.Chart(...)"
      ]
     },
     "execution_count": 9,
     "metadata": {},
     "output_type": "execute_result"
    }
   ],
   "source": [
    "dflist=df_list\n",
    "sites=[\"919001\",\"919001\",\"919001\",\"919003\",\"919009\",\"919009\"]\n",
    "series=[\"C gauge data\",\"B gauge data\",\"A gauge data\",\"A gauge data\",\"B gauge data\",\"A gauge data\"]\n",
    "\n",
    "opl.pyblo(dflist,sites,series,\n",
    "          wy_month=7,\n",
    "          site_order=[\"919009\",\"919003\",\"919001\"],\n",
    "          series_order=[\"A gauge data\", \"B gauge data\", \"C gauge data\"],\n",
    "          colours=['black', 'grey', 'lightgrey'],\n",
    "          start_date=\"1930-01-01\",\n",
    "          end_date=\"2015-06-30\",\n",
    "          series_label=\"Gauge data\",\n",
    "          site_label=\"Gauge sites\",\n",
    "          label_freq=20,\n",
    "          subtitle=True,\n",
    "          width=800,\n",
    "          height=50,\n",
    "          stroke_width=0.3,\n",
    "          stroke_colour='white',\n",
    "          font_size=16,\n",
    "          grid_colour='white')"
   ]
  }
 ],
 "metadata": {
  "kernelspec": {
   "display_name": "py39",
   "language": "python",
   "name": "python3"
  },
  "language_info": {
   "codemirror_mode": {
    "name": "ipython",
    "version": 3
   },
   "file_extension": ".py",
   "mimetype": "text/x-python",
   "name": "python",
   "nbconvert_exporter": "python",
   "pygments_lexer": "ipython3",
   "version": "3.12.2"
  },
  "orig_nbformat": 4
 },
 "nbformat": 4,
 "nbformat_minor": 2
}
